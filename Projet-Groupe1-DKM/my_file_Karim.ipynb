{
 "cells": [
  {
   "cell_type": "markdown",
   "metadata": {},
   "source": [
    "Code de Rimka"
   ]
  },
  {
   "cell_type": "code",
   "execution_count": 162,
   "metadata": {},
   "outputs": [],
   "source": [
    "import os\n",
    "import numpy as np\n",
    "import pandas as pd\n",
    "import plotly.express as px\n",
    "from plotly.subplots import make_subplots\n",
    "import plotly.graph_objects as go\n",
    "import pandapower as pp\n",
    "import pp_heig_simulation as pp_sim\n",
    "import pp_heig_plot as pp_plot"
   ]
  },
  {
   "cell_type": "code",
   "execution_count": 163,
   "metadata": {},
   "outputs": [],
   "source": [
    "file_path = \"data/trey_power_network.xlsx\"  # ouverture OK\n",
    "net_ExPF1_Pb1_heig = pp_sim.load_net_from_xlsx(file_path=file_path)"
   ]
  },
  {
   "cell_type": "code",
   "execution_count": 164,
   "metadata": {},
   "outputs": [
    {
     "data": {
      "text/html": [
       "<div>\n",
       "<style scoped>\n",
       "    .dataframe tbody tr th:only-of-type {\n",
       "        vertical-align: middle;\n",
       "    }\n",
       "\n",
       "    .dataframe tbody tr th {\n",
       "        vertical-align: top;\n",
       "    }\n",
       "\n",
       "    .dataframe thead th {\n",
       "        text-align: right;\n",
       "    }\n",
       "</style>\n",
       "<table border=\"1\" class=\"dataframe\">\n",
       "  <thead>\n",
       "    <tr style=\"text-align: right;\">\n",
       "      <th></th>\n",
       "      <th>name</th>\n",
       "      <th>bus</th>\n",
       "      <th>p_mw</th>\n",
       "      <th>q_mvar</th>\n",
       "      <th>scaling</th>\n",
       "      <th>profile_mapping</th>\n",
       "      <th>const_z_percent</th>\n",
       "      <th>const_i_percent</th>\n",
       "      <th>sn_mva</th>\n",
       "      <th>in_service</th>\n",
       "      <th>type</th>\n",
       "    </tr>\n",
       "  </thead>\n",
       "  <tbody>\n",
       "    <tr>\n",
       "      <th>0</th>\n",
       "      <td>STMT003438</td>\n",
       "      <td>0</td>\n",
       "      <td>0.026</td>\n",
       "      <td>0.0100</td>\n",
       "      <td>1.0</td>\n",
       "      <td>0</td>\n",
       "      <td>0.0</td>\n",
       "      <td>0.0</td>\n",
       "      <td>None</td>\n",
       "      <td>True</td>\n",
       "      <td>wye</td>\n",
       "    </tr>\n",
       "    <tr>\n",
       "      <th>1</th>\n",
       "      <td>CDBT004764</td>\n",
       "      <td>1</td>\n",
       "      <td>0.037</td>\n",
       "      <td>0.0135</td>\n",
       "      <td>1.0</td>\n",
       "      <td>1</td>\n",
       "      <td>0.0</td>\n",
       "      <td>0.0</td>\n",
       "      <td>None</td>\n",
       "      <td>True</td>\n",
       "      <td>wye</td>\n",
       "    </tr>\n",
       "    <tr>\n",
       "      <th>2</th>\n",
       "      <td>CDBT003746</td>\n",
       "      <td>2</td>\n",
       "      <td>0.008</td>\n",
       "      <td>0.0030</td>\n",
       "      <td>1.0</td>\n",
       "      <td>2</td>\n",
       "      <td>0.0</td>\n",
       "      <td>0.0</td>\n",
       "      <td>None</td>\n",
       "      <td>True</td>\n",
       "      <td>wye</td>\n",
       "    </tr>\n",
       "    <tr>\n",
       "      <th>3</th>\n",
       "      <td>CDBT004760</td>\n",
       "      <td>3</td>\n",
       "      <td>0.011</td>\n",
       "      <td>0.0040</td>\n",
       "      <td>1.0</td>\n",
       "      <td>3</td>\n",
       "      <td>0.0</td>\n",
       "      <td>0.0</td>\n",
       "      <td>None</td>\n",
       "      <td>True</td>\n",
       "      <td>wye</td>\n",
       "    </tr>\n",
       "    <tr>\n",
       "      <th>4</th>\n",
       "      <td>CDBT012139</td>\n",
       "      <td>4</td>\n",
       "      <td>0.012</td>\n",
       "      <td>0.0040</td>\n",
       "      <td>1.0</td>\n",
       "      <td>4</td>\n",
       "      <td>0.0</td>\n",
       "      <td>0.0</td>\n",
       "      <td>None</td>\n",
       "      <td>True</td>\n",
       "      <td>wye</td>\n",
       "    </tr>\n",
       "    <tr>\n",
       "      <th>5</th>\n",
       "      <td>CDBT900784</td>\n",
       "      <td>5</td>\n",
       "      <td>0.009</td>\n",
       "      <td>0.0030</td>\n",
       "      <td>1.0</td>\n",
       "      <td>5</td>\n",
       "      <td>0.0</td>\n",
       "      <td>0.0</td>\n",
       "      <td>None</td>\n",
       "      <td>True</td>\n",
       "      <td>wye</td>\n",
       "    </tr>\n",
       "    <tr>\n",
       "      <th>6</th>\n",
       "      <td>CDBT901452</td>\n",
       "      <td>6</td>\n",
       "      <td>0.028</td>\n",
       "      <td>0.0105</td>\n",
       "      <td>1.0</td>\n",
       "      <td>6</td>\n",
       "      <td>0.0</td>\n",
       "      <td>0.0</td>\n",
       "      <td>None</td>\n",
       "      <td>True</td>\n",
       "      <td>wye</td>\n",
       "    </tr>\n",
       "    <tr>\n",
       "      <th>7</th>\n",
       "      <td>CDBT004774</td>\n",
       "      <td>7</td>\n",
       "      <td>0.014</td>\n",
       "      <td>0.0050</td>\n",
       "      <td>1.0</td>\n",
       "      <td>7</td>\n",
       "      <td>0.0</td>\n",
       "      <td>0.0</td>\n",
       "      <td>None</td>\n",
       "      <td>True</td>\n",
       "      <td>wye</td>\n",
       "    </tr>\n",
       "    <tr>\n",
       "      <th>8</th>\n",
       "      <td>CDBT901604</td>\n",
       "      <td>8</td>\n",
       "      <td>0.003</td>\n",
       "      <td>0.0010</td>\n",
       "      <td>1.0</td>\n",
       "      <td>8</td>\n",
       "      <td>0.0</td>\n",
       "      <td>0.0</td>\n",
       "      <td>None</td>\n",
       "      <td>True</td>\n",
       "      <td>wye</td>\n",
       "    </tr>\n",
       "    <tr>\n",
       "      <th>9</th>\n",
       "      <td>CDBT016055</td>\n",
       "      <td>9</td>\n",
       "      <td>0.011</td>\n",
       "      <td>0.0040</td>\n",
       "      <td>1.0</td>\n",
       "      <td>9</td>\n",
       "      <td>0.0</td>\n",
       "      <td>0.0</td>\n",
       "      <td>None</td>\n",
       "      <td>True</td>\n",
       "      <td>wye</td>\n",
       "    </tr>\n",
       "    <tr>\n",
       "      <th>10</th>\n",
       "      <td>N1</td>\n",
       "      <td>10</td>\n",
       "      <td>0.003</td>\n",
       "      <td>0.0010</td>\n",
       "      <td>1.0</td>\n",
       "      <td>10</td>\n",
       "      <td>0.0</td>\n",
       "      <td>0.0</td>\n",
       "      <td>None</td>\n",
       "      <td>True</td>\n",
       "      <td>wye</td>\n",
       "    </tr>\n",
       "    <tr>\n",
       "      <th>11</th>\n",
       "      <td>60437</td>\n",
       "      <td>11</td>\n",
       "      <td>0.003</td>\n",
       "      <td>0.0010</td>\n",
       "      <td>1.0</td>\n",
       "      <td>11</td>\n",
       "      <td>0.0</td>\n",
       "      <td>0.0</td>\n",
       "      <td>None</td>\n",
       "      <td>True</td>\n",
       "      <td>wye</td>\n",
       "    </tr>\n",
       "  </tbody>\n",
       "</table>\n",
       "</div>"
      ],
      "text/plain": [
       "          name  bus   p_mw  q_mvar  scaling  profile_mapping  const_z_percent  \\\n",
       "0   STMT003438    0  0.026  0.0100      1.0                0              0.0   \n",
       "1   CDBT004764    1  0.037  0.0135      1.0                1              0.0   \n",
       "2   CDBT003746    2  0.008  0.0030      1.0                2              0.0   \n",
       "3   CDBT004760    3  0.011  0.0040      1.0                3              0.0   \n",
       "4   CDBT012139    4  0.012  0.0040      1.0                4              0.0   \n",
       "5   CDBT900784    5  0.009  0.0030      1.0                5              0.0   \n",
       "6   CDBT901452    6  0.028  0.0105      1.0                6              0.0   \n",
       "7   CDBT004774    7  0.014  0.0050      1.0                7              0.0   \n",
       "8   CDBT901604    8  0.003  0.0010      1.0                8              0.0   \n",
       "9   CDBT016055    9  0.011  0.0040      1.0                9              0.0   \n",
       "10          N1   10  0.003  0.0010      1.0               10              0.0   \n",
       "11       60437   11  0.003  0.0010      1.0               11              0.0   \n",
       "\n",
       "    const_i_percent sn_mva  in_service type  \n",
       "0               0.0   None        True  wye  \n",
       "1               0.0   None        True  wye  \n",
       "2               0.0   None        True  wye  \n",
       "3               0.0   None        True  wye  \n",
       "4               0.0   None        True  wye  \n",
       "5               0.0   None        True  wye  \n",
       "6               0.0   None        True  wye  \n",
       "7               0.0   None        True  wye  \n",
       "8               0.0   None        True  wye  \n",
       "9               0.0   None        True  wye  \n",
       "10              0.0   None        True  wye  \n",
       "11              0.0   None        True  wye  "
      ]
     },
     "execution_count": 164,
     "metadata": {},
     "output_type": "execute_result"
    }
   ],
   "source": [
    "net_ExPF1_Pb1_heig.load"
   ]
  },
  {
   "cell_type": "code",
   "execution_count": 165,
   "metadata": {},
   "outputs": [
    {
     "data": {
      "application/vnd.plotly.v1+json": {
       "config": {
        "plotlyServerURL": "https://plot.ly"
       },
       "data": [
        {
         "hoverinfo": "text",
         "legendgroup": "lines",
         "line": {
          "color": "rgb(0, 0, 0)",
          "width": 3
         },
         "mode": "lines",
         "name": "Lines",
         "showlegend": true,
         "text": "GKN3x150_150",
         "type": "scatter",
         "x": [
          0,
          -1,
          -2
         ],
         "y": [
          -1,
          -1.5,
          -2
         ]
        },
        {
         "hoverinfo": "text",
         "legendgroup": "lines",
         "line": {
          "color": "rgb(0, 0, 0)",
          "width": 3
         },
         "mode": "lines",
         "name": "Lines",
         "showlegend": false,
         "text": "GKN3x150_150_2",
         "type": "scatter",
         "x": [
          -2,
          -2.25,
          -2.5
         ],
         "y": [
          -2,
          -2.5,
          -3
         ]
        },
        {
         "hoverinfo": "text",
         "legendgroup": "lines",
         "line": {
          "color": "rgb(0, 0, 0)",
          "width": 3
         },
         "mode": "lines",
         "name": "Lines",
         "showlegend": false,
         "text": "GKN3X95_95",
         "type": "scatter",
         "x": [
          -2,
          -1.75,
          -1.5
         ],
         "y": [
          -2,
          -2.5,
          -3
         ]
        },
        {
         "hoverinfo": "text",
         "legendgroup": "lines",
         "line": {
          "color": "rgb(0, 0, 0)",
          "width": 3
         },
         "mode": "lines",
         "name": "Lines",
         "showlegend": false,
         "text": "GKT3X50_50",
         "type": "scatter",
         "x": [
          -1.5,
          -1.5,
          -1.5
         ],
         "y": [
          -3,
          -3.5,
          -4
         ]
        },
        {
         "hoverinfo": "text",
         "legendgroup": "lines",
         "line": {
          "color": "rgb(0, 0, 0)",
          "width": 3
         },
         "mode": "lines",
         "name": "Lines",
         "showlegend": false,
         "text": "GKT3X50_50_2",
         "type": "scatter",
         "x": [
          -1.5,
          -1.5,
          -1.5
         ],
         "y": [
          -4,
          -4.5,
          -5
         ]
        },
        {
         "hoverinfo": "text",
         "legendgroup": "lines",
         "line": {
          "color": "rgb(0, 0, 0)",
          "width": 3
         },
         "mode": "lines",
         "name": "Lines",
         "showlegend": false,
         "text": "GKN3x150_150_3",
         "type": "scatter",
         "x": [
          0,
          0.25,
          0.5
         ],
         "y": [
          -1,
          -1.5,
          -2
         ]
        },
        {
         "hoverinfo": "text",
         "legendgroup": "lines",
         "line": {
          "color": "rgb(0, 0, 0)",
          "width": 3
         },
         "mode": "lines",
         "name": "Lines",
         "showlegend": false,
         "text": "GKN3X95_95_2",
         "type": "scatter",
         "x": [
          0.5,
          0.25,
          0
         ],
         "y": [
          -2,
          -2.5,
          -3
         ]
        },
        {
         "hoverinfo": "text",
         "legendgroup": "lines",
         "line": {
          "color": "rgb(0, 0, 0)",
          "width": 3
         },
         "mode": "lines",
         "name": "Lines",
         "showlegend": false,
         "text": "GKN3x150_150_4",
         "type": "scatter",
         "x": [
          0,
          -0.25,
          -0.5
         ],
         "y": [
          -3,
          -3.5,
          -4
         ]
        },
        {
         "hoverinfo": "text",
         "legendgroup": "lines",
         "line": {
          "color": "rgb(0, 0, 0)",
          "width": 3
         },
         "mode": "lines",
         "name": "Lines",
         "showlegend": false,
         "text": "GKN3X50_50",
         "type": "scatter",
         "x": [
          0,
          0.25,
          0.5
         ],
         "y": [
          -3,
          -3.5,
          -4
         ]
        },
        {
         "hoverinfo": "text",
         "legendgroup": "lines",
         "line": {
          "color": "rgb(0, 0, 0)",
          "width": 3
         },
         "mode": "lines",
         "name": "Lines",
         "showlegend": false,
         "text": "GKN3X50_50_2",
         "type": "scatter",
         "x": [
          0.5,
          0.75,
          1
         ],
         "y": [
          -2,
          -2.5,
          -3
         ]
        },
        {
         "hoverinfo": "text",
         "legendgroup": "lines",
         "line": {
          "color": "rgb(0, 0, 0)",
          "width": 3
         },
         "mode": "lines",
         "name": "Lines",
         "showlegend": false,
         "text": "GKN3X240_240",
         "type": "scatter",
         "x": [
          0,
          0.75,
          1.5
         ],
         "y": [
          -1,
          -1.5,
          -2
         ]
        },
        {
         "hoverinfo": "text",
         "legendgroup": "lines",
         "marker": {
          "color": "rgb(0, 0, 0)",
          "size": 1,
          "symbol": "circle"
         },
         "mode": "markers",
         "name": "edge_center",
         "showlegend": false,
         "type": "scatter",
         "x": [
          -1
         ],
         "y": [
          -1.5
         ]
        },
        {
         "hoverinfo": "text",
         "legendgroup": "Transformers",
         "line": {
          "color": "rgb(0, 128, 0)",
          "width": 7
         },
         "mode": "lines",
         "name": "Transformers",
         "showlegend": true,
         "text": "STMT003438<br>0.63 MVA",
         "type": "scatter",
         "x": [
          0,
          0,
          0
         ],
         "y": [
          0,
          -0.5,
          -1
         ]
        },
        {
         "hoverinfo": "text",
         "legendgroup": "Transformers",
         "marker": {
          "color": "rgb(0, 128, 0)",
          "size": 1,
          "symbol": "circle"
         },
         "mode": "markers",
         "name": "edge_center",
         "showlegend": false,
         "text": [
          "STMT003438<br>0.63 MVA"
         ],
         "type": "scatter",
         "x": [
          0
         ],
         "y": [
          -0.5
         ]
        },
        {
         "hoverinfo": "text",
         "marker": {
          "color": "rgb(191, 191, 0)",
          "size": 30,
          "symbol": "square"
         },
         "mode": "markers",
         "name": "Ext grid",
         "text": [
          null
         ],
         "type": "scatter",
         "x": [
          0
         ],
         "y": [
          0
         ]
        },
        {
         "hoverinfo": "text",
         "marker": {
          "color": "rgb(0, 0, 255)",
          "size": 20,
          "symbol": "circle"
         },
         "mode": "markers",
         "name": "Zone Trafo",
         "text": [
          "STMT003438<br>0.42 kV",
          "STMT003438HV<br>18.3 kV"
         ],
         "type": "scatter",
         "x": [
          0,
          0
         ],
         "y": [
          -1,
          0
         ]
        },
        {
         "hoverinfo": "text",
         "marker": {
          "color": "rgb(0, 128, 0)",
          "size": 20,
          "symbol": "circle"
         },
         "mode": "markers",
         "name": "Zone North",
         "text": [
          "CDBT004764<br>0.42 kV",
          "CDBT003746<br>0.42 kV",
          "CDBT004760<br>0.42 kV",
          "CDBT012139<br>0.42 kV",
          "CDBT900784<br>0.42 kV"
         ],
         "type": "scatter",
         "x": [
          -2,
          -2.5,
          -1.5,
          -1.5,
          -1.5
         ],
         "y": [
          -2,
          -3,
          -3,
          -4,
          -5
         ]
        },
        {
         "hoverinfo": "text",
         "marker": {
          "color": "rgb(255, 0, 0)",
          "size": 20,
          "symbol": "circle"
         },
         "mode": "markers",
         "name": "Zone South",
         "text": [
          "CDBT901452<br>0.42 kV",
          "CDBT004774<br>0.42 kV",
          "CDBT901604<br>0.42 kV",
          "CDBT016055<br>0.42 kV",
          "N1<br>0.42 kV",
          "60437<br>0.42 kV"
         ],
         "type": "scatter",
         "x": [
          0.5,
          0,
          -0.5,
          0.5,
          1,
          1.5
         ],
         "y": [
          -2,
          -3,
          -4,
          -4,
          -3,
          -2
         ]
        }
       ],
       "layout": {
        "font": {
         "size": 15
        },
        "height": 400,
        "hovermode": "closest",
        "legend": {
         "font": {
          "size": 12
         },
         "itemsizing": "constant"
        },
        "margin": {
         "b": 5,
         "l": 5,
         "r": 5,
         "t": 30
        },
        "paper_bgcolor": "white",
        "plot_bgcolor": "white",
        "showlegend": true,
        "template": {
         "data": {
          "bar": [
           {
            "error_x": {
             "color": "#2a3f5f"
            },
            "error_y": {
             "color": "#2a3f5f"
            },
            "marker": {
             "line": {
              "color": "#E5ECF6",
              "width": 0.5
             },
             "pattern": {
              "fillmode": "overlay",
              "size": 10,
              "solidity": 0.2
             }
            },
            "type": "bar"
           }
          ],
          "barpolar": [
           {
            "marker": {
             "line": {
              "color": "#E5ECF6",
              "width": 0.5
             },
             "pattern": {
              "fillmode": "overlay",
              "size": 10,
              "solidity": 0.2
             }
            },
            "type": "barpolar"
           }
          ],
          "carpet": [
           {
            "aaxis": {
             "endlinecolor": "#2a3f5f",
             "gridcolor": "white",
             "linecolor": "white",
             "minorgridcolor": "white",
             "startlinecolor": "#2a3f5f"
            },
            "baxis": {
             "endlinecolor": "#2a3f5f",
             "gridcolor": "white",
             "linecolor": "white",
             "minorgridcolor": "white",
             "startlinecolor": "#2a3f5f"
            },
            "type": "carpet"
           }
          ],
          "choropleth": [
           {
            "colorbar": {
             "outlinewidth": 0,
             "ticks": ""
            },
            "type": "choropleth"
           }
          ],
          "contour": [
           {
            "colorbar": {
             "outlinewidth": 0,
             "ticks": ""
            },
            "colorscale": [
             [
              0,
              "#0d0887"
             ],
             [
              0.1111111111111111,
              "#46039f"
             ],
             [
              0.2222222222222222,
              "#7201a8"
             ],
             [
              0.3333333333333333,
              "#9c179e"
             ],
             [
              0.4444444444444444,
              "#bd3786"
             ],
             [
              0.5555555555555556,
              "#d8576b"
             ],
             [
              0.6666666666666666,
              "#ed7953"
             ],
             [
              0.7777777777777778,
              "#fb9f3a"
             ],
             [
              0.8888888888888888,
              "#fdca26"
             ],
             [
              1,
              "#f0f921"
             ]
            ],
            "type": "contour"
           }
          ],
          "contourcarpet": [
           {
            "colorbar": {
             "outlinewidth": 0,
             "ticks": ""
            },
            "type": "contourcarpet"
           }
          ],
          "heatmap": [
           {
            "colorbar": {
             "outlinewidth": 0,
             "ticks": ""
            },
            "colorscale": [
             [
              0,
              "#0d0887"
             ],
             [
              0.1111111111111111,
              "#46039f"
             ],
             [
              0.2222222222222222,
              "#7201a8"
             ],
             [
              0.3333333333333333,
              "#9c179e"
             ],
             [
              0.4444444444444444,
              "#bd3786"
             ],
             [
              0.5555555555555556,
              "#d8576b"
             ],
             [
              0.6666666666666666,
              "#ed7953"
             ],
             [
              0.7777777777777778,
              "#fb9f3a"
             ],
             [
              0.8888888888888888,
              "#fdca26"
             ],
             [
              1,
              "#f0f921"
             ]
            ],
            "type": "heatmap"
           }
          ],
          "heatmapgl": [
           {
            "colorbar": {
             "outlinewidth": 0,
             "ticks": ""
            },
            "colorscale": [
             [
              0,
              "#0d0887"
             ],
             [
              0.1111111111111111,
              "#46039f"
             ],
             [
              0.2222222222222222,
              "#7201a8"
             ],
             [
              0.3333333333333333,
              "#9c179e"
             ],
             [
              0.4444444444444444,
              "#bd3786"
             ],
             [
              0.5555555555555556,
              "#d8576b"
             ],
             [
              0.6666666666666666,
              "#ed7953"
             ],
             [
              0.7777777777777778,
              "#fb9f3a"
             ],
             [
              0.8888888888888888,
              "#fdca26"
             ],
             [
              1,
              "#f0f921"
             ]
            ],
            "type": "heatmapgl"
           }
          ],
          "histogram": [
           {
            "marker": {
             "pattern": {
              "fillmode": "overlay",
              "size": 10,
              "solidity": 0.2
             }
            },
            "type": "histogram"
           }
          ],
          "histogram2d": [
           {
            "colorbar": {
             "outlinewidth": 0,
             "ticks": ""
            },
            "colorscale": [
             [
              0,
              "#0d0887"
             ],
             [
              0.1111111111111111,
              "#46039f"
             ],
             [
              0.2222222222222222,
              "#7201a8"
             ],
             [
              0.3333333333333333,
              "#9c179e"
             ],
             [
              0.4444444444444444,
              "#bd3786"
             ],
             [
              0.5555555555555556,
              "#d8576b"
             ],
             [
              0.6666666666666666,
              "#ed7953"
             ],
             [
              0.7777777777777778,
              "#fb9f3a"
             ],
             [
              0.8888888888888888,
              "#fdca26"
             ],
             [
              1,
              "#f0f921"
             ]
            ],
            "type": "histogram2d"
           }
          ],
          "histogram2dcontour": [
           {
            "colorbar": {
             "outlinewidth": 0,
             "ticks": ""
            },
            "colorscale": [
             [
              0,
              "#0d0887"
             ],
             [
              0.1111111111111111,
              "#46039f"
             ],
             [
              0.2222222222222222,
              "#7201a8"
             ],
             [
              0.3333333333333333,
              "#9c179e"
             ],
             [
              0.4444444444444444,
              "#bd3786"
             ],
             [
              0.5555555555555556,
              "#d8576b"
             ],
             [
              0.6666666666666666,
              "#ed7953"
             ],
             [
              0.7777777777777778,
              "#fb9f3a"
             ],
             [
              0.8888888888888888,
              "#fdca26"
             ],
             [
              1,
              "#f0f921"
             ]
            ],
            "type": "histogram2dcontour"
           }
          ],
          "mesh3d": [
           {
            "colorbar": {
             "outlinewidth": 0,
             "ticks": ""
            },
            "type": "mesh3d"
           }
          ],
          "parcoords": [
           {
            "line": {
             "colorbar": {
              "outlinewidth": 0,
              "ticks": ""
             }
            },
            "type": "parcoords"
           }
          ],
          "pie": [
           {
            "automargin": true,
            "type": "pie"
           }
          ],
          "scatter": [
           {
            "fillpattern": {
             "fillmode": "overlay",
             "size": 10,
             "solidity": 0.2
            },
            "type": "scatter"
           }
          ],
          "scatter3d": [
           {
            "line": {
             "colorbar": {
              "outlinewidth": 0,
              "ticks": ""
             }
            },
            "marker": {
             "colorbar": {
              "outlinewidth": 0,
              "ticks": ""
             }
            },
            "type": "scatter3d"
           }
          ],
          "scattercarpet": [
           {
            "marker": {
             "colorbar": {
              "outlinewidth": 0,
              "ticks": ""
             }
            },
            "type": "scattercarpet"
           }
          ],
          "scattergeo": [
           {
            "marker": {
             "colorbar": {
              "outlinewidth": 0,
              "ticks": ""
             }
            },
            "type": "scattergeo"
           }
          ],
          "scattergl": [
           {
            "marker": {
             "colorbar": {
              "outlinewidth": 0,
              "ticks": ""
             }
            },
            "type": "scattergl"
           }
          ],
          "scattermapbox": [
           {
            "marker": {
             "colorbar": {
              "outlinewidth": 0,
              "ticks": ""
             }
            },
            "type": "scattermapbox"
           }
          ],
          "scatterpolar": [
           {
            "marker": {
             "colorbar": {
              "outlinewidth": 0,
              "ticks": ""
             }
            },
            "type": "scatterpolar"
           }
          ],
          "scatterpolargl": [
           {
            "marker": {
             "colorbar": {
              "outlinewidth": 0,
              "ticks": ""
             }
            },
            "type": "scatterpolargl"
           }
          ],
          "scatterternary": [
           {
            "marker": {
             "colorbar": {
              "outlinewidth": 0,
              "ticks": ""
             }
            },
            "type": "scatterternary"
           }
          ],
          "surface": [
           {
            "colorbar": {
             "outlinewidth": 0,
             "ticks": ""
            },
            "colorscale": [
             [
              0,
              "#0d0887"
             ],
             [
              0.1111111111111111,
              "#46039f"
             ],
             [
              0.2222222222222222,
              "#7201a8"
             ],
             [
              0.3333333333333333,
              "#9c179e"
             ],
             [
              0.4444444444444444,
              "#bd3786"
             ],
             [
              0.5555555555555556,
              "#d8576b"
             ],
             [
              0.6666666666666666,
              "#ed7953"
             ],
             [
              0.7777777777777778,
              "#fb9f3a"
             ],
             [
              0.8888888888888888,
              "#fdca26"
             ],
             [
              1,
              "#f0f921"
             ]
            ],
            "type": "surface"
           }
          ],
          "table": [
           {
            "cells": {
             "fill": {
              "color": "#EBF0F8"
             },
             "line": {
              "color": "white"
             }
            },
            "header": {
             "fill": {
              "color": "#C8D4E3"
             },
             "line": {
              "color": "white"
             }
            },
            "type": "table"
           }
          ]
         },
         "layout": {
          "annotationdefaults": {
           "arrowcolor": "#2a3f5f",
           "arrowhead": 0,
           "arrowwidth": 1
          },
          "autotypenumbers": "strict",
          "coloraxis": {
           "colorbar": {
            "outlinewidth": 0,
            "ticks": ""
           }
          },
          "colorscale": {
           "diverging": [
            [
             0,
             "#8e0152"
            ],
            [
             0.1,
             "#c51b7d"
            ],
            [
             0.2,
             "#de77ae"
            ],
            [
             0.3,
             "#f1b6da"
            ],
            [
             0.4,
             "#fde0ef"
            ],
            [
             0.5,
             "#f7f7f7"
            ],
            [
             0.6,
             "#e6f5d0"
            ],
            [
             0.7,
             "#b8e186"
            ],
            [
             0.8,
             "#7fbc41"
            ],
            [
             0.9,
             "#4d9221"
            ],
            [
             1,
             "#276419"
            ]
           ],
           "sequential": [
            [
             0,
             "#0d0887"
            ],
            [
             0.1111111111111111,
             "#46039f"
            ],
            [
             0.2222222222222222,
             "#7201a8"
            ],
            [
             0.3333333333333333,
             "#9c179e"
            ],
            [
             0.4444444444444444,
             "#bd3786"
            ],
            [
             0.5555555555555556,
             "#d8576b"
            ],
            [
             0.6666666666666666,
             "#ed7953"
            ],
            [
             0.7777777777777778,
             "#fb9f3a"
            ],
            [
             0.8888888888888888,
             "#fdca26"
            ],
            [
             1,
             "#f0f921"
            ]
           ],
           "sequentialminus": [
            [
             0,
             "#0d0887"
            ],
            [
             0.1111111111111111,
             "#46039f"
            ],
            [
             0.2222222222222222,
             "#7201a8"
            ],
            [
             0.3333333333333333,
             "#9c179e"
            ],
            [
             0.4444444444444444,
             "#bd3786"
            ],
            [
             0.5555555555555556,
             "#d8576b"
            ],
            [
             0.6666666666666666,
             "#ed7953"
            ],
            [
             0.7777777777777778,
             "#fb9f3a"
            ],
            [
             0.8888888888888888,
             "#fdca26"
            ],
            [
             1,
             "#f0f921"
            ]
           ]
          },
          "colorway": [
           "#636efa",
           "#EF553B",
           "#00cc96",
           "#ab63fa",
           "#FFA15A",
           "#19d3f3",
           "#FF6692",
           "#B6E880",
           "#FF97FF",
           "#FECB52"
          ],
          "font": {
           "color": "#2a3f5f"
          },
          "geo": {
           "bgcolor": "white",
           "lakecolor": "white",
           "landcolor": "#E5ECF6",
           "showlakes": true,
           "showland": true,
           "subunitcolor": "white"
          },
          "hoverlabel": {
           "align": "left"
          },
          "hovermode": "closest",
          "mapbox": {
           "style": "light"
          },
          "paper_bgcolor": "white",
          "plot_bgcolor": "#E5ECF6",
          "polar": {
           "angularaxis": {
            "gridcolor": "white",
            "linecolor": "white",
            "ticks": ""
           },
           "bgcolor": "#E5ECF6",
           "radialaxis": {
            "gridcolor": "white",
            "linecolor": "white",
            "ticks": ""
           }
          },
          "scene": {
           "xaxis": {
            "backgroundcolor": "#E5ECF6",
            "gridcolor": "white",
            "gridwidth": 2,
            "linecolor": "white",
            "showbackground": true,
            "ticks": "",
            "zerolinecolor": "white"
           },
           "yaxis": {
            "backgroundcolor": "#E5ECF6",
            "gridcolor": "white",
            "gridwidth": 2,
            "linecolor": "white",
            "showbackground": true,
            "ticks": "",
            "zerolinecolor": "white"
           },
           "zaxis": {
            "backgroundcolor": "#E5ECF6",
            "gridcolor": "white",
            "gridwidth": 2,
            "linecolor": "white",
            "showbackground": true,
            "ticks": "",
            "zerolinecolor": "white"
           }
          },
          "shapedefaults": {
           "line": {
            "color": "#2a3f5f"
           }
          },
          "ternary": {
           "aaxis": {
            "gridcolor": "white",
            "linecolor": "white",
            "ticks": ""
           },
           "baxis": {
            "gridcolor": "white",
            "linecolor": "white",
            "ticks": ""
           },
           "bgcolor": "#E5ECF6",
           "caxis": {
            "gridcolor": "white",
            "linecolor": "white",
            "ticks": ""
           }
          },
          "title": {
           "x": 0.05
          },
          "xaxis": {
           "automargin": true,
           "gridcolor": "white",
           "linecolor": "white",
           "ticks": "",
           "title": {
            "standoff": 15
           },
           "zerolinecolor": "white",
           "zerolinewidth": 2
          },
          "yaxis": {
           "automargin": true,
           "gridcolor": "white",
           "linecolor": "white",
           "ticks": "",
           "title": {
            "standoff": 15
           },
           "zerolinecolor": "white",
           "zerolinewidth": 2
          }
         }
        },
        "title": {
         "text": "<b>Exercice Power flow 1 : Problème 1<b>",
         "x": 0.5,
         "xanchor": "center",
         "y": 0.97,
         "yanchor": "top"
        },
        "width": 680,
        "xaxis": {
         "showgrid": false,
         "showticklabels": false,
         "tickfont": {
          "family": "Arial Black",
          "size": 12
         },
         "title": {
          "font": {
           "size": 12
          }
         },
         "zeroline": false
        },
        "yaxis": {
         "showgrid": false,
         "showticklabels": false,
         "tickfont": {
          "family": "Arial Black",
          "size": 12
         },
         "title": {
          "font": {
           "size": 12
          }
         },
         "zeroline": false
        }
       }
      },
      "text/html": [
       "<div>                            <div id=\"f97d8c17-2705-4ced-a0c7-a08228617d1b\" class=\"plotly-graph-div\" style=\"height:400px; width:680px;\"></div>            <script type=\"text/javascript\">                require([\"plotly\"], function(Plotly) {                    window.PLOTLYENV=window.PLOTLYENV || {};                                    if (document.getElementById(\"f97d8c17-2705-4ced-a0c7-a08228617d1b\")) {                    Plotly.newPlot(                        \"f97d8c17-2705-4ced-a0c7-a08228617d1b\",                        [{\"hoverinfo\":\"text\",\"legendgroup\":\"lines\",\"line\":{\"color\":\"rgb(0, 0, 0)\",\"width\":3},\"mode\":\"lines\",\"name\":\"Lines\",\"showlegend\":true,\"text\":\"GKN3x150_150\",\"x\":[0.0,-1.0,-2.0],\"y\":[-1.0,-1.5,-2.0],\"type\":\"scatter\"},{\"hoverinfo\":\"text\",\"legendgroup\":\"lines\",\"line\":{\"color\":\"rgb(0, 0, 0)\",\"width\":3},\"mode\":\"lines\",\"name\":\"Lines\",\"showlegend\":false,\"text\":\"GKN3x150_150_2\",\"x\":[-2.0,-2.25,-2.5],\"y\":[-2.0,-2.5,-3.0],\"type\":\"scatter\"},{\"hoverinfo\":\"text\",\"legendgroup\":\"lines\",\"line\":{\"color\":\"rgb(0, 0, 0)\",\"width\":3},\"mode\":\"lines\",\"name\":\"Lines\",\"showlegend\":false,\"text\":\"GKN3X95_95\",\"x\":[-2.0,-1.75,-1.5],\"y\":[-2.0,-2.5,-3.0],\"type\":\"scatter\"},{\"hoverinfo\":\"text\",\"legendgroup\":\"lines\",\"line\":{\"color\":\"rgb(0, 0, 0)\",\"width\":3},\"mode\":\"lines\",\"name\":\"Lines\",\"showlegend\":false,\"text\":\"GKT3X50_50\",\"x\":[-1.5,-1.5,-1.5],\"y\":[-3.0,-3.5,-4.0],\"type\":\"scatter\"},{\"hoverinfo\":\"text\",\"legendgroup\":\"lines\",\"line\":{\"color\":\"rgb(0, 0, 0)\",\"width\":3},\"mode\":\"lines\",\"name\":\"Lines\",\"showlegend\":false,\"text\":\"GKT3X50_50_2\",\"x\":[-1.5,-1.5,-1.5],\"y\":[-4.0,-4.5,-5.0],\"type\":\"scatter\"},{\"hoverinfo\":\"text\",\"legendgroup\":\"lines\",\"line\":{\"color\":\"rgb(0, 0, 0)\",\"width\":3},\"mode\":\"lines\",\"name\":\"Lines\",\"showlegend\":false,\"text\":\"GKN3x150_150_3\",\"x\":[0.0,0.25,0.5],\"y\":[-1.0,-1.5,-2.0],\"type\":\"scatter\"},{\"hoverinfo\":\"text\",\"legendgroup\":\"lines\",\"line\":{\"color\":\"rgb(0, 0, 0)\",\"width\":3},\"mode\":\"lines\",\"name\":\"Lines\",\"showlegend\":false,\"text\":\"GKN3X95_95_2\",\"x\":[0.5,0.25,0.0],\"y\":[-2.0,-2.5,-3.0],\"type\":\"scatter\"},{\"hoverinfo\":\"text\",\"legendgroup\":\"lines\",\"line\":{\"color\":\"rgb(0, 0, 0)\",\"width\":3},\"mode\":\"lines\",\"name\":\"Lines\",\"showlegend\":false,\"text\":\"GKN3x150_150_4\",\"x\":[0.0,-0.25,-0.5],\"y\":[-3.0,-3.5,-4.0],\"type\":\"scatter\"},{\"hoverinfo\":\"text\",\"legendgroup\":\"lines\",\"line\":{\"color\":\"rgb(0, 0, 0)\",\"width\":3},\"mode\":\"lines\",\"name\":\"Lines\",\"showlegend\":false,\"text\":\"GKN3X50_50\",\"x\":[0.0,0.25,0.5],\"y\":[-3.0,-3.5,-4.0],\"type\":\"scatter\"},{\"hoverinfo\":\"text\",\"legendgroup\":\"lines\",\"line\":{\"color\":\"rgb(0, 0, 0)\",\"width\":3},\"mode\":\"lines\",\"name\":\"Lines\",\"showlegend\":false,\"text\":\"GKN3X50_50_2\",\"x\":[0.5,0.75,1.0],\"y\":[-2.0,-2.5,-3.0],\"type\":\"scatter\"},{\"hoverinfo\":\"text\",\"legendgroup\":\"lines\",\"line\":{\"color\":\"rgb(0, 0, 0)\",\"width\":3},\"mode\":\"lines\",\"name\":\"Lines\",\"showlegend\":false,\"text\":\"GKN3X240_240\",\"x\":[0.0,0.75,1.5],\"y\":[-1.0,-1.5,-2.0],\"type\":\"scatter\"},{\"hoverinfo\":\"text\",\"legendgroup\":\"lines\",\"marker\":{\"color\":\"rgb(0, 0, 0)\",\"size\":1,\"symbol\":\"circle\"},\"mode\":\"markers\",\"name\":\"edge_center\",\"showlegend\":false,\"x\":[-1.0],\"y\":[-1.5],\"type\":\"scatter\"},{\"hoverinfo\":\"text\",\"legendgroup\":\"Transformers\",\"line\":{\"color\":\"rgb(0, 128, 0)\",\"width\":7},\"mode\":\"lines\",\"name\":\"Transformers\",\"showlegend\":true,\"text\":\"STMT003438\\u003cbr\\u003e0.63 MVA\",\"x\":[0.0,0.0,0.0],\"y\":[-0.0,-0.5,-1.0],\"type\":\"scatter\"},{\"hoverinfo\":\"text\",\"legendgroup\":\"Transformers\",\"marker\":{\"color\":\"rgb(0, 128, 0)\",\"size\":1,\"symbol\":\"circle\"},\"mode\":\"markers\",\"name\":\"edge_center\",\"showlegend\":false,\"text\":[\"STMT003438\\u003cbr\\u003e0.63 MVA\"],\"x\":[0.0],\"y\":[-0.5],\"type\":\"scatter\"},{\"hoverinfo\":\"text\",\"marker\":{\"color\":\"rgb(191, 191, 0)\",\"size\":30,\"symbol\":\"square\"},\"mode\":\"markers\",\"name\":\"Ext grid\",\"text\":[null],\"x\":[0.0],\"y\":[-0.0],\"type\":\"scatter\"},{\"hoverinfo\":\"text\",\"marker\":{\"color\":\"rgb(0, 0, 255)\",\"size\":20,\"symbol\":\"circle\"},\"mode\":\"markers\",\"name\":\"Zone Trafo\",\"text\":[\"STMT003438\\u003cbr\\u003e0.42 kV\",\"STMT003438HV\\u003cbr\\u003e18.3 kV\"],\"x\":[0.0,0.0],\"y\":[-1.0,-0.0],\"type\":\"scatter\"},{\"hoverinfo\":\"text\",\"marker\":{\"color\":\"rgb(0, 128, 0)\",\"size\":20,\"symbol\":\"circle\"},\"mode\":\"markers\",\"name\":\"Zone North\",\"text\":[\"CDBT004764\\u003cbr\\u003e0.42 kV\",\"CDBT003746\\u003cbr\\u003e0.42 kV\",\"CDBT004760\\u003cbr\\u003e0.42 kV\",\"CDBT012139\\u003cbr\\u003e0.42 kV\",\"CDBT900784\\u003cbr\\u003e0.42 kV\"],\"x\":[-2.0,-2.5,-1.5,-1.5,-1.5],\"y\":[-2.0,-3.0,-3.0,-4.0,-5.0],\"type\":\"scatter\"},{\"hoverinfo\":\"text\",\"marker\":{\"color\":\"rgb(255, 0, 0)\",\"size\":20,\"symbol\":\"circle\"},\"mode\":\"markers\",\"name\":\"Zone South\",\"text\":[\"CDBT901452\\u003cbr\\u003e0.42 kV\",\"CDBT004774\\u003cbr\\u003e0.42 kV\",\"CDBT901604\\u003cbr\\u003e0.42 kV\",\"CDBT016055\\u003cbr\\u003e0.42 kV\",\"N1\\u003cbr\\u003e0.42 kV\",\"60437\\u003cbr\\u003e0.42 kV\"],\"x\":[0.5,0.0,-0.5,0.5,1.0,1.5],\"y\":[-2.0,-3.0,-4.0,-4.0,-3.0,-2.0],\"type\":\"scatter\"}],                        {\"hovermode\":\"closest\",\"legend\":{\"itemsizing\":\"constant\",\"font\":{\"size\":12}},\"margin\":{\"b\":5,\"l\":5,\"r\":5,\"t\":30},\"showlegend\":true,\"xaxis\":{\"showgrid\":false,\"showticklabels\":false,\"zeroline\":false,\"tickfont\":{\"size\":12,\"family\":\"Arial Black\"},\"title\":{\"font\":{\"size\":12}}},\"yaxis\":{\"showgrid\":false,\"showticklabels\":false,\"zeroline\":false,\"tickfont\":{\"size\":12,\"family\":\"Arial Black\"},\"title\":{\"font\":{\"size\":12}}},\"template\":{\"data\":{\"histogram2dcontour\":[{\"type\":\"histogram2dcontour\",\"colorbar\":{\"outlinewidth\":0,\"ticks\":\"\"},\"colorscale\":[[0.0,\"#0d0887\"],[0.1111111111111111,\"#46039f\"],[0.2222222222222222,\"#7201a8\"],[0.3333333333333333,\"#9c179e\"],[0.4444444444444444,\"#bd3786\"],[0.5555555555555556,\"#d8576b\"],[0.6666666666666666,\"#ed7953\"],[0.7777777777777778,\"#fb9f3a\"],[0.8888888888888888,\"#fdca26\"],[1.0,\"#f0f921\"]]}],\"choropleth\":[{\"type\":\"choropleth\",\"colorbar\":{\"outlinewidth\":0,\"ticks\":\"\"}}],\"histogram2d\":[{\"type\":\"histogram2d\",\"colorbar\":{\"outlinewidth\":0,\"ticks\":\"\"},\"colorscale\":[[0.0,\"#0d0887\"],[0.1111111111111111,\"#46039f\"],[0.2222222222222222,\"#7201a8\"],[0.3333333333333333,\"#9c179e\"],[0.4444444444444444,\"#bd3786\"],[0.5555555555555556,\"#d8576b\"],[0.6666666666666666,\"#ed7953\"],[0.7777777777777778,\"#fb9f3a\"],[0.8888888888888888,\"#fdca26\"],[1.0,\"#f0f921\"]]}],\"heatmap\":[{\"type\":\"heatmap\",\"colorbar\":{\"outlinewidth\":0,\"ticks\":\"\"},\"colorscale\":[[0.0,\"#0d0887\"],[0.1111111111111111,\"#46039f\"],[0.2222222222222222,\"#7201a8\"],[0.3333333333333333,\"#9c179e\"],[0.4444444444444444,\"#bd3786\"],[0.5555555555555556,\"#d8576b\"],[0.6666666666666666,\"#ed7953\"],[0.7777777777777778,\"#fb9f3a\"],[0.8888888888888888,\"#fdca26\"],[1.0,\"#f0f921\"]]}],\"heatmapgl\":[{\"type\":\"heatmapgl\",\"colorbar\":{\"outlinewidth\":0,\"ticks\":\"\"},\"colorscale\":[[0.0,\"#0d0887\"],[0.1111111111111111,\"#46039f\"],[0.2222222222222222,\"#7201a8\"],[0.3333333333333333,\"#9c179e\"],[0.4444444444444444,\"#bd3786\"],[0.5555555555555556,\"#d8576b\"],[0.6666666666666666,\"#ed7953\"],[0.7777777777777778,\"#fb9f3a\"],[0.8888888888888888,\"#fdca26\"],[1.0,\"#f0f921\"]]}],\"contourcarpet\":[{\"type\":\"contourcarpet\",\"colorbar\":{\"outlinewidth\":0,\"ticks\":\"\"}}],\"contour\":[{\"type\":\"contour\",\"colorbar\":{\"outlinewidth\":0,\"ticks\":\"\"},\"colorscale\":[[0.0,\"#0d0887\"],[0.1111111111111111,\"#46039f\"],[0.2222222222222222,\"#7201a8\"],[0.3333333333333333,\"#9c179e\"],[0.4444444444444444,\"#bd3786\"],[0.5555555555555556,\"#d8576b\"],[0.6666666666666666,\"#ed7953\"],[0.7777777777777778,\"#fb9f3a\"],[0.8888888888888888,\"#fdca26\"],[1.0,\"#f0f921\"]]}],\"surface\":[{\"type\":\"surface\",\"colorbar\":{\"outlinewidth\":0,\"ticks\":\"\"},\"colorscale\":[[0.0,\"#0d0887\"],[0.1111111111111111,\"#46039f\"],[0.2222222222222222,\"#7201a8\"],[0.3333333333333333,\"#9c179e\"],[0.4444444444444444,\"#bd3786\"],[0.5555555555555556,\"#d8576b\"],[0.6666666666666666,\"#ed7953\"],[0.7777777777777778,\"#fb9f3a\"],[0.8888888888888888,\"#fdca26\"],[1.0,\"#f0f921\"]]}],\"mesh3d\":[{\"type\":\"mesh3d\",\"colorbar\":{\"outlinewidth\":0,\"ticks\":\"\"}}],\"scatter\":[{\"fillpattern\":{\"fillmode\":\"overlay\",\"size\":10,\"solidity\":0.2},\"type\":\"scatter\"}],\"parcoords\":[{\"type\":\"parcoords\",\"line\":{\"colorbar\":{\"outlinewidth\":0,\"ticks\":\"\"}}}],\"scatterpolargl\":[{\"type\":\"scatterpolargl\",\"marker\":{\"colorbar\":{\"outlinewidth\":0,\"ticks\":\"\"}}}],\"bar\":[{\"error_x\":{\"color\":\"#2a3f5f\"},\"error_y\":{\"color\":\"#2a3f5f\"},\"marker\":{\"line\":{\"color\":\"#E5ECF6\",\"width\":0.5},\"pattern\":{\"fillmode\":\"overlay\",\"size\":10,\"solidity\":0.2}},\"type\":\"bar\"}],\"scattergeo\":[{\"type\":\"scattergeo\",\"marker\":{\"colorbar\":{\"outlinewidth\":0,\"ticks\":\"\"}}}],\"scatterpolar\":[{\"type\":\"scatterpolar\",\"marker\":{\"colorbar\":{\"outlinewidth\":0,\"ticks\":\"\"}}}],\"histogram\":[{\"marker\":{\"pattern\":{\"fillmode\":\"overlay\",\"size\":10,\"solidity\":0.2}},\"type\":\"histogram\"}],\"scattergl\":[{\"type\":\"scattergl\",\"marker\":{\"colorbar\":{\"outlinewidth\":0,\"ticks\":\"\"}}}],\"scatter3d\":[{\"type\":\"scatter3d\",\"line\":{\"colorbar\":{\"outlinewidth\":0,\"ticks\":\"\"}},\"marker\":{\"colorbar\":{\"outlinewidth\":0,\"ticks\":\"\"}}}],\"scattermapbox\":[{\"type\":\"scattermapbox\",\"marker\":{\"colorbar\":{\"outlinewidth\":0,\"ticks\":\"\"}}}],\"scatterternary\":[{\"type\":\"scatterternary\",\"marker\":{\"colorbar\":{\"outlinewidth\":0,\"ticks\":\"\"}}}],\"scattercarpet\":[{\"type\":\"scattercarpet\",\"marker\":{\"colorbar\":{\"outlinewidth\":0,\"ticks\":\"\"}}}],\"carpet\":[{\"aaxis\":{\"endlinecolor\":\"#2a3f5f\",\"gridcolor\":\"white\",\"linecolor\":\"white\",\"minorgridcolor\":\"white\",\"startlinecolor\":\"#2a3f5f\"},\"baxis\":{\"endlinecolor\":\"#2a3f5f\",\"gridcolor\":\"white\",\"linecolor\":\"white\",\"minorgridcolor\":\"white\",\"startlinecolor\":\"#2a3f5f\"},\"type\":\"carpet\"}],\"table\":[{\"cells\":{\"fill\":{\"color\":\"#EBF0F8\"},\"line\":{\"color\":\"white\"}},\"header\":{\"fill\":{\"color\":\"#C8D4E3\"},\"line\":{\"color\":\"white\"}},\"type\":\"table\"}],\"barpolar\":[{\"marker\":{\"line\":{\"color\":\"#E5ECF6\",\"width\":0.5},\"pattern\":{\"fillmode\":\"overlay\",\"size\":10,\"solidity\":0.2}},\"type\":\"barpolar\"}],\"pie\":[{\"automargin\":true,\"type\":\"pie\"}]},\"layout\":{\"autotypenumbers\":\"strict\",\"colorway\":[\"#636efa\",\"#EF553B\",\"#00cc96\",\"#ab63fa\",\"#FFA15A\",\"#19d3f3\",\"#FF6692\",\"#B6E880\",\"#FF97FF\",\"#FECB52\"],\"font\":{\"color\":\"#2a3f5f\"},\"hovermode\":\"closest\",\"hoverlabel\":{\"align\":\"left\"},\"paper_bgcolor\":\"white\",\"plot_bgcolor\":\"#E5ECF6\",\"polar\":{\"bgcolor\":\"#E5ECF6\",\"angularaxis\":{\"gridcolor\":\"white\",\"linecolor\":\"white\",\"ticks\":\"\"},\"radialaxis\":{\"gridcolor\":\"white\",\"linecolor\":\"white\",\"ticks\":\"\"}},\"ternary\":{\"bgcolor\":\"#E5ECF6\",\"aaxis\":{\"gridcolor\":\"white\",\"linecolor\":\"white\",\"ticks\":\"\"},\"baxis\":{\"gridcolor\":\"white\",\"linecolor\":\"white\",\"ticks\":\"\"},\"caxis\":{\"gridcolor\":\"white\",\"linecolor\":\"white\",\"ticks\":\"\"}},\"coloraxis\":{\"colorbar\":{\"outlinewidth\":0,\"ticks\":\"\"}},\"colorscale\":{\"sequential\":[[0.0,\"#0d0887\"],[0.1111111111111111,\"#46039f\"],[0.2222222222222222,\"#7201a8\"],[0.3333333333333333,\"#9c179e\"],[0.4444444444444444,\"#bd3786\"],[0.5555555555555556,\"#d8576b\"],[0.6666666666666666,\"#ed7953\"],[0.7777777777777778,\"#fb9f3a\"],[0.8888888888888888,\"#fdca26\"],[1.0,\"#f0f921\"]],\"sequentialminus\":[[0.0,\"#0d0887\"],[0.1111111111111111,\"#46039f\"],[0.2222222222222222,\"#7201a8\"],[0.3333333333333333,\"#9c179e\"],[0.4444444444444444,\"#bd3786\"],[0.5555555555555556,\"#d8576b\"],[0.6666666666666666,\"#ed7953\"],[0.7777777777777778,\"#fb9f3a\"],[0.8888888888888888,\"#fdca26\"],[1.0,\"#f0f921\"]],\"diverging\":[[0,\"#8e0152\"],[0.1,\"#c51b7d\"],[0.2,\"#de77ae\"],[0.3,\"#f1b6da\"],[0.4,\"#fde0ef\"],[0.5,\"#f7f7f7\"],[0.6,\"#e6f5d0\"],[0.7,\"#b8e186\"],[0.8,\"#7fbc41\"],[0.9,\"#4d9221\"],[1,\"#276419\"]]},\"xaxis\":{\"gridcolor\":\"white\",\"linecolor\":\"white\",\"ticks\":\"\",\"title\":{\"standoff\":15},\"zerolinecolor\":\"white\",\"automargin\":true,\"zerolinewidth\":2},\"yaxis\":{\"gridcolor\":\"white\",\"linecolor\":\"white\",\"ticks\":\"\",\"title\":{\"standoff\":15},\"zerolinecolor\":\"white\",\"automargin\":true,\"zerolinewidth\":2},\"scene\":{\"xaxis\":{\"backgroundcolor\":\"#E5ECF6\",\"gridcolor\":\"white\",\"linecolor\":\"white\",\"showbackground\":true,\"ticks\":\"\",\"zerolinecolor\":\"white\",\"gridwidth\":2},\"yaxis\":{\"backgroundcolor\":\"#E5ECF6\",\"gridcolor\":\"white\",\"linecolor\":\"white\",\"showbackground\":true,\"ticks\":\"\",\"zerolinecolor\":\"white\",\"gridwidth\":2},\"zaxis\":{\"backgroundcolor\":\"#E5ECF6\",\"gridcolor\":\"white\",\"linecolor\":\"white\",\"showbackground\":true,\"ticks\":\"\",\"zerolinecolor\":\"white\",\"gridwidth\":2}},\"shapedefaults\":{\"line\":{\"color\":\"#2a3f5f\"}},\"annotationdefaults\":{\"arrowcolor\":\"#2a3f5f\",\"arrowhead\":0,\"arrowwidth\":1},\"geo\":{\"bgcolor\":\"white\",\"landcolor\":\"#E5ECF6\",\"subunitcolor\":\"white\",\"showland\":true,\"showlakes\":true,\"lakecolor\":\"white\"},\"title\":{\"x\":0.05},\"mapbox\":{\"style\":\"light\"}}},\"font\":{\"size\":15},\"paper_bgcolor\":\"white\",\"plot_bgcolor\":\"white\",\"width\":680,\"height\":400,\"title\":{\"text\":\"\\u003cb\\u003eExercice Power flow 1 : Problème 1\\u003cb\\u003e\",\"y\":0.97,\"x\":0.5,\"xanchor\":\"center\",\"yanchor\":\"top\"}},                        {\"responsive\": true}                    ).then(function(){\n",
       "                            \n",
       "var gd = document.getElementById('f97d8c17-2705-4ced-a0c7-a08228617d1b');\n",
       "var x = new MutationObserver(function (mutations, observer) {{\n",
       "        var display = window.getComputedStyle(gd).display;\n",
       "        if (!display || display === 'none') {{\n",
       "            console.log([gd, 'removed!']);\n",
       "            Plotly.purge(gd);\n",
       "            observer.disconnect();\n",
       "        }}\n",
       "}});\n",
       "\n",
       "// Listen for the removal of the full notebook cells\n",
       "var notebookContainer = gd.closest('#notebook-container');\n",
       "if (notebookContainer) {{\n",
       "    x.observe(notebookContainer, {childList: true});\n",
       "}}\n",
       "\n",
       "// Listen for the clearing of the current output cell\n",
       "var outputEl = gd.closest('.output');\n",
       "if (outputEl) {{\n",
       "    x.observe(outputEl, {childList: true});\n",
       "}}\n",
       "\n",
       "                        })                };                });            </script>        </div>"
      ]
     },
     "metadata": {},
     "output_type": "display_data"
    }
   ],
   "source": [
    "pp_plot.plot_power_network(\n",
    "    net=net_ExPF1_Pb1_heig,\n",
    "    plot_title=\"Exercice Power flow 1 : Problème 1\",\n",
    "    filename=\"net_ex_pf_1_pb_1_grid_example\",\n",
    ")"
   ]
  },
  {
   "cell_type": "code",
   "execution_count": 166,
   "metadata": {},
   "outputs": [
    {
     "name": "stderr",
     "output_type": "stream",
     "text": [
      "2025-01-16 14:38:35 Karim pandapower.diagnostic_reports[30374] WARNING \n",
      "\n",
      "_____________ PANDAPOWER DIAGNOSTIC TOOL _____________ \n",
      "\n",
      "2025-01-16 14:38:35 Karim pandapower.diagnostic_reports[30374] INFO Checking for missing bus indices...\n",
      "2025-01-16 14:38:35 Karim pandapower.diagnostic_reports[30374] INFO \n",
      "2025-01-16 14:38:35 Karim pandapower.diagnostic_reports[30374] INFO PASSED: No missing bus indices found.\n",
      "2025-01-16 14:38:35 Karim pandapower.diagnostic_reports[30374] WARNING \n",
      " --------\n",
      "\n",
      "2025-01-16 14:38:35 Karim pandapower.diagnostic_reports[30374] INFO PASSED: No problematic switches found\n",
      "2025-01-16 14:38:35 Karim pandapower.diagnostic_reports[30374] WARNING \n",
      " --------\n",
      "\n",
      "2025-01-16 14:38:35 Karim pandapower.diagnostic_reports[30374] INFO PASSED: No connection of different voltage levels found\n",
      "2025-01-16 14:38:35 Karim pandapower.diagnostic_reports[30374] WARNING \n",
      " --------\n",
      "\n",
      "2025-01-16 14:38:35 Karim pandapower.diagnostic_reports[30374] INFO PASSED: No elements with impedance values close to zero found...\n",
      "2025-01-16 14:38:35 Karim pandapower.diagnostic_reports[30374] WARNING \n",
      " --------\n",
      "\n",
      "2025-01-16 14:38:35 Karim pandapower.diagnostic_reports[30374] INFO PASSED: No components with deviating nominal voltages found\n",
      "2025-01-16 14:38:35 Karim pandapower.diagnostic_reports[30374] WARNING \n",
      " --------\n",
      "\n",
      "2025-01-16 14:38:35 Karim pandapower.diagnostic_reports[30374] INFO PASSED: No invalid values found\n",
      "2025-01-16 14:38:35 Karim pandapower.diagnostic_reports[30374] WARNING \n",
      " --------\n",
      "\n",
      "2025-01-16 14:38:35 Karim pandapower.diagnostic_reports[30374] INFO PASSED: Power flow converges. No overload found.\n",
      "2025-01-16 14:38:35 Karim pandapower.diagnostic_reports[30374] WARNING \n",
      " --------\n",
      "\n",
      "2025-01-16 14:38:35 Karim pandapower.diagnostic_reports[30374] INFO PASSED: No buses with multiple gens and/or ext_grids found.\n",
      "2025-01-16 14:38:35 Karim pandapower.diagnostic_reports[30374] WARNING \n",
      " --------\n",
      "\n",
      "2025-01-16 14:38:35 Karim pandapower.diagnostic_reports[30374] INFO PASSED: Power flow converges. Switch configuration seems ok.\n",
      "2025-01-16 14:38:35 Karim pandapower.diagnostic_reports[30374] WARNING \n",
      " --------\n",
      "\n",
      "2025-01-16 14:38:35 Karim pandapower.diagnostic_reports[30374] INFO PASSED: External grid found.\n",
      "2025-01-16 14:38:35 Karim pandapower.diagnostic_reports[30374] WARNING \n",
      " --------\n",
      "\n",
      "2025-01-16 14:38:35 Karim pandapower.diagnostic_reports[30374] INFO PASSED: correct reference system\n",
      "2025-01-16 14:38:35 Karim pandapower.diagnostic_reports[30374] WARNING \n",
      " --------\n",
      "\n",
      "2025-01-16 14:38:35 Karim pandapower.diagnostic_reports[30374] INFO PASSED: No elements with deviations from std_type found.\n",
      "2025-01-16 14:38:35 Karim pandapower.diagnostic_reports[30374] WARNING \n",
      " --------\n",
      "\n",
      "2025-01-16 14:38:35 Karim pandapower.diagnostic_reports[30374] INFO PASSED: No results with deviations between numba = True vs. False found.\n",
      "2025-01-16 14:38:35 Karim pandapower.diagnostic_reports[30374] WARNING \n",
      " --------\n",
      "\n",
      "2025-01-16 14:38:35 Karim pandapower.diagnostic_reports[30374] INFO PASSED: No parallel switches found.\n",
      "2025-01-16 14:38:35 Karim pandapower.diagnostic_reports[30374] WARNING \n",
      " --------\n",
      "\n",
      "2025-01-16 14:38:35 Karim pandapower.diagnostic_reports[30374] WARNING _____________ END OF PANDAPOWER DIAGNOSTIC _____________ \n"
     ]
    },
    {
     "data": {
      "text/plain": [
       "{}"
      ]
     },
     "execution_count": 166,
     "metadata": {},
     "output_type": "execute_result"
    }
   ],
   "source": [
    "pp.diagnostic(net_ExPF1_Pb1_heig)"
   ]
  },
  {
   "cell_type": "code",
   "execution_count": 167,
   "metadata": {},
   "outputs": [],
   "source": [
    "pp.runpp(net_ExPF1_Pb1_heig)"
   ]
  },
  {
   "cell_type": "code",
   "execution_count": 168,
   "metadata": {},
   "outputs": [
    {
     "data": {
      "text/plain": [
       "pandapower.auxiliary.pandapowerNet"
      ]
     },
     "execution_count": 168,
     "metadata": {},
     "output_type": "execute_result"
    }
   ],
   "source": [
    "type(net_ExPF1_Pb1_heig)"
   ]
  },
  {
   "cell_type": "code",
   "execution_count": 169,
   "metadata": {},
   "outputs": [
    {
     "data": {
      "application/vnd.plotly.v1+json": {
       "config": {
        "plotlyServerURL": "https://plot.ly"
       },
       "data": [
        {
         "hoverinfo": "text",
         "legendgroup": "Transformers",
         "line": {
          "color": "rgb(127.5,0.0,0.0)",
          "width": 7
         },
         "mode": "lines",
         "name": "Transformers",
         "showlegend": true,
         "text": "STMT003438<br>Loading: 229.2 %",
         "type": "scatter",
         "x": [
          0,
          0,
          0
         ],
         "y": [
          0,
          -0.5,
          -1
         ]
        },
        {
         "hoverinfo": "text",
         "legendgroup": "Transformers",
         "marker": {
          "color": "rgb(127.5,0.0,0.0)",
          "size": 1,
          "symbol": "circle"
         },
         "mode": "markers",
         "name": "edge_center",
         "showlegend": false,
         "text": [
          "STMT003438<br>Loading: 229.2 %"
         ],
         "type": "scatter",
         "x": [
          0
         ],
         "y": [
          -0.5
         ]
        },
        {
         "hoverinfo": "text",
         "legendgroup": "lines",
         "line": {
          "color": "rgb(0.0,0.0,127.5)",
          "width": 3
         },
         "mode": "lines",
         "name": "lines",
         "showlegend": true,
         "text": "GKN3x150_150<br>Loading: 0.0 %",
         "type": "scatter",
         "x": [
          0,
          -1,
          -2
         ],
         "y": [
          -1,
          -1.5,
          -2
         ]
        },
        {
         "hoverinfo": "text",
         "legendgroup": "lines",
         "line": {
          "color": "rgb(0.0,0.0,127.5)",
          "width": 3
         },
         "mode": "lines",
         "name": "lines",
         "showlegend": false,
         "text": "GKN3x150_150_2<br>Loading: 0.0 %",
         "type": "scatter",
         "x": [
          -2,
          -2.25,
          -2.5
         ],
         "y": [
          -2,
          -2.5,
          -3
         ]
        },
        {
         "hoverinfo": "text",
         "legendgroup": "lines",
         "line": {
          "color": "rgb(0.0,0.0,127.5)",
          "width": 3
         },
         "mode": "lines",
         "name": "lines",
         "showlegend": false,
         "text": "GKN3X95_95<br>Loading: 0.0 %",
         "type": "scatter",
         "x": [
          -2,
          -1.75,
          -1.5
         ],
         "y": [
          -2,
          -2.5,
          -3
         ]
        },
        {
         "hoverinfo": "text",
         "legendgroup": "lines",
         "line": {
          "color": "rgb(0.0,0.0,127.5)",
          "width": 3
         },
         "mode": "lines",
         "name": "lines",
         "showlegend": false,
         "text": "GKT3X50_50<br>Loading: 0.0 %",
         "type": "scatter",
         "x": [
          -1.5,
          -1.5,
          -1.5
         ],
         "y": [
          -3,
          -3.5,
          -4
         ]
        },
        {
         "hoverinfo": "text",
         "legendgroup": "lines",
         "line": {
          "color": "rgb(0.0,0.0,127.5)",
          "width": 3
         },
         "mode": "lines",
         "name": "lines",
         "showlegend": false,
         "text": "GKT3X50_50_2<br>Loading: 0.0 %",
         "type": "scatter",
         "x": [
          -1.5,
          -1.5,
          -1.5
         ],
         "y": [
          -4,
          -4.5,
          -5
         ]
        },
        {
         "hoverinfo": "text",
         "legendgroup": "lines",
         "line": {
          "color": "rgb(0.0,0.0,127.5)",
          "width": 3
         },
         "mode": "lines",
         "name": "lines",
         "showlegend": false,
         "text": "GKN3x150_150_3<br>Loading: 0.2 %",
         "type": "scatter",
         "x": [
          0,
          0.25,
          0.5
         ],
         "y": [
          -1,
          -1.5,
          -2
         ]
        },
        {
         "hoverinfo": "text",
         "legendgroup": "lines",
         "line": {
          "color": "rgb(0.0,0.0,127.5)",
          "width": 3
         },
         "mode": "lines",
         "name": "lines",
         "showlegend": false,
         "text": "GKN3X95_95_2<br>Loading: 0.0 %",
         "type": "scatter",
         "x": [
          0.5,
          0.25,
          0
         ],
         "y": [
          -2,
          -2.5,
          -3
         ]
        },
        {
         "hoverinfo": "text",
         "legendgroup": "lines",
         "line": {
          "color": "rgb(0.0,0.0,127.5)",
          "width": 3
         },
         "mode": "lines",
         "name": "lines",
         "showlegend": false,
         "text": "GKN3x150_150_4<br>Loading: 0.0 %",
         "type": "scatter",
         "x": [
          0,
          -0.25,
          -0.5
         ],
         "y": [
          -3,
          -3.5,
          -4
         ]
        },
        {
         "hoverinfo": "text",
         "legendgroup": "lines",
         "line": {
          "color": "rgb(0.0,0.0,127.5)",
          "width": 3
         },
         "mode": "lines",
         "name": "lines",
         "showlegend": false,
         "text": "GKN3X50_50<br>Loading: 0.0 %",
         "type": "scatter",
         "x": [
          0,
          0.25,
          0.5
         ],
         "y": [
          -3,
          -3.5,
          -4
         ]
        },
        {
         "hoverinfo": "text",
         "legendgroup": "lines",
         "line": {
          "color": "rgb(0.0,0.0,132.04545454545453)",
          "width": 3
         },
         "mode": "lines",
         "name": "lines",
         "showlegend": false,
         "text": "GKN3X50_50_2<br>Loading: 0.6 %",
         "type": "scatter",
         "x": [
          0.5,
          0.75,
          1
         ],
         "y": [
          -2,
          -2.5,
          -3
         ]
        },
        {
         "hoverinfo": "text",
         "legendgroup": "lines",
         "line": {
          "color": "rgb(0.0,0.0,127.5)",
          "width": 3
         },
         "mode": "lines",
         "name": "lines",
         "showlegend": false,
         "text": "GKN3X240_240<br>Loading: 0.2 %",
         "type": "scatter",
         "x": [
          0,
          0.75,
          1.5
         ],
         "y": [
          -1,
          -1.5,
          -2
         ]
        },
        {
         "marker": {
          "cmax": 100,
          "cmin": 0,
          "color": "rgb(255,255,255)",
          "colorbar": {
           "thickness": 10,
           "title": {
            "side": "right",
            "text": "Equipment loading [%]"
           },
           "x": 1.15
          },
          "colorscale": [
           [
            0,
            "rgb(0,0,131)"
           ],
           [
            0.2,
            "rgb(0,60,170)"
           ],
           [
            0.4,
            "rgb(5,255,255)"
           ],
           [
            0.6,
            "rgb(255,255,0)"
           ],
           [
            0.8,
            "rgb(250,0,0)"
           ],
           [
            1,
            "rgb(128,0,0)"
           ]
          ],
          "opacity": 0,
          "size": 0
         },
         "mode": "markers",
         "type": "scatter",
         "x": [
          0
         ],
         "y": [
          -1
         ]
        },
        {
         "hoverinfo": "text",
         "legendgroup": "lines",
         "marker": {
          "color": "rgb(128, 128, 128)",
          "size": 1,
          "symbol": "circle"
         },
         "mode": "markers",
         "name": "edge_center",
         "showlegend": false,
         "text": [
          "GKN3x150_150<br>Loading: 0.0 %",
          "GKN3x150_150_2<br>Loading: 0.0 %",
          "GKN3X95_95<br>Loading: 0.0 %",
          "GKT3X50_50<br>Loading: 0.0 %",
          "GKT3X50_50_2<br>Loading: 0.0 %",
          "GKN3x150_150_3<br>Loading: 0.2 %",
          "GKN3X95_95_2<br>Loading: 0.0 %",
          "GKN3x150_150_4<br>Loading: 0.0 %",
          "GKN3X50_50<br>Loading: 0.0 %",
          "GKN3X50_50_2<br>Loading: 0.6 %",
          "GKN3X240_240<br>Loading: 0.2 %"
         ],
         "type": "scatter",
         "x": [
          -1
         ],
         "y": [
          -1.5
         ]
        },
        {
         "hoverinfo": "text",
         "marker": {
          "color": "rgb(191, 191, 0)",
          "size": 30,
          "symbol": "square"
         },
         "mode": "markers",
         "name": "Ext grid",
         "text": [
          null
         ],
         "type": "scatter",
         "x": [
          0
         ],
         "y": [
          0
         ]
        },
        {
         "hoverinfo": "text",
         "marker": {
          "cmax": 1.15,
          "cmin": 0.85,
          "color": [
           0.9896058798356233,
           0.9775875493240986,
           0.9768900175716247,
           0.9729179429723366,
           0.9688807599882918,
           0.9669320990399959,
           1.0459435615632626,
           1.0426218940084215,
           1.0421289928834825,
           1.0405207721946026,
           1.4327635857903858,
           1.1123139607803618,
           1
          ],
          "colorbar": {
           "thickness": 10,
           "title": {
            "side": "right",
            "text": "Bus voltage [pu]"
           },
           "x": 1
          },
          "colorscale": [
           [
            0,
            "rgb(0,0,131)"
           ],
           [
            0.2,
            "rgb(0,60,170)"
           ],
           [
            0.4,
            "rgb(5,255,255)"
           ],
           [
            0.6,
            "rgb(255,255,0)"
           ],
           [
            0.8,
            "rgb(250,0,0)"
           ],
           [
            1,
            "rgb(128,0,0)"
           ]
          ],
          "size": 20,
          "symbol": "circle"
         },
         "mode": "markers",
         "name": "buses",
         "text": [
          "STMT003438<br>V: 0.99 pu",
          "CDBT004764<br>V: 0.978 pu",
          "CDBT003746<br>V: 0.977 pu",
          "CDBT004760<br>V: 0.973 pu",
          "CDBT012139<br>V: 0.969 pu",
          "CDBT900784<br>V: 0.967 pu",
          "CDBT901452<br>V: 1.046 pu",
          "CDBT004774<br>V: 1.043 pu",
          "CDBT901604<br>V: 1.042 pu",
          "CDBT016055<br>V: 1.041 pu",
          "N1<br>V: 1.433 pu",
          "60437<br>V: 1.112 pu",
          "STMT003438HV<br>V: 1.0 pu"
         ],
         "type": "scatter",
         "x": [
          0,
          -2,
          -2.5,
          -1.5,
          -1.5,
          -1.5,
          0.5,
          0,
          -0.5,
          0.5,
          1,
          1.5,
          0
         ],
         "y": [
          -1,
          -2,
          -3,
          -3,
          -4,
          -5,
          -2,
          -3,
          -4,
          -4,
          -3,
          -2,
          0
         ]
        }
       ],
       "layout": {
        "font": {
         "size": 15
        },
        "height": 400,
        "hovermode": "closest",
        "legend": {
         "font": {
          "size": 12
         },
         "itemsizing": "constant"
        },
        "margin": {
         "b": 5,
         "l": 5,
         "r": 5,
         "t": 30
        },
        "paper_bgcolor": "white",
        "plot_bgcolor": "white",
        "showlegend": false,
        "template": {
         "data": {
          "bar": [
           {
            "error_x": {
             "color": "#2a3f5f"
            },
            "error_y": {
             "color": "#2a3f5f"
            },
            "marker": {
             "line": {
              "color": "#E5ECF6",
              "width": 0.5
             },
             "pattern": {
              "fillmode": "overlay",
              "size": 10,
              "solidity": 0.2
             }
            },
            "type": "bar"
           }
          ],
          "barpolar": [
           {
            "marker": {
             "line": {
              "color": "#E5ECF6",
              "width": 0.5
             },
             "pattern": {
              "fillmode": "overlay",
              "size": 10,
              "solidity": 0.2
             }
            },
            "type": "barpolar"
           }
          ],
          "carpet": [
           {
            "aaxis": {
             "endlinecolor": "#2a3f5f",
             "gridcolor": "white",
             "linecolor": "white",
             "minorgridcolor": "white",
             "startlinecolor": "#2a3f5f"
            },
            "baxis": {
             "endlinecolor": "#2a3f5f",
             "gridcolor": "white",
             "linecolor": "white",
             "minorgridcolor": "white",
             "startlinecolor": "#2a3f5f"
            },
            "type": "carpet"
           }
          ],
          "choropleth": [
           {
            "colorbar": {
             "outlinewidth": 0,
             "ticks": ""
            },
            "type": "choropleth"
           }
          ],
          "contour": [
           {
            "colorbar": {
             "outlinewidth": 0,
             "ticks": ""
            },
            "colorscale": [
             [
              0,
              "#0d0887"
             ],
             [
              0.1111111111111111,
              "#46039f"
             ],
             [
              0.2222222222222222,
              "#7201a8"
             ],
             [
              0.3333333333333333,
              "#9c179e"
             ],
             [
              0.4444444444444444,
              "#bd3786"
             ],
             [
              0.5555555555555556,
              "#d8576b"
             ],
             [
              0.6666666666666666,
              "#ed7953"
             ],
             [
              0.7777777777777778,
              "#fb9f3a"
             ],
             [
              0.8888888888888888,
              "#fdca26"
             ],
             [
              1,
              "#f0f921"
             ]
            ],
            "type": "contour"
           }
          ],
          "contourcarpet": [
           {
            "colorbar": {
             "outlinewidth": 0,
             "ticks": ""
            },
            "type": "contourcarpet"
           }
          ],
          "heatmap": [
           {
            "colorbar": {
             "outlinewidth": 0,
             "ticks": ""
            },
            "colorscale": [
             [
              0,
              "#0d0887"
             ],
             [
              0.1111111111111111,
              "#46039f"
             ],
             [
              0.2222222222222222,
              "#7201a8"
             ],
             [
              0.3333333333333333,
              "#9c179e"
             ],
             [
              0.4444444444444444,
              "#bd3786"
             ],
             [
              0.5555555555555556,
              "#d8576b"
             ],
             [
              0.6666666666666666,
              "#ed7953"
             ],
             [
              0.7777777777777778,
              "#fb9f3a"
             ],
             [
              0.8888888888888888,
              "#fdca26"
             ],
             [
              1,
              "#f0f921"
             ]
            ],
            "type": "heatmap"
           }
          ],
          "heatmapgl": [
           {
            "colorbar": {
             "outlinewidth": 0,
             "ticks": ""
            },
            "colorscale": [
             [
              0,
              "#0d0887"
             ],
             [
              0.1111111111111111,
              "#46039f"
             ],
             [
              0.2222222222222222,
              "#7201a8"
             ],
             [
              0.3333333333333333,
              "#9c179e"
             ],
             [
              0.4444444444444444,
              "#bd3786"
             ],
             [
              0.5555555555555556,
              "#d8576b"
             ],
             [
              0.6666666666666666,
              "#ed7953"
             ],
             [
              0.7777777777777778,
              "#fb9f3a"
             ],
             [
              0.8888888888888888,
              "#fdca26"
             ],
             [
              1,
              "#f0f921"
             ]
            ],
            "type": "heatmapgl"
           }
          ],
          "histogram": [
           {
            "marker": {
             "pattern": {
              "fillmode": "overlay",
              "size": 10,
              "solidity": 0.2
             }
            },
            "type": "histogram"
           }
          ],
          "histogram2d": [
           {
            "colorbar": {
             "outlinewidth": 0,
             "ticks": ""
            },
            "colorscale": [
             [
              0,
              "#0d0887"
             ],
             [
              0.1111111111111111,
              "#46039f"
             ],
             [
              0.2222222222222222,
              "#7201a8"
             ],
             [
              0.3333333333333333,
              "#9c179e"
             ],
             [
              0.4444444444444444,
              "#bd3786"
             ],
             [
              0.5555555555555556,
              "#d8576b"
             ],
             [
              0.6666666666666666,
              "#ed7953"
             ],
             [
              0.7777777777777778,
              "#fb9f3a"
             ],
             [
              0.8888888888888888,
              "#fdca26"
             ],
             [
              1,
              "#f0f921"
             ]
            ],
            "type": "histogram2d"
           }
          ],
          "histogram2dcontour": [
           {
            "colorbar": {
             "outlinewidth": 0,
             "ticks": ""
            },
            "colorscale": [
             [
              0,
              "#0d0887"
             ],
             [
              0.1111111111111111,
              "#46039f"
             ],
             [
              0.2222222222222222,
              "#7201a8"
             ],
             [
              0.3333333333333333,
              "#9c179e"
             ],
             [
              0.4444444444444444,
              "#bd3786"
             ],
             [
              0.5555555555555556,
              "#d8576b"
             ],
             [
              0.6666666666666666,
              "#ed7953"
             ],
             [
              0.7777777777777778,
              "#fb9f3a"
             ],
             [
              0.8888888888888888,
              "#fdca26"
             ],
             [
              1,
              "#f0f921"
             ]
            ],
            "type": "histogram2dcontour"
           }
          ],
          "mesh3d": [
           {
            "colorbar": {
             "outlinewidth": 0,
             "ticks": ""
            },
            "type": "mesh3d"
           }
          ],
          "parcoords": [
           {
            "line": {
             "colorbar": {
              "outlinewidth": 0,
              "ticks": ""
             }
            },
            "type": "parcoords"
           }
          ],
          "pie": [
           {
            "automargin": true,
            "type": "pie"
           }
          ],
          "scatter": [
           {
            "fillpattern": {
             "fillmode": "overlay",
             "size": 10,
             "solidity": 0.2
            },
            "type": "scatter"
           }
          ],
          "scatter3d": [
           {
            "line": {
             "colorbar": {
              "outlinewidth": 0,
              "ticks": ""
             }
            },
            "marker": {
             "colorbar": {
              "outlinewidth": 0,
              "ticks": ""
             }
            },
            "type": "scatter3d"
           }
          ],
          "scattercarpet": [
           {
            "marker": {
             "colorbar": {
              "outlinewidth": 0,
              "ticks": ""
             }
            },
            "type": "scattercarpet"
           }
          ],
          "scattergeo": [
           {
            "marker": {
             "colorbar": {
              "outlinewidth": 0,
              "ticks": ""
             }
            },
            "type": "scattergeo"
           }
          ],
          "scattergl": [
           {
            "marker": {
             "colorbar": {
              "outlinewidth": 0,
              "ticks": ""
             }
            },
            "type": "scattergl"
           }
          ],
          "scattermapbox": [
           {
            "marker": {
             "colorbar": {
              "outlinewidth": 0,
              "ticks": ""
             }
            },
            "type": "scattermapbox"
           }
          ],
          "scatterpolar": [
           {
            "marker": {
             "colorbar": {
              "outlinewidth": 0,
              "ticks": ""
             }
            },
            "type": "scatterpolar"
           }
          ],
          "scatterpolargl": [
           {
            "marker": {
             "colorbar": {
              "outlinewidth": 0,
              "ticks": ""
             }
            },
            "type": "scatterpolargl"
           }
          ],
          "scatterternary": [
           {
            "marker": {
             "colorbar": {
              "outlinewidth": 0,
              "ticks": ""
             }
            },
            "type": "scatterternary"
           }
          ],
          "surface": [
           {
            "colorbar": {
             "outlinewidth": 0,
             "ticks": ""
            },
            "colorscale": [
             [
              0,
              "#0d0887"
             ],
             [
              0.1111111111111111,
              "#46039f"
             ],
             [
              0.2222222222222222,
              "#7201a8"
             ],
             [
              0.3333333333333333,
              "#9c179e"
             ],
             [
              0.4444444444444444,
              "#bd3786"
             ],
             [
              0.5555555555555556,
              "#d8576b"
             ],
             [
              0.6666666666666666,
              "#ed7953"
             ],
             [
              0.7777777777777778,
              "#fb9f3a"
             ],
             [
              0.8888888888888888,
              "#fdca26"
             ],
             [
              1,
              "#f0f921"
             ]
            ],
            "type": "surface"
           }
          ],
          "table": [
           {
            "cells": {
             "fill": {
              "color": "#EBF0F8"
             },
             "line": {
              "color": "white"
             }
            },
            "header": {
             "fill": {
              "color": "#C8D4E3"
             },
             "line": {
              "color": "white"
             }
            },
            "type": "table"
           }
          ]
         },
         "layout": {
          "annotationdefaults": {
           "arrowcolor": "#2a3f5f",
           "arrowhead": 0,
           "arrowwidth": 1
          },
          "autotypenumbers": "strict",
          "coloraxis": {
           "colorbar": {
            "outlinewidth": 0,
            "ticks": ""
           }
          },
          "colorscale": {
           "diverging": [
            [
             0,
             "#8e0152"
            ],
            [
             0.1,
             "#c51b7d"
            ],
            [
             0.2,
             "#de77ae"
            ],
            [
             0.3,
             "#f1b6da"
            ],
            [
             0.4,
             "#fde0ef"
            ],
            [
             0.5,
             "#f7f7f7"
            ],
            [
             0.6,
             "#e6f5d0"
            ],
            [
             0.7,
             "#b8e186"
            ],
            [
             0.8,
             "#7fbc41"
            ],
            [
             0.9,
             "#4d9221"
            ],
            [
             1,
             "#276419"
            ]
           ],
           "sequential": [
            [
             0,
             "#0d0887"
            ],
            [
             0.1111111111111111,
             "#46039f"
            ],
            [
             0.2222222222222222,
             "#7201a8"
            ],
            [
             0.3333333333333333,
             "#9c179e"
            ],
            [
             0.4444444444444444,
             "#bd3786"
            ],
            [
             0.5555555555555556,
             "#d8576b"
            ],
            [
             0.6666666666666666,
             "#ed7953"
            ],
            [
             0.7777777777777778,
             "#fb9f3a"
            ],
            [
             0.8888888888888888,
             "#fdca26"
            ],
            [
             1,
             "#f0f921"
            ]
           ],
           "sequentialminus": [
            [
             0,
             "#0d0887"
            ],
            [
             0.1111111111111111,
             "#46039f"
            ],
            [
             0.2222222222222222,
             "#7201a8"
            ],
            [
             0.3333333333333333,
             "#9c179e"
            ],
            [
             0.4444444444444444,
             "#bd3786"
            ],
            [
             0.5555555555555556,
             "#d8576b"
            ],
            [
             0.6666666666666666,
             "#ed7953"
            ],
            [
             0.7777777777777778,
             "#fb9f3a"
            ],
            [
             0.8888888888888888,
             "#fdca26"
            ],
            [
             1,
             "#f0f921"
            ]
           ]
          },
          "colorway": [
           "#636efa",
           "#EF553B",
           "#00cc96",
           "#ab63fa",
           "#FFA15A",
           "#19d3f3",
           "#FF6692",
           "#B6E880",
           "#FF97FF",
           "#FECB52"
          ],
          "font": {
           "color": "#2a3f5f"
          },
          "geo": {
           "bgcolor": "white",
           "lakecolor": "white",
           "landcolor": "#E5ECF6",
           "showlakes": true,
           "showland": true,
           "subunitcolor": "white"
          },
          "hoverlabel": {
           "align": "left"
          },
          "hovermode": "closest",
          "mapbox": {
           "style": "light"
          },
          "paper_bgcolor": "white",
          "plot_bgcolor": "#E5ECF6",
          "polar": {
           "angularaxis": {
            "gridcolor": "white",
            "linecolor": "white",
            "ticks": ""
           },
           "bgcolor": "#E5ECF6",
           "radialaxis": {
            "gridcolor": "white",
            "linecolor": "white",
            "ticks": ""
           }
          },
          "scene": {
           "xaxis": {
            "backgroundcolor": "#E5ECF6",
            "gridcolor": "white",
            "gridwidth": 2,
            "linecolor": "white",
            "showbackground": true,
            "ticks": "",
            "zerolinecolor": "white"
           },
           "yaxis": {
            "backgroundcolor": "#E5ECF6",
            "gridcolor": "white",
            "gridwidth": 2,
            "linecolor": "white",
            "showbackground": true,
            "ticks": "",
            "zerolinecolor": "white"
           },
           "zaxis": {
            "backgroundcolor": "#E5ECF6",
            "gridcolor": "white",
            "gridwidth": 2,
            "linecolor": "white",
            "showbackground": true,
            "ticks": "",
            "zerolinecolor": "white"
           }
          },
          "shapedefaults": {
           "line": {
            "color": "#2a3f5f"
           }
          },
          "ternary": {
           "aaxis": {
            "gridcolor": "white",
            "linecolor": "white",
            "ticks": ""
           },
           "baxis": {
            "gridcolor": "white",
            "linecolor": "white",
            "ticks": ""
           },
           "bgcolor": "#E5ECF6",
           "caxis": {
            "gridcolor": "white",
            "linecolor": "white",
            "ticks": ""
           }
          },
          "title": {
           "x": 0.05
          },
          "xaxis": {
           "automargin": true,
           "gridcolor": "white",
           "linecolor": "white",
           "ticks": "",
           "title": {
            "standoff": 15
           },
           "zerolinecolor": "white",
           "zerolinewidth": 2
          },
          "yaxis": {
           "automargin": true,
           "gridcolor": "white",
           "linecolor": "white",
           "ticks": "",
           "title": {
            "standoff": 15
           },
           "zerolinecolor": "white",
           "zerolinewidth": 2
          }
         }
        },
        "title": {
         "text": "<b>Exercice Power flow 1 : Problème 1 - results<b>",
         "x": 0.5,
         "xanchor": "center",
         "y": 0.97,
         "yanchor": "top"
        },
        "width": 770,
        "xaxis": {
         "showgrid": false,
         "showticklabels": false,
         "tickfont": {
          "family": "Arial Black",
          "size": 12
         },
         "title": {
          "font": {
           "size": 12
          }
         },
         "zeroline": false
        },
        "yaxis": {
         "showgrid": false,
         "showticklabels": false,
         "tickfont": {
          "family": "Arial Black",
          "size": 12
         },
         "title": {
          "font": {
           "size": 12
          }
         },
         "zeroline": false
        }
       }
      },
      "text/html": [
       "<div>                            <div id=\"b2c2c99f-5099-4662-bbbe-be1c6d7d45e5\" class=\"plotly-graph-div\" style=\"height:400px; width:770px;\"></div>            <script type=\"text/javascript\">                require([\"plotly\"], function(Plotly) {                    window.PLOTLYENV=window.PLOTLYENV || {};                                    if (document.getElementById(\"b2c2c99f-5099-4662-bbbe-be1c6d7d45e5\")) {                    Plotly.newPlot(                        \"b2c2c99f-5099-4662-bbbe-be1c6d7d45e5\",                        [{\"hoverinfo\":\"text\",\"legendgroup\":\"Transformers\",\"line\":{\"color\":\"rgb(127.5,0.0,0.0)\",\"width\":7},\"mode\":\"lines\",\"name\":\"Transformers\",\"showlegend\":true,\"text\":\"STMT003438\\u003cbr\\u003eLoading: 229.2 %\",\"x\":[0.0,0.0,0.0],\"y\":[-0.0,-0.5,-1.0],\"type\":\"scatter\"},{\"hoverinfo\":\"text\",\"legendgroup\":\"Transformers\",\"marker\":{\"color\":\"rgb(127.5,0.0,0.0)\",\"size\":1,\"symbol\":\"circle\"},\"mode\":\"markers\",\"name\":\"edge_center\",\"showlegend\":false,\"text\":[\"STMT003438\\u003cbr\\u003eLoading: 229.2 %\"],\"x\":[0.0],\"y\":[-0.5],\"type\":\"scatter\"},{\"hoverinfo\":\"text\",\"legendgroup\":\"lines\",\"line\":{\"color\":\"rgb(0.0,0.0,127.5)\",\"width\":3},\"mode\":\"lines\",\"name\":\"lines\",\"showlegend\":true,\"text\":\"GKN3x150_150\\u003cbr\\u003eLoading: 0.0 %\",\"x\":[0.0,-1.0,-2.0],\"y\":[-1.0,-1.5,-2.0],\"type\":\"scatter\"},{\"hoverinfo\":\"text\",\"legendgroup\":\"lines\",\"line\":{\"color\":\"rgb(0.0,0.0,127.5)\",\"width\":3},\"mode\":\"lines\",\"name\":\"lines\",\"showlegend\":false,\"text\":\"GKN3x150_150_2\\u003cbr\\u003eLoading: 0.0 %\",\"x\":[-2.0,-2.25,-2.5],\"y\":[-2.0,-2.5,-3.0],\"type\":\"scatter\"},{\"hoverinfo\":\"text\",\"legendgroup\":\"lines\",\"line\":{\"color\":\"rgb(0.0,0.0,127.5)\",\"width\":3},\"mode\":\"lines\",\"name\":\"lines\",\"showlegend\":false,\"text\":\"GKN3X95_95\\u003cbr\\u003eLoading: 0.0 %\",\"x\":[-2.0,-1.75,-1.5],\"y\":[-2.0,-2.5,-3.0],\"type\":\"scatter\"},{\"hoverinfo\":\"text\",\"legendgroup\":\"lines\",\"line\":{\"color\":\"rgb(0.0,0.0,127.5)\",\"width\":3},\"mode\":\"lines\",\"name\":\"lines\",\"showlegend\":false,\"text\":\"GKT3X50_50\\u003cbr\\u003eLoading: 0.0 %\",\"x\":[-1.5,-1.5,-1.5],\"y\":[-3.0,-3.5,-4.0],\"type\":\"scatter\"},{\"hoverinfo\":\"text\",\"legendgroup\":\"lines\",\"line\":{\"color\":\"rgb(0.0,0.0,127.5)\",\"width\":3},\"mode\":\"lines\",\"name\":\"lines\",\"showlegend\":false,\"text\":\"GKT3X50_50_2\\u003cbr\\u003eLoading: 0.0 %\",\"x\":[-1.5,-1.5,-1.5],\"y\":[-4.0,-4.5,-5.0],\"type\":\"scatter\"},{\"hoverinfo\":\"text\",\"legendgroup\":\"lines\",\"line\":{\"color\":\"rgb(0.0,0.0,127.5)\",\"width\":3},\"mode\":\"lines\",\"name\":\"lines\",\"showlegend\":false,\"text\":\"GKN3x150_150_3\\u003cbr\\u003eLoading: 0.2 %\",\"x\":[0.0,0.25,0.5],\"y\":[-1.0,-1.5,-2.0],\"type\":\"scatter\"},{\"hoverinfo\":\"text\",\"legendgroup\":\"lines\",\"line\":{\"color\":\"rgb(0.0,0.0,127.5)\",\"width\":3},\"mode\":\"lines\",\"name\":\"lines\",\"showlegend\":false,\"text\":\"GKN3X95_95_2\\u003cbr\\u003eLoading: 0.0 %\",\"x\":[0.5,0.25,0.0],\"y\":[-2.0,-2.5,-3.0],\"type\":\"scatter\"},{\"hoverinfo\":\"text\",\"legendgroup\":\"lines\",\"line\":{\"color\":\"rgb(0.0,0.0,127.5)\",\"width\":3},\"mode\":\"lines\",\"name\":\"lines\",\"showlegend\":false,\"text\":\"GKN3x150_150_4\\u003cbr\\u003eLoading: 0.0 %\",\"x\":[0.0,-0.25,-0.5],\"y\":[-3.0,-3.5,-4.0],\"type\":\"scatter\"},{\"hoverinfo\":\"text\",\"legendgroup\":\"lines\",\"line\":{\"color\":\"rgb(0.0,0.0,127.5)\",\"width\":3},\"mode\":\"lines\",\"name\":\"lines\",\"showlegend\":false,\"text\":\"GKN3X50_50\\u003cbr\\u003eLoading: 0.0 %\",\"x\":[0.0,0.25,0.5],\"y\":[-3.0,-3.5,-4.0],\"type\":\"scatter\"},{\"hoverinfo\":\"text\",\"legendgroup\":\"lines\",\"line\":{\"color\":\"rgb(0.0,0.0,132.04545454545453)\",\"width\":3},\"mode\":\"lines\",\"name\":\"lines\",\"showlegend\":false,\"text\":\"GKN3X50_50_2\\u003cbr\\u003eLoading: 0.6 %\",\"x\":[0.5,0.75,1.0],\"y\":[-2.0,-2.5,-3.0],\"type\":\"scatter\"},{\"hoverinfo\":\"text\",\"legendgroup\":\"lines\",\"line\":{\"color\":\"rgb(0.0,0.0,127.5)\",\"width\":3},\"mode\":\"lines\",\"name\":\"lines\",\"showlegend\":false,\"text\":\"GKN3X240_240\\u003cbr\\u003eLoading: 0.2 %\",\"x\":[0.0,0.75,1.5],\"y\":[-1.0,-1.5,-2.0],\"type\":\"scatter\"},{\"marker\":{\"cmax\":100,\"cmin\":0,\"color\":\"rgb(255,255,255)\",\"colorbar\":{\"thickness\":10,\"title\":{\"side\":\"right\",\"text\":\"Equipment loading [%]\"},\"x\":1.15},\"colorscale\":[[0.0,\"rgb(0,0,131)\"],[0.2,\"rgb(0,60,170)\"],[0.4,\"rgb(5,255,255)\"],[0.6,\"rgb(255,255,0)\"],[0.8,\"rgb(250,0,0)\"],[1.0,\"rgb(128,0,0)\"]],\"opacity\":0,\"size\":0},\"mode\":\"markers\",\"x\":[0.0],\"y\":[-1.0],\"type\":\"scatter\"},{\"hoverinfo\":\"text\",\"legendgroup\":\"lines\",\"marker\":{\"color\":\"rgb(128, 128, 128)\",\"size\":1,\"symbol\":\"circle\"},\"mode\":\"markers\",\"name\":\"edge_center\",\"showlegend\":false,\"text\":[\"GKN3x150_150\\u003cbr\\u003eLoading: 0.0 %\",\"GKN3x150_150_2\\u003cbr\\u003eLoading: 0.0 %\",\"GKN3X95_95\\u003cbr\\u003eLoading: 0.0 %\",\"GKT3X50_50\\u003cbr\\u003eLoading: 0.0 %\",\"GKT3X50_50_2\\u003cbr\\u003eLoading: 0.0 %\",\"GKN3x150_150_3\\u003cbr\\u003eLoading: 0.2 %\",\"GKN3X95_95_2\\u003cbr\\u003eLoading: 0.0 %\",\"GKN3x150_150_4\\u003cbr\\u003eLoading: 0.0 %\",\"GKN3X50_50\\u003cbr\\u003eLoading: 0.0 %\",\"GKN3X50_50_2\\u003cbr\\u003eLoading: 0.6 %\",\"GKN3X240_240\\u003cbr\\u003eLoading: 0.2 %\"],\"x\":[-1.0],\"y\":[-1.5],\"type\":\"scatter\"},{\"hoverinfo\":\"text\",\"marker\":{\"color\":\"rgb(191, 191, 0)\",\"size\":30,\"symbol\":\"square\"},\"mode\":\"markers\",\"name\":\"Ext grid\",\"text\":[null],\"x\":[0.0],\"y\":[-0.0],\"type\":\"scatter\"},{\"hoverinfo\":\"text\",\"marker\":{\"cmax\":1.15,\"cmin\":0.85,\"color\":[0.9896058798356233,0.9775875493240986,0.9768900175716247,0.9729179429723366,0.9688807599882918,0.9669320990399959,1.0459435615632626,1.0426218940084215,1.0421289928834825,1.0405207721946026,1.4327635857903858,1.1123139607803618,1.0],\"colorbar\":{\"thickness\":10,\"title\":{\"side\":\"right\",\"text\":\"Bus voltage [pu]\"},\"x\":1.0},\"colorscale\":[[0.0,\"rgb(0,0,131)\"],[0.2,\"rgb(0,60,170)\"],[0.4,\"rgb(5,255,255)\"],[0.6,\"rgb(255,255,0)\"],[0.8,\"rgb(250,0,0)\"],[1.0,\"rgb(128,0,0)\"]],\"size\":20,\"symbol\":\"circle\"},\"mode\":\"markers\",\"name\":\"buses\",\"text\":[\"STMT003438\\u003cbr\\u003eV: 0.99 pu\",\"CDBT004764\\u003cbr\\u003eV: 0.978 pu\",\"CDBT003746\\u003cbr\\u003eV: 0.977 pu\",\"CDBT004760\\u003cbr\\u003eV: 0.973 pu\",\"CDBT012139\\u003cbr\\u003eV: 0.969 pu\",\"CDBT900784\\u003cbr\\u003eV: 0.967 pu\",\"CDBT901452\\u003cbr\\u003eV: 1.046 pu\",\"CDBT004774\\u003cbr\\u003eV: 1.043 pu\",\"CDBT901604\\u003cbr\\u003eV: 1.042 pu\",\"CDBT016055\\u003cbr\\u003eV: 1.041 pu\",\"N1\\u003cbr\\u003eV: 1.433 pu\",\"60437\\u003cbr\\u003eV: 1.112 pu\",\"STMT003438HV\\u003cbr\\u003eV: 1.0 pu\"],\"x\":[0.0,-2.0,-2.5,-1.5,-1.5,-1.5,0.5,0.0,-0.5,0.5,1.0,1.5,0.0],\"y\":[-1.0,-2.0,-3.0,-3.0,-4.0,-5.0,-2.0,-3.0,-4.0,-4.0,-3.0,-2.0,-0.0],\"type\":\"scatter\"}],                        {\"hovermode\":\"closest\",\"legend\":{\"itemsizing\":\"constant\",\"font\":{\"size\":12}},\"margin\":{\"b\":5,\"l\":5,\"r\":5,\"t\":30},\"showlegend\":false,\"xaxis\":{\"showgrid\":false,\"showticklabels\":false,\"zeroline\":false,\"tickfont\":{\"size\":12,\"family\":\"Arial Black\"},\"title\":{\"font\":{\"size\":12}}},\"yaxis\":{\"showgrid\":false,\"showticklabels\":false,\"zeroline\":false,\"tickfont\":{\"size\":12,\"family\":\"Arial Black\"},\"title\":{\"font\":{\"size\":12}}},\"template\":{\"data\":{\"histogram2dcontour\":[{\"type\":\"histogram2dcontour\",\"colorbar\":{\"outlinewidth\":0,\"ticks\":\"\"},\"colorscale\":[[0.0,\"#0d0887\"],[0.1111111111111111,\"#46039f\"],[0.2222222222222222,\"#7201a8\"],[0.3333333333333333,\"#9c179e\"],[0.4444444444444444,\"#bd3786\"],[0.5555555555555556,\"#d8576b\"],[0.6666666666666666,\"#ed7953\"],[0.7777777777777778,\"#fb9f3a\"],[0.8888888888888888,\"#fdca26\"],[1.0,\"#f0f921\"]]}],\"choropleth\":[{\"type\":\"choropleth\",\"colorbar\":{\"outlinewidth\":0,\"ticks\":\"\"}}],\"histogram2d\":[{\"type\":\"histogram2d\",\"colorbar\":{\"outlinewidth\":0,\"ticks\":\"\"},\"colorscale\":[[0.0,\"#0d0887\"],[0.1111111111111111,\"#46039f\"],[0.2222222222222222,\"#7201a8\"],[0.3333333333333333,\"#9c179e\"],[0.4444444444444444,\"#bd3786\"],[0.5555555555555556,\"#d8576b\"],[0.6666666666666666,\"#ed7953\"],[0.7777777777777778,\"#fb9f3a\"],[0.8888888888888888,\"#fdca26\"],[1.0,\"#f0f921\"]]}],\"heatmap\":[{\"type\":\"heatmap\",\"colorbar\":{\"outlinewidth\":0,\"ticks\":\"\"},\"colorscale\":[[0.0,\"#0d0887\"],[0.1111111111111111,\"#46039f\"],[0.2222222222222222,\"#7201a8\"],[0.3333333333333333,\"#9c179e\"],[0.4444444444444444,\"#bd3786\"],[0.5555555555555556,\"#d8576b\"],[0.6666666666666666,\"#ed7953\"],[0.7777777777777778,\"#fb9f3a\"],[0.8888888888888888,\"#fdca26\"],[1.0,\"#f0f921\"]]}],\"heatmapgl\":[{\"type\":\"heatmapgl\",\"colorbar\":{\"outlinewidth\":0,\"ticks\":\"\"},\"colorscale\":[[0.0,\"#0d0887\"],[0.1111111111111111,\"#46039f\"],[0.2222222222222222,\"#7201a8\"],[0.3333333333333333,\"#9c179e\"],[0.4444444444444444,\"#bd3786\"],[0.5555555555555556,\"#d8576b\"],[0.6666666666666666,\"#ed7953\"],[0.7777777777777778,\"#fb9f3a\"],[0.8888888888888888,\"#fdca26\"],[1.0,\"#f0f921\"]]}],\"contourcarpet\":[{\"type\":\"contourcarpet\",\"colorbar\":{\"outlinewidth\":0,\"ticks\":\"\"}}],\"contour\":[{\"type\":\"contour\",\"colorbar\":{\"outlinewidth\":0,\"ticks\":\"\"},\"colorscale\":[[0.0,\"#0d0887\"],[0.1111111111111111,\"#46039f\"],[0.2222222222222222,\"#7201a8\"],[0.3333333333333333,\"#9c179e\"],[0.4444444444444444,\"#bd3786\"],[0.5555555555555556,\"#d8576b\"],[0.6666666666666666,\"#ed7953\"],[0.7777777777777778,\"#fb9f3a\"],[0.8888888888888888,\"#fdca26\"],[1.0,\"#f0f921\"]]}],\"surface\":[{\"type\":\"surface\",\"colorbar\":{\"outlinewidth\":0,\"ticks\":\"\"},\"colorscale\":[[0.0,\"#0d0887\"],[0.1111111111111111,\"#46039f\"],[0.2222222222222222,\"#7201a8\"],[0.3333333333333333,\"#9c179e\"],[0.4444444444444444,\"#bd3786\"],[0.5555555555555556,\"#d8576b\"],[0.6666666666666666,\"#ed7953\"],[0.7777777777777778,\"#fb9f3a\"],[0.8888888888888888,\"#fdca26\"],[1.0,\"#f0f921\"]]}],\"mesh3d\":[{\"type\":\"mesh3d\",\"colorbar\":{\"outlinewidth\":0,\"ticks\":\"\"}}],\"scatter\":[{\"fillpattern\":{\"fillmode\":\"overlay\",\"size\":10,\"solidity\":0.2},\"type\":\"scatter\"}],\"parcoords\":[{\"type\":\"parcoords\",\"line\":{\"colorbar\":{\"outlinewidth\":0,\"ticks\":\"\"}}}],\"scatterpolargl\":[{\"type\":\"scatterpolargl\",\"marker\":{\"colorbar\":{\"outlinewidth\":0,\"ticks\":\"\"}}}],\"bar\":[{\"error_x\":{\"color\":\"#2a3f5f\"},\"error_y\":{\"color\":\"#2a3f5f\"},\"marker\":{\"line\":{\"color\":\"#E5ECF6\",\"width\":0.5},\"pattern\":{\"fillmode\":\"overlay\",\"size\":10,\"solidity\":0.2}},\"type\":\"bar\"}],\"scattergeo\":[{\"type\":\"scattergeo\",\"marker\":{\"colorbar\":{\"outlinewidth\":0,\"ticks\":\"\"}}}],\"scatterpolar\":[{\"type\":\"scatterpolar\",\"marker\":{\"colorbar\":{\"outlinewidth\":0,\"ticks\":\"\"}}}],\"histogram\":[{\"marker\":{\"pattern\":{\"fillmode\":\"overlay\",\"size\":10,\"solidity\":0.2}},\"type\":\"histogram\"}],\"scattergl\":[{\"type\":\"scattergl\",\"marker\":{\"colorbar\":{\"outlinewidth\":0,\"ticks\":\"\"}}}],\"scatter3d\":[{\"type\":\"scatter3d\",\"line\":{\"colorbar\":{\"outlinewidth\":0,\"ticks\":\"\"}},\"marker\":{\"colorbar\":{\"outlinewidth\":0,\"ticks\":\"\"}}}],\"scattermapbox\":[{\"type\":\"scattermapbox\",\"marker\":{\"colorbar\":{\"outlinewidth\":0,\"ticks\":\"\"}}}],\"scatterternary\":[{\"type\":\"scatterternary\",\"marker\":{\"colorbar\":{\"outlinewidth\":0,\"ticks\":\"\"}}}],\"scattercarpet\":[{\"type\":\"scattercarpet\",\"marker\":{\"colorbar\":{\"outlinewidth\":0,\"ticks\":\"\"}}}],\"carpet\":[{\"aaxis\":{\"endlinecolor\":\"#2a3f5f\",\"gridcolor\":\"white\",\"linecolor\":\"white\",\"minorgridcolor\":\"white\",\"startlinecolor\":\"#2a3f5f\"},\"baxis\":{\"endlinecolor\":\"#2a3f5f\",\"gridcolor\":\"white\",\"linecolor\":\"white\",\"minorgridcolor\":\"white\",\"startlinecolor\":\"#2a3f5f\"},\"type\":\"carpet\"}],\"table\":[{\"cells\":{\"fill\":{\"color\":\"#EBF0F8\"},\"line\":{\"color\":\"white\"}},\"header\":{\"fill\":{\"color\":\"#C8D4E3\"},\"line\":{\"color\":\"white\"}},\"type\":\"table\"}],\"barpolar\":[{\"marker\":{\"line\":{\"color\":\"#E5ECF6\",\"width\":0.5},\"pattern\":{\"fillmode\":\"overlay\",\"size\":10,\"solidity\":0.2}},\"type\":\"barpolar\"}],\"pie\":[{\"automargin\":true,\"type\":\"pie\"}]},\"layout\":{\"autotypenumbers\":\"strict\",\"colorway\":[\"#636efa\",\"#EF553B\",\"#00cc96\",\"#ab63fa\",\"#FFA15A\",\"#19d3f3\",\"#FF6692\",\"#B6E880\",\"#FF97FF\",\"#FECB52\"],\"font\":{\"color\":\"#2a3f5f\"},\"hovermode\":\"closest\",\"hoverlabel\":{\"align\":\"left\"},\"paper_bgcolor\":\"white\",\"plot_bgcolor\":\"#E5ECF6\",\"polar\":{\"bgcolor\":\"#E5ECF6\",\"angularaxis\":{\"gridcolor\":\"white\",\"linecolor\":\"white\",\"ticks\":\"\"},\"radialaxis\":{\"gridcolor\":\"white\",\"linecolor\":\"white\",\"ticks\":\"\"}},\"ternary\":{\"bgcolor\":\"#E5ECF6\",\"aaxis\":{\"gridcolor\":\"white\",\"linecolor\":\"white\",\"ticks\":\"\"},\"baxis\":{\"gridcolor\":\"white\",\"linecolor\":\"white\",\"ticks\":\"\"},\"caxis\":{\"gridcolor\":\"white\",\"linecolor\":\"white\",\"ticks\":\"\"}},\"coloraxis\":{\"colorbar\":{\"outlinewidth\":0,\"ticks\":\"\"}},\"colorscale\":{\"sequential\":[[0.0,\"#0d0887\"],[0.1111111111111111,\"#46039f\"],[0.2222222222222222,\"#7201a8\"],[0.3333333333333333,\"#9c179e\"],[0.4444444444444444,\"#bd3786\"],[0.5555555555555556,\"#d8576b\"],[0.6666666666666666,\"#ed7953\"],[0.7777777777777778,\"#fb9f3a\"],[0.8888888888888888,\"#fdca26\"],[1.0,\"#f0f921\"]],\"sequentialminus\":[[0.0,\"#0d0887\"],[0.1111111111111111,\"#46039f\"],[0.2222222222222222,\"#7201a8\"],[0.3333333333333333,\"#9c179e\"],[0.4444444444444444,\"#bd3786\"],[0.5555555555555556,\"#d8576b\"],[0.6666666666666666,\"#ed7953\"],[0.7777777777777778,\"#fb9f3a\"],[0.8888888888888888,\"#fdca26\"],[1.0,\"#f0f921\"]],\"diverging\":[[0,\"#8e0152\"],[0.1,\"#c51b7d\"],[0.2,\"#de77ae\"],[0.3,\"#f1b6da\"],[0.4,\"#fde0ef\"],[0.5,\"#f7f7f7\"],[0.6,\"#e6f5d0\"],[0.7,\"#b8e186\"],[0.8,\"#7fbc41\"],[0.9,\"#4d9221\"],[1,\"#276419\"]]},\"xaxis\":{\"gridcolor\":\"white\",\"linecolor\":\"white\",\"ticks\":\"\",\"title\":{\"standoff\":15},\"zerolinecolor\":\"white\",\"automargin\":true,\"zerolinewidth\":2},\"yaxis\":{\"gridcolor\":\"white\",\"linecolor\":\"white\",\"ticks\":\"\",\"title\":{\"standoff\":15},\"zerolinecolor\":\"white\",\"automargin\":true,\"zerolinewidth\":2},\"scene\":{\"xaxis\":{\"backgroundcolor\":\"#E5ECF6\",\"gridcolor\":\"white\",\"linecolor\":\"white\",\"showbackground\":true,\"ticks\":\"\",\"zerolinecolor\":\"white\",\"gridwidth\":2},\"yaxis\":{\"backgroundcolor\":\"#E5ECF6\",\"gridcolor\":\"white\",\"linecolor\":\"white\",\"showbackground\":true,\"ticks\":\"\",\"zerolinecolor\":\"white\",\"gridwidth\":2},\"zaxis\":{\"backgroundcolor\":\"#E5ECF6\",\"gridcolor\":\"white\",\"linecolor\":\"white\",\"showbackground\":true,\"ticks\":\"\",\"zerolinecolor\":\"white\",\"gridwidth\":2}},\"shapedefaults\":{\"line\":{\"color\":\"#2a3f5f\"}},\"annotationdefaults\":{\"arrowcolor\":\"#2a3f5f\",\"arrowhead\":0,\"arrowwidth\":1},\"geo\":{\"bgcolor\":\"white\",\"landcolor\":\"#E5ECF6\",\"subunitcolor\":\"white\",\"showland\":true,\"showlakes\":true,\"lakecolor\":\"white\"},\"title\":{\"x\":0.05},\"mapbox\":{\"style\":\"light\"}}},\"font\":{\"size\":15},\"paper_bgcolor\":\"white\",\"plot_bgcolor\":\"white\",\"width\":770,\"height\":400,\"title\":{\"text\":\"\\u003cb\\u003eExercice Power flow 1 : Problème 1 - results\\u003cb\\u003e\",\"y\":0.97,\"x\":0.5,\"xanchor\":\"center\",\"yanchor\":\"top\"}},                        {\"responsive\": true}                    ).then(function(){\n",
       "                            \n",
       "var gd = document.getElementById('b2c2c99f-5099-4662-bbbe-be1c6d7d45e5');\n",
       "var x = new MutationObserver(function (mutations, observer) {{\n",
       "        var display = window.getComputedStyle(gd).display;\n",
       "        if (!display || display === 'none') {{\n",
       "            console.log([gd, 'removed!']);\n",
       "            Plotly.purge(gd);\n",
       "            observer.disconnect();\n",
       "        }}\n",
       "}});\n",
       "\n",
       "// Listen for the removal of the full notebook cells\n",
       "var notebookContainer = gd.closest('#notebook-container');\n",
       "if (notebookContainer) {{\n",
       "    x.observe(notebookContainer, {childList: true});\n",
       "}}\n",
       "\n",
       "// Listen for the clearing of the current output cell\n",
       "var outputEl = gd.closest('.output');\n",
       "if (outputEl) {{\n",
       "    x.observe(outputEl, {childList: true});\n",
       "}}\n",
       "\n",
       "                        })                };                });            </script>        </div>"
      ]
     },
     "metadata": {},
     "output_type": "display_data"
    },
    {
     "data": {
      "text/html": [
       "<div>\n",
       "<style scoped>\n",
       "    .dataframe tbody tr th:only-of-type {\n",
       "        vertical-align: middle;\n",
       "    }\n",
       "\n",
       "    .dataframe tbody tr th {\n",
       "        vertical-align: top;\n",
       "    }\n",
       "\n",
       "    .dataframe thead th {\n",
       "        text-align: right;\n",
       "    }\n",
       "</style>\n",
       "<table border=\"1\" class=\"dataframe\">\n",
       "  <thead>\n",
       "    <tr style=\"text-align: right;\">\n",
       "      <th></th>\n",
       "      <th>vm_pu</th>\n",
       "      <th>va_degree</th>\n",
       "      <th>p_mw</th>\n",
       "      <th>q_mvar</th>\n",
       "    </tr>\n",
       "  </thead>\n",
       "  <tbody>\n",
       "    <tr>\n",
       "      <th>0</th>\n",
       "      <td>0.989606</td>\n",
       "      <td>5.244486</td>\n",
       "      <td>0.026000</td>\n",
       "      <td>0.010000</td>\n",
       "    </tr>\n",
       "    <tr>\n",
       "      <th>1</th>\n",
       "      <td>0.977588</td>\n",
       "      <td>5.124277</td>\n",
       "      <td>0.037000</td>\n",
       "      <td>0.013500</td>\n",
       "    </tr>\n",
       "    <tr>\n",
       "      <th>2</th>\n",
       "      <td>0.976890</td>\n",
       "      <td>5.117883</td>\n",
       "      <td>0.008000</td>\n",
       "      <td>0.003000</td>\n",
       "    </tr>\n",
       "    <tr>\n",
       "      <th>3</th>\n",
       "      <td>0.972918</td>\n",
       "      <td>5.119530</td>\n",
       "      <td>0.011000</td>\n",
       "      <td>0.004000</td>\n",
       "    </tr>\n",
       "    <tr>\n",
       "      <th>4</th>\n",
       "      <td>0.968881</td>\n",
       "      <td>5.153684</td>\n",
       "      <td>0.012000</td>\n",
       "      <td>0.004000</td>\n",
       "    </tr>\n",
       "    <tr>\n",
       "      <th>5</th>\n",
       "      <td>0.966932</td>\n",
       "      <td>5.170253</td>\n",
       "      <td>0.009000</td>\n",
       "      <td>0.003000</td>\n",
       "    </tr>\n",
       "    <tr>\n",
       "      <th>6</th>\n",
       "      <td>1.045944</td>\n",
       "      <td>7.602490</td>\n",
       "      <td>0.028000</td>\n",
       "      <td>0.010500</td>\n",
       "    </tr>\n",
       "    <tr>\n",
       "      <th>7</th>\n",
       "      <td>1.042622</td>\n",
       "      <td>7.601573</td>\n",
       "      <td>0.014000</td>\n",
       "      <td>0.005000</td>\n",
       "    </tr>\n",
       "    <tr>\n",
       "      <th>8</th>\n",
       "      <td>1.042129</td>\n",
       "      <td>7.596303</td>\n",
       "      <td>0.003000</td>\n",
       "      <td>0.001000</td>\n",
       "    </tr>\n",
       "    <tr>\n",
       "      <th>9</th>\n",
       "      <td>1.040521</td>\n",
       "      <td>7.621372</td>\n",
       "      <td>0.011000</td>\n",
       "      <td>0.004000</td>\n",
       "    </tr>\n",
       "    <tr>\n",
       "      <th>10</th>\n",
       "      <td>1.432764</td>\n",
       "      <td>11.484070</td>\n",
       "      <td>-0.997000</td>\n",
       "      <td>0.001000</td>\n",
       "    </tr>\n",
       "    <tr>\n",
       "      <th>11</th>\n",
       "      <td>1.112314</td>\n",
       "      <td>12.271402</td>\n",
       "      <td>-0.997000</td>\n",
       "      <td>0.001000</td>\n",
       "    </tr>\n",
       "    <tr>\n",
       "      <th>12</th>\n",
       "      <td>1.000000</td>\n",
       "      <td>0.000000</td>\n",
       "      <td>1.392183</td>\n",
       "      <td>-0.382885</td>\n",
       "    </tr>\n",
       "  </tbody>\n",
       "</table>\n",
       "</div>"
      ],
      "text/plain": [
       "       vm_pu  va_degree      p_mw    q_mvar\n",
       "0   0.989606   5.244486  0.026000  0.010000\n",
       "1   0.977588   5.124277  0.037000  0.013500\n",
       "2   0.976890   5.117883  0.008000  0.003000\n",
       "3   0.972918   5.119530  0.011000  0.004000\n",
       "4   0.968881   5.153684  0.012000  0.004000\n",
       "5   0.966932   5.170253  0.009000  0.003000\n",
       "6   1.045944   7.602490  0.028000  0.010500\n",
       "7   1.042622   7.601573  0.014000  0.005000\n",
       "8   1.042129   7.596303  0.003000  0.001000\n",
       "9   1.040521   7.621372  0.011000  0.004000\n",
       "10  1.432764  11.484070 -0.997000  0.001000\n",
       "11  1.112314  12.271402 -0.997000  0.001000\n",
       "12  1.000000   0.000000  1.392183 -0.382885"
      ]
     },
     "execution_count": 169,
     "metadata": {},
     "output_type": "execute_result"
    }
   ],
   "source": [
    "pp_plot.plot_powerflow_result(\n",
    "    net=net_ExPF1_Pb1_heig,\n",
    "    plot_title=\"Exercice Power flow 1 : Problème 1 - results\",\n",
    "    filename=\"net_ex_pf_1_pb_1_grid_pp_result\",\n",
    ")\n",
    "net_ExPF1_Pb1_heig.res_bus"
   ]
  },
  {
   "cell_type": "code",
   "execution_count": 170,
   "metadata": {},
   "outputs": [],
   "source": [
    "# Set the powerprofile in excel before\n",
    "profile_file_path = \"data/power_profile.xlsx\"\n",
    "net_file_path = \"data/trey_power_network.xlsx\"\n",
    "output_folder = \"\"\n",
    "output_filename = \"simulation_results\"\n",
    "# load power profile from excel file\n",
    "time_series = pp_sim.load_power_profile_form_xlsx(file_path=profile_file_path)\n",
    "# time_series[\"load\"][\"p_mw\"]\n",
    "net_trey = pp_sim.load_net_from_xlsx(file_path=net_file_path)"
   ]
  },
  {
   "cell_type": "code",
   "execution_count": 171,
   "metadata": {},
   "outputs": [],
   "source": [
    "pp_sim.apply_power_profile(\n",
    "    net=net_trey, equipment=\"load\", power_profiles=time_series[\"load\"]\n",
    ")\n",
    "# pp_sim.apply_power_profile(\n",
    "#     net=net_trey, equipment=\"sgen\", power_profiles=time_series[\"sgen\"]\n",
    "# )"
   ]
  },
  {
   "cell_type": "code",
   "execution_count": 172,
   "metadata": {},
   "outputs": [],
   "source": [
    "pp_sim.create_output_writer(net=net_trey)\n",
    "# pp_plot.plot_powerflow_result(\n",
    "#     net=net_trey,\n",
    "#     plot_title=\"Test\",\n",
    "#     filename=\"net_trey\",\n",
    "# )"
   ]
  },
  {
   "cell_type": "code",
   "execution_count": 173,
   "metadata": {},
   "outputs": [
    {
     "data": {
      "text/plain": [
       "{'p_mw': profile             0             1             2             3            4   \\\n",
       " 00:00:00  11252.518874  14773.451302   6594.037537   8575.670726  3796.875878   \n",
       " 00:15:00  10424.783701  13649.153192   6391.297876   7875.455410  3486.855738   \n",
       " 00:30:00   9714.379241  12685.010571   6295.884552   7277.518735  3222.119438   \n",
       " 00:45:00   9098.534270  11844.780477   6241.903392   6758.257939  2992.216862   \n",
       " 01:00:00   8540.014110  11076.879612   6192.567522   6286.202670  2783.214520   \n",
       " 01:15:00   8007.475266  10335.129381   6092.696631   5829.882576  2581.178923   \n",
       " 01:30:00   7515.116689   9642.912821   5962.707012   5405.032834  2393.076815   \n",
       " 01:45:00   7080.082924   9028.874076   5817.358242   5027.388618  2225.874941   \n",
       " 02:00:00   6716.572922   8517.127257   5662.718892   4712.685105  2086.540047   \n",
       " 02:15:00   6453.249091   8147.857882   5527.896261   4484.525059  1985.522248   \n",
       " 02:30:00   6267.075704   7892.865691   5404.199344   4327.173302  1915.854801   \n",
       " 02:45:00   6126.709266   7701.585650   5287.582427   4209.159485  1863.604215   \n",
       " 03:00:00   6020.631915   7558.089945   5181.679371   4122.616019  1825.287119   \n",
       " 03:15:00   5928.753517   7434.321912   5069.108169   4051.807728  1793.936768   \n",
       " 03:30:00   5854.019662   7383.825606   4965.227970   3996.734614  1769.553162   \n",
       " 03:45:00   5791.597170   7366.004865   4876.706923   3949.529087  1748.652927   \n",
       " 04:00:00   5776.869217   7361.631528   4803.545027   3925.926323  1738.202810   \n",
       " 04:15:00   5782.231398   7384.583784   4762.112863   3941.661499  1745.169555   \n",
       " 04:30:00   5799.111440   7423.463852   4751.399002   3965.264262  1755.619672   \n",
       " 04:45:00   5818.937074   7463.949661   4764.735296   3988.867026  1766.069789   \n",
       " 05:00:00   5827.509346   7483.389246   4812.647884   3996.734614  1769.553162   \n",
       " 05:15:00   6025.729596   7736.030620   4929.264802   4146.218782  1835.737237   \n",
       " 05:30:00   6324.400515   8116.527075   5112.787320   4374.378829  1936.755035   \n",
       " 05:45:00   6815.136003   8746.454323   5382.020730   4759.890632  2107.440281   \n",
       " 06:00:00   7566.514232   9728.691770   5755.770321   5365.694895  2375.659953   \n",
       " 06:15:00   8621.396561  11127.539043   6255.463816   6231.129555  2758.830913   \n",
       " 06:30:00   9871.818050  12775.227831   6904.327666   7238.180796  3204.702576   \n",
       " 06:45:00  11178.470261  14454.886936   7739.748319   8237.364450  3647.090867   \n",
       " 07:00:00  12580.824031  15988.956006   8816.421421   9102.799110  4030.261827   \n",
       " 07:15:00  13822.564988  17288.188593  10048.072912   9716.470960  4301.964871   \n",
       " 07:30:00  14882.929652  18465.508230  11382.968618  10117.717939  4479.616862   \n",
       " 07:45:00  15769.696794  19362.491498  12777.053942  10456.024215  4629.401874   \n",
       " 08:00:00  16516.361997  20050.364476  14242.054175  10676.316674  4726.936300   \n",
       " 08:15:00  17119.186172  20628.263236  15638.125950  10841.536019  4800.087119   \n",
       " 08:30:00  17550.865501  21049.273097  16853.109916  11069.696066  4901.104918   \n",
       " 08:45:00  17795.349527  21536.164891  17965.460616  11266.385761  4988.189227   \n",
       " 09:00:00  17851.652423  21844.978818  18604.210179  11392.267166  5043.923185   \n",
       " 09:15:00  18323.091278  22104.794475  18619.490830  11628.294801  5148.424356   \n",
       " 09:30:00  19026.654815  22774.292729  18139.832496  12289.172178  5441.027635   \n",
       " 09:45:00  19516.212147  23421.794903  17737.757218  13060.195785  5782.398126   \n",
       " 10:00:00  19804.868138  24180.443856  17253.756225  13689.602810  6061.067916   \n",
       " 10:15:00  19937.071151  24690.653172  16520.974525  14161.658080  6270.070258   \n",
       " 10:30:00  20008.174173  25059.517996  15696.037915  14523.567119  6430.305386   \n",
       " 10:45:00  20142.192602  25523.838600  14970.935790  14846.138220  6573.123653   \n",
       " 11:00:00  20535.495183  26090.367093  14532.000824  15192.312084  6726.392037   \n",
       " 11:15:00  21124.084319  26807.503320  14503.117655  15601.426651  6907.527400   \n",
       " 11:30:00  21855.901415  27566.416802  14707.656043  16026.276393  7095.629508   \n",
       " 11:45:00  22467.442207  28253.459841  14901.892423  16419.655785  7269.798126   \n",
       " 12:00:00  22801.496301  28735.424169  14840.080372  16695.021358  7391.716159   \n",
       " 12:15:00  22727.628121  28838.229992  14344.578220  16797.300000  7437.000000   \n",
       " 12:30:00  22301.803887  28545.691211  13541.893039  16742.226885  7412.616393   \n",
       " 12:45:00  21609.181231  27917.223436  12608.243218  16443.258548  7280.248244   \n",
       " 13:00:00  20732.236690  26955.556753  11746.931588  15916.130164  7046.862295   \n",
       " 13:15:00  19770.062347  25654.813670  11090.121938  15137.238970  6702.008431   \n",
       " 13:30:00  18762.044969  24896.567611  10784.846859  14232.466370  6301.420609   \n",
       " 13:45:00  18274.856245  24274.376866  10608.107396  13831.219391  6123.768618   \n",
       " 14:00:00  17785.479346  23609.507092  10475.834383  13492.913115  5973.983607   \n",
       " 14:15:00  17278.428902  22927.692143  10302.952912  13154.606838  5824.198595   \n",
       " 14:30:00  16788.523002  22269.403827  10098.153986  12832.035738  5681.380328   \n",
       " 14:45:00  16330.489599  21647.788356   9883.464905  12525.199813  5545.528806   \n",
       " 15:00:00  15930.574508  21091.919759   9673.233391  12241.966651  5420.127400   \n",
       " 15:15:00  15606.451273  20613.625698   9489.486742  11982.336253  5305.176112   \n",
       " 15:30:00  15357.590895  20226.798361   9384.037634  11762.043794  5207.641686   \n",
       " 15:45:00  15172.211009  19919.166202   9386.847789  11644.029977  5155.391101   \n",
       " 16:00:00  15055.409297  19782.731037   9429.479105  11588.956862  5131.007494   \n",
       " 16:15:00  14995.403395  19624.901055   9527.290732  11502.413396  5092.690398   \n",
       " 16:30:00  15035.583663  19619.828222   9729.394411  11439.472693  5064.823419   \n",
       " 16:45:00  15182.370283  19776.302140  10083.890452  11541.751335  5110.107260   \n",
       " 17:00:00  15823.595396  20529.792424  10641.913453  11919.395550  5277.309133   \n",
       " 17:15:00  16986.105992  21957.929103  11440.849863  12737.624684  5639.579859   \n",
       " 17:30:00  18437.092147  23722.849147  12463.317675  13736.808337  6081.968150   \n",
       " 17:45:00  19973.235931  25543.109442  13666.873296  14743.859578  6527.839813   \n",
       " 18:00:00  21373.545871  27124.708136  15024.432283  15585.691475  6900.560656   \n",
       " 18:15:00  22491.764347  28272.422634  16478.191893  16144.290211  7147.880094   \n",
       " 18:30:00  23326.833358  29018.423753  17882.839763  16451.126136  7283.731616   \n",
       " 18:45:00  23957.790938  29507.109870  19095.086388  16608.477892  7353.399063   \n",
       " 19:00:00  24437.958305  29846.492805  19948.603535  16695.021358  7391.716159   \n",
       " 19:15:00  24800.566546  30119.452003  20329.808571  16773.697237  7426.549883   \n",
       " 19:30:00  24921.864765  30174.319465  20234.655784  16757.962061  7419.583138   \n",
       " 19:45:00  24660.693023  29841.018968  19697.200393  16553.404778  7329.015457   \n",
       " 20:00:00  23864.902519  28922.578583  18873.051083  16042.011569  7102.596253   \n",
       " 20:15:00  22465.386081  27332.935387  17545.647230  15176.576909  6719.425293   \n",
       " 20:30:00  20697.779066  25757.970611  15946.272625  14570.772646  6451.205621   \n",
       " 20:45:00  19571.745733  24506.586928  14413.506678  13894.160094  6151.635597   \n",
       " 21:00:00  18406.325633  23177.155023  13025.980279  13162.474426  5827.681967   \n",
       " 21:15:00  17562.540005  22073.344561  12196.361973  12596.008103  5576.879157   \n",
       " 21:30:00  17172.327360  21719.256149  11470.024289  12462.259110  5517.661827   \n",
       " 21:45:00  16820.671894  21377.268585  10829.173367  12336.377705  5461.927869   \n",
       " 22:00:00  16384.087213  21040.997342  10255.003916  12179.025948  5392.260422   \n",
       " 22:15:00  15922.687478  20607.785537   9759.725894  11950.865902  5291.242623   \n",
       " 22:30:00  15450.190621  20082.960741   9290.599386  11769.911382  5211.125059   \n",
       " 22:45:00  15181.119954  19980.583028   8831.363033  11754.176206  5204.158314   \n",
       " 23:00:00  14823.537221  19557.005666   8357.367105  11526.016159  5103.140515   \n",
       " 23:15:00  14146.099345  18676.474465   7888.016467  10998.887775  4869.754567   \n",
       " 23:30:00  13240.420226  17464.220503   7426.345404  10251.466932  4538.834192   \n",
       " 23:45:00  12229.192757  16097.502940   6985.768713   9401.767447  4162.629977   \n",
       " \n",
       " profile             5             6             7            8             9   \\\n",
       " 00:00:00   5639.767213  19428.548009   8902.517564  3135.677283   9858.858548   \n",
       " 00:15:00   5179.272459  17842.180328   8175.614754  2879.644918   9053.869180   \n",
       " 00:30:00   4786.040984  16487.529274   7554.888759  2661.010539   8366.462529   \n",
       " 00:45:00   4444.550492  15311.121780   7015.837237  2471.143841   7769.504122   \n",
       " 01:00:00   4134.104590  14241.660422   6525.790398  2298.537752   7226.814660   \n",
       " 01:15:00   3834.006885  13207.847775   6052.078454  2131.685199   6702.214848   \n",
       " 01:30:00   3554.605574  12245.332553   5611.036300  1976.339719   6213.794333   \n",
       " 01:45:00   3306.248852  11389.763466   5218.998829  1838.254848   5779.642763   \n",
       " 02:00:00   3099.284918  10676.789227   4892.300937  1723.184122   5417.849789   \n",
       " 02:15:00   2949.236066  10159.882904   4655.444965  1639.757845   5155.549883   \n",
       " 02:30:00   2845.754098   9803.395785   4492.096019  1582.222482   4974.653396   \n",
       " 02:45:00   2768.142623   9536.030445   4369.584309  1539.070960   4838.981030   \n",
       " 03:00:00   2711.227541   9339.962529   4279.742389  1507.426511   4739.487963   \n",
       " 03:15:00   2664.660656   9179.543326   4206.235363  1481.535597   4658.084543   \n",
       " 03:30:00   2628.441967   9054.772834   4149.063232  1461.398220   4594.770773   \n",
       " 03:45:00   2597.397377   8947.826698   4100.058548  1444.137611   4540.501827   \n",
       " 04:00:00   2581.875082   8894.353630   4075.556206  1435.507307   4513.367354   \n",
       " 04:15:00   2592.223279   8930.002342   4091.891101  1441.260843   4531.457002   \n",
       " 04:30:00   2607.745574   8983.475410   4116.393443  1449.891148   4558.591475   \n",
       " 04:45:00   2623.267869   9036.948478   4140.895785  1458.521452   4585.725948   \n",
       " 05:00:00   2628.441967   9054.772834   4149.063232  1461.398220   4594.770773   \n",
       " 05:15:00   2726.749836   9393.435597   4304.244731  1516.056815   4766.622436   \n",
       " 05:30:00   2876.798689   9910.341920   4541.100703  1599.483091   5028.922342   \n",
       " 05:45:00   3130.329508  10783.735363   4941.305621  1740.444731   5472.118735   \n",
       " 06:00:00   3528.735082  12156.210773   5570.199063  1961.955878   6168.570211   \n",
       " 06:15:00   4097.885902  14116.889930   6468.618267  2278.400375   7163.500890   \n",
       " 06:30:00   4760.170492  16398.407494   7514.051522  2646.626698   8321.238407   \n",
       " 06:45:00   5417.280984  18662.100703   8551.317330  3011.976253   9469.931101   \n",
       " 07:00:00   5986.431803  20622.779859   9449.736534  3328.420749  10464.861780   \n",
       " 07:15:00   6390.011475  22013.079625  10086.797424  3552.808665  11170.358080   \n",
       " 07:30:00   6653.890492  22922.121780  10503.337237  3699.523841  11631.644122   \n",
       " 07:45:00   6876.376721  23688.569087  10854.537471  3823.224871  12020.571569   \n",
       " 08:00:00   7021.251475  24187.651054  11083.225995  3903.774379  12273.826651   \n",
       " 08:15:00   7129.907541  24561.962529  11254.742389  3964.186511  12463.767963   \n",
       " 08:30:00   7279.956393  25078.868852  11491.598361  4047.612787  12726.067869   \n",
       " 08:45:00   7409.308852  25524.477752  11695.784543  4119.531991  12952.188478   \n",
       " 09:00:00   7492.094426  25809.667447  11826.463700  4165.560281  13096.905667   \n",
       " 09:15:00   7647.317377  26344.398126  12071.487119  4251.863326  13368.250398   \n",
       " 09:30:00   8081.941639  27841.644028  12757.552693  4493.511850  14128.015644   \n",
       " 09:45:00   8589.003279  29588.430913  13557.962529  4775.435129  15014.408431   \n",
       " 10:00:00   9002.931148  31014.379391  14211.358314  5005.576581  15737.994379   \n",
       " 10:15:00   9313.377049  32083.840749  14701.405152  5178.182670  16280.683841   \n",
       " 10:30:00   9551.385574  32903.761124  15077.107728  5310.514005  16696.745761   \n",
       " 10:45:00   9763.523607  33634.559719  15411.973068  5428.461499  17067.583560   \n",
       " 11:00:00   9991.183934  34418.831382  15771.340749  5555.039297  17465.555831   \n",
       " 11:15:00  10260.237049  35345.697892  16196.048009  5704.631241  17935.886698   \n",
       " 11:30:00  10539.638361  36308.213115  16637.090164  5859.976721  18424.307213   \n",
       " 11:45:00  10798.343279  37199.430913  17045.462529  6003.815129  18876.548431   \n",
       " 12:00:00  10979.436721  37823.283372  17331.323185  6104.502014  19193.117283   \n",
       " 12:15:00  11046.700000  38055.000000  17437.500000  6141.900000  19310.700000   \n",
       " 12:30:00  11010.481311  37930.229508  17380.327869  6121.762623  19247.386230   \n",
       " 12:45:00  10813.865574  37252.903981  17069.964871  6012.445433  18903.682904   \n",
       " 13:00:00  10467.200984  36058.672131  16522.745902  5819.701967  18297.679672   \n",
       " 13:15:00   9954.965246  34294.060890  15714.168618  5534.901920  17402.242061   \n",
       " 13:30:00   9359.943934  32244.259953  14774.912178  5204.073583  16362.087260   \n",
       " 13:45:00   9096.064918  31335.217799  14358.372365  5057.358407  15900.801218   \n",
       " 14:00:00   8873.578689  30568.770492  14007.172131  4933.657377  15511.873770   \n",
       " 14:15:00   8651.092459  29802.323185  13655.971897  4809.956347  15122.946323   \n",
       " 14:30:00   8438.954426  29071.524590  13321.106557  4692.008852  14752.108525   \n",
       " 14:45:00   8237.164590  28376.374707  13002.576112  4579.814895  14399.360375   \n",
       " 15:00:00   8050.897049  27734.697892  12708.548009  4476.251241  14073.746698   \n",
       " 15:15:00   7880.151803  27146.494145  12439.022248  4381.317892  13775.267494   \n",
       " 15:30:00   7735.277049  26647.412178  12210.333724  4300.768384  13522.012412   \n",
       " 15:45:00   7657.665574  26380.046838  12087.822014  4257.616862  13386.340047   \n",
       " 16:00:00   7621.446885  26255.276347  12030.649883  4237.479485  13323.026276   \n",
       " 16:15:00   7564.531803  26059.208431  11940.807963  4205.835035  13223.533208   \n",
       " 16:30:00   7523.139016  25916.613583  11875.468384  4182.820890  13151.174614   \n",
       " 16:45:00   7590.402295  26148.330211  11981.645199  4220.218876  13268.757330   \n",
       " 17:00:00   7838.759016  27003.899297  12373.682670  4358.303747  13702.908899   \n",
       " 17:15:00   8376.865246  28857.632319  13223.097190  4657.487635  14643.570632   \n",
       " 17:30:00   9033.975738  31121.325527  14260.362998  5022.837190  15792.263326   \n",
       " 17:45:00   9696.260328  33402.843091  15305.796253  5391.063513  16950.000843   \n",
       " 18:00:00  10249.888852  35310.049180  16179.713115  5698.877705  17917.797049   \n",
       " 18:15:00  10617.249836  36575.578454  16759.601874  5903.128244  18559.979578   \n",
       " 18:30:00  10819.039672  37270.728337  17078.132319  6015.322201  18912.727728   \n",
       " 18:45:00  10922.521639  37627.215457  17241.481265  6072.857564  19093.624215   \n",
       " 19:00:00  10979.436721  37823.283372  17331.323185  6104.502014  19193.117283   \n",
       " 19:15:00  11031.177705  38001.526932  17412.997658  6133.269696  19283.565527   \n",
       " 19:30:00  11020.829508  37965.878220  17396.662763  6127.516159  19265.475878   \n",
       " 19:45:00  10886.302951  37502.444965  17184.309133  6052.720187  19030.310445   \n",
       " 20:00:00  10549.986557  36343.861827  16653.425059  5865.730258  18442.396862   \n",
       " 20:15:00   9980.835738  34383.182670  15755.005855  5549.285761  17447.466183   \n",
       " 20:30:00   9582.430164  33010.707260  15126.112412  5327.774614  16751.014707   \n",
       " 20:45:00   9137.457705  31477.812646  14423.711944  5080.372553  15973.159813   \n",
       " 21:00:00   8656.266557  29820.147541  13664.139344  4812.833115  15131.991148   \n",
       " 21:15:00   8283.731475  28536.793911  13076.083138  4605.705808  14480.763794   \n",
       " 21:30:00   8195.771803  28233.779859  12937.236534  4556.800749  14327.001780   \n",
       " 21:45:00   8112.986230  27948.590164  12806.557377  4510.772459  14182.284590   \n",
       " 22:00:00   8009.504262  27592.103044  12643.208431  4453.237096  14001.388103   \n",
       " 22:15:00   7859.455410  27075.196721  12406.352459  4369.810820  13739.088197   \n",
       " 22:30:00   7740.451148  26665.236534  12218.501171  4303.645152  13531.057237   \n",
       " 22:45:00   7730.102951  26629.587822  12202.166276  4297.891616  13512.967588   \n",
       " 23:00:00   7580.054098  26112.681499  11965.310304  4214.465340  13250.667681   \n",
       " 23:15:00   7233.389508  24918.449649  11418.091335  4021.721874  12644.664450   \n",
       " 23:30:00   6741.850164  23225.135831  10642.183841  3748.428899  11785.406136   \n",
       " 23:45:00   6183.047541  21300.105386   9760.099532  3437.737939  10808.565105   \n",
       " \n",
       " profile             10            11  \n",
       " 00:00:00   9167.800333  10455.911814  \n",
       " 00:15:00   8914.479534  10166.998461  \n",
       " 00:30:00   8805.913478  10043.178453  \n",
       " 00:45:00   8757.661897   9988.147338  \n",
       " 01:00:00   8721.473211   9946.874002  \n",
       " 01:15:00   8624.970050   9836.811772  \n",
       " 01:30:00   8492.278203   9685.476206  \n",
       " 01:45:00   8335.460566   9506.625083  \n",
       " 02:00:00   8154.517138   9300.258403  \n",
       " 02:15:00   7985.636606   9107.649501  \n",
       " 02:30:00   7816.756073   8915.040599  \n",
       " 02:45:00   7647.875541   8722.431697  \n",
       " 03:00:00   7491.057903   8543.580574  \n",
       " 03:15:00   7322.177371   8350.971672  \n",
       " 03:30:00   7165.359734   8172.120549  \n",
       " 03:45:00   7032.667887   8020.784983  \n",
       " 04:00:00   6924.101830   7896.964975  \n",
       " 04:15:00   6863.787354   7828.176082  \n",
       " 04:30:00   6851.724459   7814.418303  \n",
       " 04:45:00   6875.850250   7841.933860  \n",
       " 05:00:00   6924.101830   7896.964975  \n",
       " 05:15:00   7092.982363   8089.573877  \n",
       " 05:30:00   7346.303161   8378.487230  \n",
       " 05:45:00   7696.127121   8777.462812  \n",
       " 06:00:00   8263.083195   9424.078411  \n",
       " 06:15:00   9083.360067  10359.607363  \n",
       " 06:30:00  10144.894842  11570.291889  \n",
       " 06:45:00  11435.624626  13042.374210  \n",
       " 07:00:00  12955.549418  14775.854326  \n",
       " 07:15:00  14704.669218  16770.732238  \n",
       " 07:30:00  16622.669551  18958.219052  \n",
       " 07:45:00  18697.487521  21324.556988  \n",
       " 08:00:00  20892.934443  23828.472712  \n",
       " 08:15:00  23124.570050  26373.661772  \n",
       " 08:30:00  25163.199334  28698.726373  \n",
       " 08:45:00  26707.249917  30459.722047  \n",
       " 09:00:00  27491.338103  31353.977662  \n",
       " 09:15:00  27310.394676  31147.610982  \n",
       " 09:30:00  26369.488852  30074.504243  \n",
       " 09:45:00  25585.400666  29180.248627  \n",
       " 10:00:00  24801.312479  28285.993012  \n",
       " 10:15:00  23631.211647  26951.488478  \n",
       " 10:30:00  22316.356073  25451.890599  \n",
       " 10:45:00  21158.318136  24131.143844  \n",
       " 11:00:00  20446.607321  23319.434900  \n",
       " 11:15:00  20374.229950  23236.888228  \n",
       " 11:30:00  20663.739434  23567.074917  \n",
       " 11:45:00  20929.123128  23869.746048  \n",
       " 12:00:00  20784.368386  23704.652704  \n",
       " 12:15:00  19952.028619  22755.365973  \n",
       " 12:30:00  18637.173045  21255.768095  \n",
       " 12:45:00  17129.311148  19536.045757  \n",
       " 13:00:00  15754.141098  17967.658985  \n",
       " 13:15:00  14728.795008  16798.247795  \n",
       " 13:30:00  14101.524459  16082.843303  \n",
       " 13:45:00  14005.021298  15972.781073  \n",
       " 14:00:00  13968.832612  15931.507737  \n",
       " 14:15:00  13848.203661  15793.929950  \n",
       " 14:30:00  13655.197338  15573.805491  \n",
       " 14:45:00  13426.002329  15312.407696  \n",
       " 15:00:00  13184.744426  15037.252121  \n",
       " 15:15:00  13064.115474  14899.674334  \n",
       " 15:30:00  13064.115474  14899.674334  \n",
       " 15:45:00  13100.304160  14940.947671  \n",
       " 16:00:00  13184.744426  15037.252121  \n",
       " 16:15:00  13341.562063  15216.103245  \n",
       " 16:30:00  13643.134443  15560.047712  \n",
       " 16:45:00  14161.838935  16151.632196  \n",
       " 17:00:00  14970.052912  17073.403369  \n",
       " 17:15:00  16128.090849  18394.150125  \n",
       " 17:30:00  17611.826955  20086.356905  \n",
       " 17:45:00  19360.946755  22081.234817  \n",
       " 18:00:00  21339.261564  24337.510524  \n",
       " 18:15:00  23462.331115  26758.879576  \n",
       " 18:30:00  25513.023295  29097.701955  \n",
       " 18:45:00  27274.205990  31106.337646  \n",
       " 19:00:00  28492.558403  32495.873295  \n",
       " 19:15:00  28999.200000  33073.700000  \n",
       " 19:30:00  28794.130782  32839.817762  \n",
       " 19:45:00  28094.482862  32041.866597  \n",
       " 20:00:00  26815.815973  30583.542055  \n",
       " 20:15:00  24813.375374  28299.750790  \n",
       " 20:30:00  22376.670549  25520.679493  \n",
       " 20:45:00  20036.468885  22851.670424  \n",
       " 21:00:00  18106.405657  20650.425832  \n",
       " 21:15:00  16839.801664  19205.859068  \n",
       " 21:30:00  15717.952413  17926.385649  \n",
       " 21:45:00  14728.795008  16798.247795  \n",
       " 22:00:00  13860.266556  15807.687729  \n",
       " 22:15:00  13076.178369  14913.432113  \n",
       " 22:30:00  12364.467554  14101.723170  \n",
       " 22:45:00  11785.448586  13441.349792  \n",
       " 23:00:00  11290.869884  12877.280865  \n",
       " 23:15:00  10748.039601  12258.180824  \n",
       " 23:30:00  10205.209318  11639.080782  \n",
       " 23:45:00   9662.379035  11019.980740  ,\n",
       " 'q_mvar': profile             0             1            2            3            4   \\\n",
       " 00:00:00   5449.843626   7155.109030  3193.638140  3814.257141  1838.910917   \n",
       " 00:15:00   5048.953185   6610.586603  3095.446840  3524.663192  1688.761310   \n",
       " 00:30:00   4704.888601   6143.631020  3049.236058  3273.173710  1560.543668   \n",
       " 00:45:00   4406.621269   5736.689012  3023.091789  3044.546908  1449.196769   \n",
       " 01:00:00   4136.117609   5364.777649  2999.197337  2823.541000  1347.972314   \n",
       " 01:15:00   3878.197275   5005.531616  2950.827656  2617.776879  1250.122009   \n",
       " 01:30:00   3639.737133   4670.275834  2887.870811  2434.875437  1159.020000   \n",
       " 01:45:00   3429.040664   4372.883297  2817.475188  2282.457570  1078.040437   \n",
       " 02:00:00   3252.984735   4125.033000  2742.579933  2171.954616  1010.557467   \n",
       " 02:15:00   3125.451183   3946.187679  2677.282352  2095.745682   961.632314   \n",
       " 02:30:00   3035.283296   3822.689325  2617.373201  2038.588981   927.890830   \n",
       " 02:45:00   2967.300728   3730.048172  2560.893051  1996.674068   902.584716   \n",
       " 03:00:00   2915.925122   3660.550031  2509.601860  1962.380047   884.026900   \n",
       " 03:15:00   2871.426382   3600.606436  2455.081138  1935.706921   868.843231   \n",
       " 03:30:00   2835.231124   3576.149959  2404.769661  1912.844240   857.033712   \n",
       " 03:45:00   2804.998532   3567.518980  2361.896962  1901.412900   846.911266   \n",
       " 04:00:00   2797.865459   3565.400877  2326.463038  1909.033794   841.850044   \n",
       " 04:15:00   2800.462481   3576.517162  2306.396525  1920.465134   845.224192   \n",
       " 04:30:00   2808.637859   3595.347638  2301.207565  1931.896474   850.285415   \n",
       " 04:45:00   2818.239852   3614.955810  2307.666628  1935.706921   855.346638   \n",
       " 05:00:00   2822.391592   3624.370831  2330.871753  2008.105408   857.033712   \n",
       " 05:15:00   2918.394041   3746.730633  2387.351904  2118.608362   889.088122   \n",
       " 05:30:00   3063.046969   3931.013477  2476.235916  2305.320250   938.013275   \n",
       " 05:45:00   3300.721014   4236.101168  2606.631608  2598.724645  1020.679913   \n",
       " 06:00:00   3664.630099   4711.820475  2787.646797  3017.873782  1150.584629   \n",
       " 06:15:00   4175.532929   5389.313131  3029.659402  3505.610958  1336.162795   \n",
       " 06:30:00   4781.139696   6187.325233  3343.918508  3989.537689  1552.108297   \n",
       " 06:45:00   5413.980246   7000.821266  3748.531197  4408.686825  1766.366725   \n",
       " 07:00:00   6093.171175   7743.804827  4269.987780  4705.901667  1951.944891   \n",
       " 07:15:00   6694.573769   8373.051888  4866.503822  4900.234448  2083.536681   \n",
       " 07:30:00   7208.131815   8943.253813  5513.023320  5064.083656  2169.577467   \n",
       " 07:45:00   7637.612744   9377.682637  6188.209659  5170.776164  2242.121660   \n",
       " 08:00:00   7999.239207   9710.834726  6897.741655  5250.795544  2289.359738   \n",
       " 08:15:00   8291.200280   9990.723870  7573.890076  5361.298498  2324.788297   \n",
       " 08:30:00   8500.272121  10194.628252  8162.333667  5456.559666  2373.713450   \n",
       " 08:45:00   8618.681139  10430.440710  8701.069700  5517.526813  2415.890306   \n",
       " 09:00:00   8645.949877  10580.006121  9010.430233  5631.840214  2442.883494   \n",
       " 09:15:00   8874.278135  10705.840587  9017.830990  5951.917736  2493.495721   \n",
       " 09:30:00   9215.029508  11030.093391  8785.521856  6325.341512  2635.209956   \n",
       " 09:45:00   9452.132945  11343.693007  8590.787911  6630.177247  2800.543232   \n",
       " 10:00:00   9591.935423  11711.123464  8356.375531  6858.804049  2935.509170   \n",
       " 10:15:00   9655.964264  11958.229114  8001.473156  7034.084597  3036.733625   \n",
       " 10:30:00   9690.401030  12136.878502  7601.938121  7190.312911  3114.339039   \n",
       " 10:45:00   9755.309117  12361.759234  7250.755133  7357.972566  3183.509083   \n",
       " 11:00:00   9945.794251  12636.141507  7038.169226  7556.115794  3257.740350   \n",
       " 11:15:00  10230.860980  12983.466433  7024.180469  7761.879916  3345.468210   \n",
       " 11:30:00  10585.296176  13351.025008  7123.242932  7952.402250  3436.570219   \n",
       " 11:45:00  10881.478900  13683.775139  7217.315905  8085.767885  3520.923930   \n",
       " 12:00:00  11043.268682  13917.201117  7187.378962  8135.303692  3579.971529   \n",
       " 12:15:00  11007.492689  13966.992249  6947.396316  8108.630565  3601.903494   \n",
       " 12:30:00  10801.256600  13825.309251  6558.638140  7963.833590  3590.093974   \n",
       " 12:45:00  10465.804137  13520.928416  6106.450894  7708.533662  3525.985153   \n",
       " 13:00:00  10041.080512  13055.171983  5689.298632  7331.299439  3412.951179   \n",
       " 13:15:00   9575.078209  12425.193356  5371.191200  6893.098069  3245.930830   \n",
       " 13:30:00   9086.873110  12057.958029  5223.339731  6698.765288  3051.917293   \n",
       " 13:45:00   8850.916842  11756.617297  5137.740902  6534.916080  2965.876507   \n",
       " 14:00:00   8613.900792  11434.606169  5073.678158  6371.066872  2893.332315   \n",
       " 14:15:00   8368.325054  11104.388118  4989.947840  6214.838558  2820.788122   \n",
       " 14:30:00   8131.052797  10785.564535  4890.759194  6066.231137  2751.618079   \n",
       " 14:45:00   7909.217095  10484.502422  4786.780526  5929.055056  2685.822184   \n",
       " 15:00:00   7715.529377  10215.282973  4684.960756  5803.310315  2625.087511   \n",
       " 15:15:00   7558.549330   9983.634586  4595.968193  5696.617807  2569.414061   \n",
       " 15:30:00   7438.020747   9796.285556  4544.896859  5639.461107  2522.175983   \n",
       " 15:45:00   7348.237171   9647.292502  4546.257879  5612.787980  2496.869869   \n",
       " 16:00:00   7291.667520   9581.213935  4566.905168  5570.873067  2485.060350   \n",
       " 16:15:00   7262.605335   9504.773386  4614.277501  5540.389493  2466.502533   \n",
       " 16:30:00   7282.065527   9502.316501  4712.160780  5589.925300  2453.005939   \n",
       " 16:45:00   7353.157532   9578.100278  4883.851048  5772.826741  2474.937904   \n",
       " 17:00:00   7663.717028   9943.032279  5154.113923  6169.113198  2555.917467   \n",
       " 17:15:00   8226.746607  10634.710441  5541.056487  6653.039928  2731.373188   \n",
       " 17:30:00   8929.491276  11489.500232  6036.260250  7140.777104  2945.631616   \n",
       " 17:45:00   9673.479667  12371.092529  6619.168841  7548.494901  3161.577118   \n",
       " 18:00:00  10351.680724  13137.095737  7276.664667  7819.036616  3342.094061   \n",
       " 18:15:00  10893.258650  13692.959239  7980.752582  7967.644037  3461.876332   \n",
       " 18:30:00  11297.701031  14054.264071  8661.054595  8043.852971  3527.672227   \n",
       " 18:45:00  11603.287734  14290.945560  9248.172432  8085.767885  3561.413712   \n",
       " 19:00:00  11835.843404  14455.316217  9661.549652  8123.872352  3579.971529   \n",
       " 19:15:00  12011.462591  14587.516391  9846.175678  8116.251458  3596.842271   \n",
       " 19:30:00  12070.209999  14614.089915  9800.091080  8017.179844  3593.468122   \n",
       " 19:45:00  11943.718752  14452.665117  9539.789554  7769.500809  3549.604192   \n",
       " 20:00:00  11558.299820  14007.844137  9140.635825  7350.351673  3439.944367   \n",
       " 20:15:00  10880.483073  13237.944798  8497.744797  7056.947277  3254.366201   \n",
       " 20:30:00  10024.391923  12475.154543  7723.132322  6729.248862  3124.461485   \n",
       " 20:45:00   9479.029089  11869.081764  6980.779892  6374.877319  2979.373101   \n",
       " 21:00:00   8914.590373  11225.208505  6308.770186  6100.525157  2822.475197   \n",
       " 21:15:00   8505.926341  10690.608698  5906.967702  6035.747563  2701.005852   \n",
       " 21:30:00   8316.937732  10519.115853  5555.186306  5974.780416  2672.325590   \n",
       " 21:45:00   8146.623217  10353.483717  5244.808039  5898.571482  2645.332402   \n",
       " 22:00:00   7935.175605  10190.620121  4966.725082  5788.068528  2611.590917   \n",
       " 22:15:00   7711.709514   9980.806068  4726.850988  5700.428254  2562.665764   \n",
       " 22:30:00   7482.868842   9726.621818  4499.642650  5692.807361  2523.863057   \n",
       " 22:45:00   7352.551970   9677.038028  4277.224333  5582.304407  2520.488908   \n",
       " 23:00:00   7179.366748   9471.890149  4047.657627  5327.004478  2471.563756   \n",
       " 23:15:00   6851.268610   9045.429424  3820.340738  4965.012042  2358.529782   \n",
       " 23:30:00   6412.628193   8458.308033  3596.743237  4553.483799  2198.257729   \n",
       " 23:45:00   5922.868376   7796.376506  3383.362207  4553.483799  2016.053712   \n",
       " \n",
       " profile            5             6            7            8            9   \\\n",
       " 00:00:00  2731.463927   9409.675266  4311.686045  1518.677822  4774.863123   \n",
       " 00:15:00  2508.436139   8641.362331  3959.630946  1394.675688  4384.988978   \n",
       " 00:30:00  2317.985443   7985.274882  3658.999625  1288.786225  4052.062742   \n",
       " 00:45:00  2152.594049   7415.514728  3397.925058  1196.829586  3762.942590   \n",
       " 01:00:00  2002.238237   6897.550952  3160.584541  1113.232642  3500.106088   \n",
       " 01:15:00  1856.894285   6396.852635  2931.155376  1032.422262  3246.030802   \n",
       " 01:30:00  1721.574053   5930.685236  2717.548911   957.185013  3009.477950   \n",
       " 01:45:00  1601.289403   5516.314215  2527.676498   890.307457  2799.208748   \n",
       " 02:00:00  1501.052195   5171.005031  2369.449487   834.576161  2623.984414   \n",
       " 02:15:00  1428.380219   4920.655873  2254.734904   794.170971  2496.946771   \n",
       " 02:30:00  1378.261615   4748.001281  2175.621399   766.305323  2409.334603   \n",
       " 02:45:00  1340.672662   4618.510337  2116.286270   745.406087  2343.625478   \n",
       " 03:00:00  1313.107429   4523.550311  2072.773842   730.079980  2295.438786   \n",
       " 03:15:00  1290.554057   4445.855745  2037.172764   717.540439  2256.013311   \n",
       " 03:30:00  1273.012546   4385.426638  2009.483038   707.787462  2225.349052   \n",
       " 03:45:00  1257.976965   4333.630260  1985.748986   699.427768  2199.065402   \n",
       " 04:00:00  1250.459174   4307.732071  1973.881960   695.247920  2185.923577   \n",
       " 04:15:00  1255.471035   4324.997530  1981.793311   698.034485  2194.684793   \n",
       " 04:30:00  1262.988825   4350.895719  1993.660336   702.214332  2207.826618   \n",
       " 04:45:00  1270.506616   4376.793908  2005.527362   706.394180  2220.968444   \n",
       " 05:00:00  1273.012546   4385.426638  2009.483038   707.787462  2225.349052   \n",
       " 05:15:00  1320.625220   4549.448500  2084.640868   734.259828  2308.580611   \n",
       " 05:30:00  1393.297196   4799.797659  2199.355451   774.665017  2435.618254   \n",
       " 05:45:00  1516.087776   5222.801409  2393.183539   842.935855  2650.268064   \n",
       " 06:00:00  1709.044402   5887.521588  2697.770535   950.218601  2987.574908   \n",
       " 06:15:00  1984.696725   6837.121845  3132.894814  1103.479665  3469.441829   \n",
       " 06:30:00  2305.455792   7942.111234  3639.221249  1281.819813  4030.159700   \n",
       " 06:45:00  2623.708928   9038.467893  4141.592009  1458.766679  4586.496963   \n",
       " 07:00:00  2899.361251   9988.068149  4576.716288  1612.027743  5068.363884   \n",
       " 07:15:00  3094.823808  10661.421058  4885.258959  1720.703771  5410.051337   \n",
       " 07:30:00  3222.626248  11101.690268  5086.998398  1791.761173  5633.462364   \n",
       " 07:45:00  3330.381247  11472.897641  5257.092435  1851.672317  5821.828524   \n",
       " 08:00:00  3400.547293  11714.614069  5367.851342  1890.684224  5944.485558   \n",
       " 08:15:00  3453.171828  11895.901391  5450.920523  1919.943155  6036.478334   \n",
       " 08:30:00  3525.843804  12146.250550  5565.635106  1960.348345  6163.515977   \n",
       " 08:45:00  3588.492059  12362.068790  5664.526988  1995.180405  6273.031186   \n",
       " 09:00:00  3628.586942  12500.192463  5727.817792  2017.472923  6343.120920   \n",
       " 09:15:00  3703.764848  12759.174351  5846.488050  2059.271395  6474.539171   \n",
       " 09:30:00  3914.262986  13484.323638  6178.764773  2176.307117  6842.510274   \n",
       " 09:45:00  4159.844146  14330.331139  6566.420949  2312.848793  7271.809894   \n",
       " 10:00:00  4360.318563  15020.949507  6882.874971  2424.311386  7622.258564   \n",
       " 10:15:00  4510.674376  15538.913283  7120.215487  2507.908330  7885.095066   \n",
       " 10:30:00  4625.947165  15936.018845  7302.176550  2571.999321  8086.603051   \n",
       " 10:45:00  4728.690304  16289.960758  7464.359236  2629.123899  8266.207994   \n",
       " 11:00:00  4838.951233  16669.800861  7638.408948  2690.428325  8458.954762   \n",
       " 11:15:00  4969.259604  17118.702800  7844.104062  2762.879010  8686.746398   \n",
       " 11:30:00  5104.579835  17584.870199  8057.710527  2838.116260  8923.299250   \n",
       " 11:45:00  5229.876345  18016.506679  8255.494290  2907.780380  9142.329668   \n",
       " 12:00:00  5317.583903  18318.652215  8393.942925  2956.545264  9295.650961   \n",
       " 12:15:00  5350.160996  18430.877700  8445.366703  2974.657936  9352.598870   \n",
       " 12:30:00  5332.619484  18370.448592  8417.676976  2964.904959  9321.934611   \n",
       " 12:45:00  5237.394136  18042.404868  8267.361316  2911.960227  9155.471493   \n",
       " 13:00:00  5069.496812  17464.011984  8002.331073  2818.610306  8861.970732   \n",
       " 13:15:00  4821.409721  16609.371754  7610.719221  2680.675348  8428.290504   \n",
       " 13:30:00  4533.227747  15616.607849  7155.816565  2520.447872  7924.520541   \n",
       " 13:45:00  4405.425307  15176.338640  6954.077126  2449.390469  7701.109514   \n",
       " 14:00:00  4297.670308  14805.131267  6783.983089  2389.479325  7512.743355   \n",
       " 14:15:00  4189.915309  14433.923894  6613.889053  2329.568182  7324.377195   \n",
       " 14:30:00  4087.172170  14079.981980  6451.706367  2272.443603  7144.772251   \n",
       " 14:45:00  3989.440892  13743.305526  6297.435031  2218.105590  6973.928525   \n",
       " 15:00:00  3899.227405  13432.527260  6155.030721  2167.947423  6816.226624   \n",
       " 15:15:00  3816.531708  13147.647183  6024.493437  2121.969104  6671.666547   \n",
       " 15:30:00  3746.365662  12905.930755  5913.734530  2082.957196  6549.009513   \n",
       " 15:45:00  3708.776709  12776.439810  5854.399401  2062.057960  6483.300388   \n",
       " 16:00:00  3691.235197  12716.010703  5826.709674  2052.304983  6452.636129   \n",
       " 16:15:00  3663.669965  12621.050678  5783.197246  2036.978877  6404.449437   \n",
       " 16:30:00  3643.622523  12551.988841  5751.551844  2025.832618  6369.404570   \n",
       " 16:45:00  3676.199616  12664.214326  5802.975622  2043.945289  6426.352479   \n",
       " 17:00:00  3796.484266  13078.585347  5992.848035  2110.822844  6636.621681   \n",
       " 17:15:00  4057.101008  13976.389225  6404.238263  2255.724214  7092.204951   \n",
       " 17:30:00  4375.354144  15072.745885  6906.609023  2432.671080  7648.542214   \n",
       " 17:45:00  4696.113211  16177.735274  7412.935457  2611.011228  8209.260085   \n",
       " 18:00:00  4964.247743  17101.437341  7836.192711  2760.092445  8677.985181   \n",
       " 18:15:00  5142.168788  17714.361143  8117.045656  2859.015496  8989.008375   \n",
       " 18:30:00  5239.900066  18051.037597  8271.316991  2913.353510  9159.852102   \n",
       " 18:45:00  5290.018671  18223.692189  8350.430497  2941.219158  9247.464269   \n",
       " 19:00:00  5317.583903  18318.652215  8393.942925  2956.545264  9295.650961   \n",
       " 19:15:00  5342.643205  18404.979511  8433.499677  2970.478088  9339.457045   \n",
       " 19:30:00  5337.631344  18387.714052  8425.588327  2967.691524  9330.695828   \n",
       " 19:45:00  5272.477159  18163.263082  8322.740770  2931.466181  9216.800010   \n",
       " 20:00:00  5109.591695  17602.135658  8065.621877  2840.902825  8932.060466   \n",
       " 20:15:00  4833.939373  16652.535402  7630.497597  2687.641760  8450.193546   \n",
       " 20:30:00  4640.982746  15987.815222  7325.910601  2580.359015  8112.886701   \n",
       " 20:45:00  4425.472749  15245.400477  6985.722528  2460.536728  7736.154381   \n",
       " 21:00:00  4192.421239  14442.556624  6617.844728  2330.961464  7328.757803   \n",
       " 21:15:00  4011.994264  13821.000092  6333.036109  2230.645131  7013.354000   \n",
       " 21:30:00  3969.393451  13674.243689  6265.789629  2206.959330  6938.883658   \n",
       " 21:45:00  3929.298567  13536.120015  6202.498825  2184.666812  6868.793924   \n",
       " 22:00:00  3879.179963  13363.465423  6123.385319  2156.801164  6781.181757   \n",
       " 22:15:00  3806.507987  13113.116265  6008.670736  2116.395974  6654.144114   \n",
       " 22:30:00  3748.871592  12914.563484  5917.690205  2084.350479  6553.390121   \n",
       " 22:45:00  3743.859732  12897.298025  5909.778855  2081.563914  6544.628905   \n",
       " 23:00:00  3671.187756  12646.948866  5795.064272  2041.158724  6417.591262   \n",
       " 23:15:00  3503.290432  12068.555983  5530.034029  1947.808803  6124.090501   \n",
       " 23:30:00  3265.227062  11248.446671  5154.244878  1815.446974  5707.932706   \n",
       " 23:45:00  2994.586599  10316.111874  4727.031949  1664.972475  5234.827002   \n",
       " \n",
       " profile             10            11  \n",
       " 00:00:00   4440.168354   5064.029218  \n",
       " 00:15:00   4317.479491   4924.102094  \n",
       " 00:30:00   4264.898550   4864.133327  \n",
       " 00:45:00   4241.529243   4837.480542  \n",
       " 01:00:00   4224.002263   4817.490953  \n",
       " 01:15:00   4177.263649   4764.185382  \n",
       " 01:30:00   4112.998054   4690.890223  \n",
       " 01:45:00   4037.047806   4604.268670  \n",
       " 02:00:00   3949.412904   4504.320725  \n",
       " 02:15:00   3867.620329   4411.035976  \n",
       " 02:30:00   3785.827754   4317.751228  \n",
       " 02:45:00   3704.035179   4224.466479  \n",
       " 03:00:00   3628.084931   4137.844926  \n",
       " 03:15:00   3546.292356   4044.560178  \n",
       " 03:30:00   3470.342108   3957.938625  \n",
       " 03:45:00   3406.076514   3884.643466  \n",
       " 04:00:00   3353.495573   3824.674699  \n",
       " 04:15:00   3324.283939   3791.358717  \n",
       " 04:30:00   3318.441612   3784.695521  \n",
       " 04:45:00   3330.126265   3798.021913  \n",
       " 05:00:00   3353.495573   3824.674699  \n",
       " 05:15:00   3435.288147   3917.959447  \n",
       " 05:30:00   3557.977010   4057.886570  \n",
       " 05:45:00   3727.404487   4251.119264  \n",
       " 06:00:00   4001.993845   4564.289492  \n",
       " 06:15:00   4399.272066   5017.386843  \n",
       " 06:30:00   4913.396823   5603.748121  \n",
       " 06:45:00   5538.525789   6316.710129  \n",
       " 07:00:00   6274.658963   7156.272868  \n",
       " 07:15:00   7121.796347   8122.436337  \n",
       " 07:30:00   8050.726305   9181.884555  \n",
       " 07:45:00   9055.606511  10327.954325  \n",
       " 08:00:00  10118.909985  11540.656059  \n",
       " 08:15:00  11199.740440  12773.347382  \n",
       " 08:30:00  12187.093666  13899.427563  \n",
       " 08:45:00  12934.911494  14752.316694  \n",
       " 09:00:00  13314.662735  15185.424456  \n",
       " 09:15:00  13227.027833  15085.476511  \n",
       " 09:30:00  12771.326344  14565.747197  \n",
       " 09:45:00  12391.575103  14132.639435  \n",
       " 10:00:00  12011.823863  13699.531673  \n",
       " 10:15:00  11445.118165  13053.201628  \n",
       " 10:30:00  10808.304546  12326.913227  \n",
       " 10:45:00  10247.441175  11687.246378  \n",
       " 11:00:00   9902.743895  11294.117794  \n",
       " 11:15:00   9867.689934  11254.138616  \n",
       " 11:30:00  10007.905777  11414.055329  \n",
       " 11:45:00  10136.436966  11560.645648  \n",
       " 12:00:00  10066.329044  11480.687292  \n",
       " 12:15:00   9663.208497  11020.926745  \n",
       " 12:30:00   9026.394877  10294.638344  \n",
       " 12:45:00   8296.104030   9461.738801  \n",
       " 13:00:00   7630.078777   8702.134419  \n",
       " 13:15:00   7133.481000   8135.762730  \n",
       " 13:30:00   6829.680008   7789.276520  \n",
       " 13:45:00   6782.941393   7735.970949  \n",
       " 14:00:00   6765.414413   7715.981360  \n",
       " 14:15:00   6706.991145   7649.349397  \n",
       " 14:30:00   6613.513917   7542.738256  \n",
       " 14:45:00   6502.509708   7416.137525  \n",
       " 15:00:00   6385.663172   7282.873598  \n",
       " 15:15:00   6327.239904   7216.241635  \n",
       " 15:30:00   6327.239904   7216.241635  \n",
       " 15:45:00   6344.766885   7236.231224  \n",
       " 16:00:00   6385.663172   7282.873598  \n",
       " 16:15:00   6461.613420   7369.495151  \n",
       " 16:30:00   6607.671590   7536.075059  \n",
       " 16:45:00   6858.891641   7822.592502  \n",
       " 17:00:00   7250.327536   8269.026657  \n",
       " 17:15:00   7811.190907   8908.693505  \n",
       " 17:30:00   8529.797101   9728.266655  \n",
       " 17:45:00   9376.934484  10694.430124  \n",
       " 18:00:00  10335.076076  11787.194324  \n",
       " 18:15:00  11363.325590  12959.916879  \n",
       " 18:30:00  12356.521143  14092.660257  \n",
       " 18:45:00  13209.500853  15065.486922  \n",
       " 19:00:00  13799.575858  15738.469753  \n",
       " 19:15:00  14044.953583  16018.323999  \n",
       " 19:30:00  13945.634027  15905.049661  \n",
       " 19:45:00  13606.779074  15518.584273  \n",
       " 20:00:00  12987.492435  14812.285461  \n",
       " 20:15:00  12017.666189  13706.194869  \n",
       " 20:30:00  10837.516180  12360.229209  \n",
       " 20:45:00   9704.104784  11067.569119  \n",
       " 21:00:00   8769.332499  10001.457705  \n",
       " 21:15:00   8155.888187   9301.822089  \n",
       " 21:30:00   7612.551796   8682.144830  \n",
       " 21:45:00   7133.481000   8135.762730  \n",
       " 22:00:00   6712.833472   7656.012593  \n",
       " 22:15:00   6333.082231   7222.904831  \n",
       " 22:30:00   5988.384951   6829.776247  \n",
       " 22:45:00   5707.953265   6509.942823  \n",
       " 23:00:00   5468.417867   6236.751773  \n",
       " 23:15:00   5205.513162   5936.907938  \n",
       " 23:30:00   4942.608457   5637.064103  \n",
       " 23:45:00   4679.703752   5337.220267  }"
      ]
     },
     "execution_count": 173,
     "metadata": {},
     "output_type": "execute_result"
    }
   ],
   "source": [
    "time_series[\"load\"]"
   ]
  },
  {
   "cell_type": "code",
   "execution_count": 174,
   "metadata": {},
   "outputs": [
    {
     "name": "stderr",
     "output_type": "stream",
     "text": [
      "/home/karim/miniforge3/lib/python3.12/site-packages/pandapower/timeseries/output_writer.py:177: FutureWarning:\n",
      "\n",
      "Setting an item of incompatible dtype is deprecated and will raise in a future error of pandas. Value 'range(0, 96)' has dtype incompatible with bool, please explicitly cast to a compatible dtype first.\n",
      "\n",
      "2025-01-16 14:38:36 Karim pandapower.timeseries.run_time_series[30374] ERROR CalculationNotConverged at time step 0\n"
     ]
    },
    {
     "ename": "LoadflowNotConverged",
     "evalue": "",
     "output_type": "error",
     "traceback": [
      "\u001b[0;31m---------------------------------------------------------------------------\u001b[0m",
      "\u001b[0;31mLoadflowNotConverged\u001b[0m                      Traceback (most recent call last)",
      "File \u001b[0;32m~/miniforge3/lib/python3.12/site-packages/pandapower/timeseries/run_time_series.py:129\u001b[0m, in \u001b[0;36mrun_time_step\u001b[0;34m(net, time_step, ts_variables, run_control_fct, output_writer_fct, **kwargs)\u001b[0m\n\u001b[1;32m    127\u001b[0m \u001b[38;5;28;01mtry\u001b[39;00m:\n\u001b[1;32m    128\u001b[0m     \u001b[38;5;66;03m# calls controller init, control steps and run function (runpp usually is called in here)\u001b[39;00m\n\u001b[0;32m--> 129\u001b[0m     \u001b[43mrun_control_fct\u001b[49m\u001b[43m(\u001b[49m\u001b[43mnet\u001b[49m\u001b[43m,\u001b[49m\u001b[43m \u001b[49m\u001b[43mctrl_variables\u001b[49m\u001b[38;5;241;43m=\u001b[39;49m\u001b[43mts_variables\u001b[49m\u001b[43m,\u001b[49m\u001b[43m \u001b[49m\u001b[38;5;241;43m*\u001b[39;49m\u001b[38;5;241;43m*\u001b[39;49m\u001b[43mkwargs\u001b[49m\u001b[43m)\u001b[49m\n\u001b[1;32m    130\u001b[0m \u001b[38;5;28;01mexcept\u001b[39;00m ControllerNotConverged:\n",
      "File \u001b[0;32m~/miniforge3/lib/python3.12/site-packages/pandapower/control/run_control.py:303\u001b[0m, in \u001b[0;36mrun_control\u001b[0;34m(net, ctrl_variables, max_iter, **kwargs)\u001b[0m\n\u001b[1;32m    302\u001b[0m \u001b[38;5;66;03m# run each controller step in given controller order\u001b[39;00m\n\u001b[0;32m--> 303\u001b[0m \u001b[43mcontrol_implementation\u001b[49m\u001b[43m(\u001b[49m\u001b[43mnet\u001b[49m\u001b[43m,\u001b[49m\u001b[43m \u001b[49m\u001b[43mcontroller_order\u001b[49m\u001b[43m,\u001b[49m\u001b[43m \u001b[49m\u001b[43mctrl_variables\u001b[49m\u001b[43m,\u001b[49m\u001b[43m \u001b[49m\u001b[43mmax_iter\u001b[49m\u001b[43m,\u001b[49m\u001b[43m \u001b[49m\u001b[38;5;241;43m*\u001b[39;49m\u001b[38;5;241;43m*\u001b[39;49m\u001b[43mkwargs\u001b[49m\u001b[43m)\u001b[49m\n\u001b[1;32m    305\u001b[0m \u001b[38;5;66;03m# call finalize function of each controller\u001b[39;00m\n",
      "File \u001b[0;32m~/miniforge3/lib/python3.12/site-packages/pandapower/control/run_control.py:219\u001b[0m, in \u001b[0;36mcontrol_implementation\u001b[0;34m(net, controller_order, ctrl_variables, max_iter, evaluate_net_fct, **kwargs)\u001b[0m\n\u001b[1;32m    218\u001b[0m         run_count \u001b[38;5;241m+\u001b[39m\u001b[38;5;241m=\u001b[39m \u001b[38;5;241m1\u001b[39m\n\u001b[0;32m--> 219\u001b[0m         ctrl_variables \u001b[38;5;241m=\u001b[39m \u001b[43mevaluate_net_fct\u001b[49m\u001b[43m(\u001b[49m\u001b[43mnet\u001b[49m\u001b[43m,\u001b[49m\u001b[43m \u001b[49m\u001b[43mlevelorder\u001b[49m\u001b[43m,\u001b[49m\u001b[43m \u001b[49m\u001b[43mctrl_variables\u001b[49m\u001b[43m,\u001b[49m\u001b[43m \u001b[49m\u001b[38;5;241;43m*\u001b[39;49m\u001b[38;5;241;43m*\u001b[39;49m\u001b[43mkwargs\u001b[49m\u001b[43m)\u001b[49m\n\u001b[1;32m    220\u001b[0m \u001b[38;5;66;03m# raises controller not converged\u001b[39;00m\n",
      "File \u001b[0;32m~/miniforge3/lib/python3.12/site-packages/pandapower/control/run_control.py:196\u001b[0m, in \u001b[0;36m_evaluate_net\u001b[0;34m(net, levelorder, ctrl_variables, **kwargs)\u001b[0m\n\u001b[1;32m    195\u001b[0m     \u001b[38;5;28;01melse\u001b[39;00m:\n\u001b[0;32m--> 196\u001b[0m         \u001b[38;5;28;01mraise\u001b[39;00m err\n\u001b[1;32m    197\u001b[0m ctrl_variables[\u001b[38;5;124m'\u001b[39m\u001b[38;5;124mconverged\u001b[39m\u001b[38;5;124m'\u001b[39m] \u001b[38;5;241m=\u001b[39m net[\u001b[38;5;124m'\u001b[39m\u001b[38;5;124mconverged\u001b[39m\u001b[38;5;124m'\u001b[39m] \u001b[38;5;129;01mor\u001b[39;00m net\u001b[38;5;241m.\u001b[39mget(\u001b[38;5;124m'\u001b[39m\u001b[38;5;124mOPF_converged\u001b[39m\u001b[38;5;124m'\u001b[39m, \u001b[38;5;28;01mFalse\u001b[39;00m)\n",
      "File \u001b[0;32m~/miniforge3/lib/python3.12/site-packages/pandapower/control/run_control.py:180\u001b[0m, in \u001b[0;36m_evaluate_net\u001b[0;34m(net, levelorder, ctrl_variables, **kwargs)\u001b[0m\n\u001b[1;32m    179\u001b[0m \u001b[38;5;28;01mtry\u001b[39;00m:\n\u001b[0;32m--> 180\u001b[0m     \u001b[43mrun_funct\u001b[49m\u001b[43m(\u001b[49m\u001b[43mnet\u001b[49m\u001b[43m,\u001b[49m\u001b[43m \u001b[49m\u001b[38;5;241;43m*\u001b[39;49m\u001b[38;5;241;43m*\u001b[39;49m\u001b[43mkwargs\u001b[49m\u001b[43m)\u001b[49m  \u001b[38;5;66;03m# run can be runpp, runopf or whatever\u001b[39;00m\n\u001b[1;32m    181\u001b[0m \u001b[38;5;28;01mexcept\u001b[39;00m errors \u001b[38;5;28;01mas\u001b[39;00m err:\n",
      "File \u001b[0;32m~/miniforge3/lib/python3.12/site-packages/pandapower/run.py:250\u001b[0m, in \u001b[0;36mrunpp\u001b[0;34m(net, algorithm, calculate_voltage_angles, init, max_iteration, tolerance_mva, trafo_model, trafo_loading, enforce_q_lims, check_connectivity, voltage_depend_loads, consider_line_temperature, run_control, distributed_slack, tdpf, tdpf_delay_s, **kwargs)\u001b[0m\n\u001b[1;32m    249\u001b[0m _check_gen_index_and_print_warning_if_high(net)\n\u001b[0;32m--> 250\u001b[0m \u001b[43m_powerflow\u001b[49m\u001b[43m(\u001b[49m\u001b[43mnet\u001b[49m\u001b[43m,\u001b[49m\u001b[43m \u001b[49m\u001b[38;5;241;43m*\u001b[39;49m\u001b[38;5;241;43m*\u001b[39;49m\u001b[43mkwargs\u001b[49m\u001b[43m)\u001b[49m\n",
      "File \u001b[0;32m~/miniforge3/lib/python3.12/site-packages/pandapower/powerflow.py:86\u001b[0m, in \u001b[0;36m_powerflow\u001b[0;34m(net, **kwargs)\u001b[0m\n\u001b[1;32m     85\u001b[0m \u001b[38;5;66;03m# read the results (=ppci with results) to net\u001b[39;00m\n\u001b[0;32m---> 86\u001b[0m \u001b[43m_ppci_to_net\u001b[49m\u001b[43m(\u001b[49m\u001b[43mresult\u001b[49m\u001b[43m,\u001b[49m\u001b[43m \u001b[49m\u001b[43mnet\u001b[49m\u001b[43m)\u001b[49m\n",
      "File \u001b[0;32m~/miniforge3/lib/python3.12/site-packages/pandapower/powerflow.py:190\u001b[0m, in \u001b[0;36m_ppci_to_net\u001b[0;34m(result, net)\u001b[0m\n\u001b[1;32m    189\u001b[0m     max_iteration \u001b[38;5;241m=\u001b[39m net[\u001b[38;5;124m\"\u001b[39m\u001b[38;5;124m_options\u001b[39m\u001b[38;5;124m\"\u001b[39m][\u001b[38;5;124m\"\u001b[39m\u001b[38;5;124mmax_iteration\u001b[39m\u001b[38;5;124m\"\u001b[39m]\n\u001b[0;32m--> 190\u001b[0m     \u001b[38;5;28;01mraise\u001b[39;00m LoadflowNotConverged(\u001b[38;5;124m\"\u001b[39m\u001b[38;5;124mPower Flow \u001b[39m\u001b[38;5;132;01m{0}\u001b[39;00m\u001b[38;5;124m did not converge after \u001b[39m\u001b[38;5;124m\"\u001b[39m\n\u001b[1;32m    191\u001b[0m                                \u001b[38;5;124m\"\u001b[39m\u001b[38;5;132;01m{1}\u001b[39;00m\u001b[38;5;124m iterations!\u001b[39m\u001b[38;5;124m\"\u001b[39m\u001b[38;5;241m.\u001b[39mformat(algorithm, max_iteration))\n\u001b[1;32m    192\u001b[0m \u001b[38;5;28;01melse\u001b[39;00m:\n",
      "\u001b[0;31mLoadflowNotConverged\u001b[0m: Power Flow nr did not converge after 10 iterations!",
      "\nDuring handling of the above exception, another exception occurred:\n",
      "\u001b[0;31mLoadflowNotConverged\u001b[0m                      Traceback (most recent call last)",
      "Cell \u001b[0;32mIn[174], line 1\u001b[0m\n\u001b[0;32m----> 1\u001b[0m \u001b[43mpp_sim\u001b[49m\u001b[38;5;241;43m.\u001b[39;49m\u001b[43mrun_time_simulation\u001b[49m\u001b[43m(\u001b[49m\u001b[43mnet\u001b[49m\u001b[38;5;241;43m=\u001b[39;49m\u001b[43mnet_trey\u001b[49m\u001b[43m)\u001b[49m\n",
      "File \u001b[0;32m~/miniforge3/lib/python3.12/site-packages/pp_heig_simulation.py:361\u001b[0m, in \u001b[0;36mrun_time_simulation\u001b[0;34m(net, output_filename, folder)\u001b[0m\n\u001b[1;32m    339\u001b[0m \u001b[38;5;28;01mdef\u001b[39;00m \u001b[38;5;21mrun_time_simulation\u001b[39m(net: pp\u001b[38;5;241m.\u001b[39mpandapowerNet, output_filename: \u001b[38;5;28mstr\u001b[39m \u001b[38;5;241m=\u001b[39m \u001b[38;5;28;01mNone\u001b[39;00m,\n\u001b[1;32m    340\u001b[0m                         folder: \u001b[38;5;28mstr\u001b[39m \u001b[38;5;241m=\u001b[39m \u001b[38;5;124mr\u001b[39m\u001b[38;5;124m\"\u001b[39m\u001b[38;5;124moutput\u001b[39m\u001b[38;5;124m\"\u001b[39m) \u001b[38;5;241m-\u001b[39m\u001b[38;5;241m>\u001b[39m \u001b[38;5;28mdict\u001b[39m[\u001b[38;5;28mstr\u001b[39m, pd\u001b[38;5;241m.\u001b[39mDataFrame]:\n\u001b[1;32m    341\u001b[0m \u001b[38;5;250m    \u001b[39m\u001b[38;5;124mr\u001b[39m\u001b[38;5;124;03m\"\"\"Run a time-series power flow on a pandaPower network where power profiles has been applied to the load and the generators.\u001b[39;00m\n\u001b[1;32m    342\u001b[0m \u001b[38;5;124;03m    \u001b[39;00m\n\u001b[1;32m    343\u001b[0m \u001b[38;5;124;03m    The results will then be converted into a dictionary of `DataFrames` and saved to an Excel file if desired.\u001b[39;00m\n\u001b[0;32m   (...)\u001b[0m\n\u001b[1;32m    359\u001b[0m \u001b[38;5;124;03m    >>> run_time_simulation(net=net, folder=\".cache\", output_filename=\"output_filename\")\u001b[39;00m\n\u001b[1;32m    360\u001b[0m \u001b[38;5;124;03m    \"\"\"\u001b[39;00m\n\u001b[0;32m--> 361\u001b[0m     \u001b[43mtimeseries\u001b[49m\u001b[38;5;241;43m.\u001b[39;49m\u001b[43mrun_timeseries\u001b[49m\u001b[43m(\u001b[49m\u001b[43mnet\u001b[49m\u001b[43m,\u001b[49m\u001b[43m \u001b[49m\u001b[43mtime_steps\u001b[49m\u001b[38;5;241;43m=\u001b[39;49m\u001b[38;5;28;43mrange\u001b[39;49m\u001b[43m(\u001b[49m\u001b[43mnet\u001b[49m\u001b[43m[\u001b[49m\u001b[38;5;124;43m\"\u001b[39;49m\u001b[38;5;124;43mtime_index\u001b[39;49m\u001b[38;5;124;43m\"\u001b[39;49m\u001b[43m]\u001b[49m\u001b[38;5;241;43m.\u001b[39;49m\u001b[43mshape\u001b[49m\u001b[43m[\u001b[49m\u001b[38;5;241;43m0\u001b[39;49m\u001b[43m]\u001b[49m\u001b[43m)\u001b[49m\u001b[43m,\u001b[49m\u001b[43m \u001b[49m\u001b[43mverbose\u001b[49m\u001b[38;5;241;43m=\u001b[39;49m\u001b[38;5;28;43;01mFalse\u001b[39;49;00m\u001b[43m)\u001b[49m\n\u001b[1;32m    363\u001b[0m     results_df: \u001b[38;5;28mdict\u001b[39m[\u001b[38;5;28mstr\u001b[39m, pd\u001b[38;5;241m.\u001b[39mDataFrame] \u001b[38;5;241m=\u001b[39m \u001b[38;5;28mdict\u001b[39m()\n\u001b[1;32m    364\u001b[0m     \u001b[38;5;28;01mfor\u001b[39;00m key, result \u001b[38;5;129;01min\u001b[39;00m net\u001b[38;5;241m.\u001b[39moutput_writer\u001b[38;5;241m.\u001b[39mat[\u001b[38;5;241m0\u001b[39m, \u001b[38;5;124m\"\u001b[39m\u001b[38;5;124mobject\u001b[39m\u001b[38;5;124m\"\u001b[39m]\u001b[38;5;241m.\u001b[39moutput\u001b[38;5;241m.\u001b[39mitems():\n",
      "File \u001b[0;32m~/miniforge3/lib/python3.12/site-packages/pandapower/timeseries/run_time_series.py:361\u001b[0m, in \u001b[0;36mrun_timeseries\u001b[0;34m(net, time_steps, continue_on_divergence, verbose, check_controllers, **kwargs)\u001b[0m\n\u001b[1;32m    359\u001b[0m \u001b[38;5;28;01mif\u001b[39;00m check_controllers:\n\u001b[1;32m    360\u001b[0m     control_diagnostic(net) \u001b[38;5;66;03m# produces significant overhead if you run many timeseries of short duration\u001b[39;00m\n\u001b[0;32m--> 361\u001b[0m \u001b[43mrun_loop\u001b[49m\u001b[43m(\u001b[49m\u001b[43mnet\u001b[49m\u001b[43m,\u001b[49m\u001b[43m \u001b[49m\u001b[43mts_variables\u001b[49m\u001b[43m,\u001b[49m\u001b[43m \u001b[49m\u001b[38;5;241;43m*\u001b[39;49m\u001b[38;5;241;43m*\u001b[39;49m\u001b[43mkwargs\u001b[49m\u001b[43m)\u001b[49m\n\u001b[1;32m    363\u001b[0m \u001b[38;5;66;03m# cleanup functions after the last time step was calculated\u001b[39;00m\n\u001b[1;32m    364\u001b[0m cleanup(net, ts_variables)\n",
      "File \u001b[0;32m~/miniforge3/lib/python3.12/site-packages/pandapower/timeseries/run_time_series.py:329\u001b[0m, in \u001b[0;36mrun_loop\u001b[0;34m(net, ts_variables, run_control_fct, output_writer_fct, **kwargs)\u001b[0m\n\u001b[1;32m    326\u001b[0m \u001b[38;5;28;01mfor\u001b[39;00m i, time_step \u001b[38;5;129;01min\u001b[39;00m \u001b[38;5;28menumerate\u001b[39m(ts_variables[\u001b[38;5;124m\"\u001b[39m\u001b[38;5;124mtime_steps\u001b[39m\u001b[38;5;124m\"\u001b[39m]):\n\u001b[1;32m    327\u001b[0m     print_progress(i, time_step, ts_variables[\u001b[38;5;124m\"\u001b[39m\u001b[38;5;124mtime_steps\u001b[39m\u001b[38;5;124m\"\u001b[39m], ts_variables[\u001b[38;5;124m\"\u001b[39m\u001b[38;5;124mverbose\u001b[39m\u001b[38;5;124m\"\u001b[39m], ts_variables\u001b[38;5;241m=\u001b[39mts_variables,\n\u001b[1;32m    328\u001b[0m                    \u001b[38;5;241m*\u001b[39m\u001b[38;5;241m*\u001b[39mkwargs)\n\u001b[0;32m--> 329\u001b[0m     \u001b[43mrun_time_step\u001b[49m\u001b[43m(\u001b[49m\u001b[43mnet\u001b[49m\u001b[43m,\u001b[49m\u001b[43m \u001b[49m\u001b[43mtime_step\u001b[49m\u001b[43m,\u001b[49m\u001b[43m \u001b[49m\u001b[43mts_variables\u001b[49m\u001b[43m,\u001b[49m\u001b[43m \u001b[49m\u001b[43mrun_control_fct\u001b[49m\u001b[43m,\u001b[49m\u001b[43m \u001b[49m\u001b[43moutput_writer_fct\u001b[49m\u001b[43m,\u001b[49m\u001b[43m \u001b[49m\u001b[38;5;241;43m*\u001b[39;49m\u001b[38;5;241;43m*\u001b[39;49m\u001b[43mkwargs\u001b[49m\u001b[43m)\u001b[49m\n",
      "File \u001b[0;32m~/miniforge3/lib/python3.12/site-packages/pandapower/timeseries/run_time_series.py:137\u001b[0m, in \u001b[0;36mrun_time_step\u001b[0;34m(net, time_step, ts_variables, run_control_fct, output_writer_fct, **kwargs)\u001b[0m\n\u001b[1;32m    134\u001b[0m \u001b[38;5;28;01mexcept\u001b[39;00m ts_variables[\u001b[38;5;124m'\u001b[39m\u001b[38;5;124merrors\u001b[39m\u001b[38;5;124m'\u001b[39m]:\n\u001b[1;32m    135\u001b[0m     \u001b[38;5;66;03m# If power flow did not converge simulation aborts or continues if continue_on_divergence is True\u001b[39;00m\n\u001b[1;32m    136\u001b[0m     pf_converged \u001b[38;5;241m=\u001b[39m \u001b[38;5;28;01mFalse\u001b[39;00m\n\u001b[0;32m--> 137\u001b[0m     \u001b[43mpf_not_converged\u001b[49m\u001b[43m(\u001b[49m\u001b[43mtime_step\u001b[49m\u001b[43m,\u001b[49m\u001b[43m \u001b[49m\u001b[43mts_variables\u001b[49m\u001b[43m)\u001b[49m\n\u001b[1;32m    139\u001b[0m output_writer_fct(net, time_step, pf_converged, ctrl_converged, ts_variables)\n\u001b[1;32m    141\u001b[0m finalize_step(ts_variables[\u001b[38;5;124m'\u001b[39m\u001b[38;5;124mcontroller_order\u001b[39m\u001b[38;5;124m'\u001b[39m], time_step)\n",
      "File \u001b[0;32m~/miniforge3/lib/python3.12/site-packages/pandapower/timeseries/run_time_series.py:80\u001b[0m, in \u001b[0;36mpf_not_converged\u001b[0;34m(time_step, ts_variables)\u001b[0m\n\u001b[1;32m     78\u001b[0m logger\u001b[38;5;241m.\u001b[39merror(\u001b[38;5;124m'\u001b[39m\u001b[38;5;124mCalculationNotConverged at time step \u001b[39m\u001b[38;5;132;01m%s\u001b[39;00m\u001b[38;5;124m'\u001b[39m \u001b[38;5;241m%\u001b[39m time_step)\n\u001b[1;32m     79\u001b[0m \u001b[38;5;28;01mif\u001b[39;00m \u001b[38;5;129;01mnot\u001b[39;00m ts_variables[\u001b[38;5;124m\"\u001b[39m\u001b[38;5;124mcontinue_on_divergence\u001b[39m\u001b[38;5;124m\"\u001b[39m]:\n\u001b[0;32m---> 80\u001b[0m     \u001b[38;5;28;01mraise\u001b[39;00m ts_variables[\u001b[38;5;124m'\u001b[39m\u001b[38;5;124merrors\u001b[39m\u001b[38;5;124m'\u001b[39m][\u001b[38;5;241m0\u001b[39m]\n",
      "\u001b[0;31mLoadflowNotConverged\u001b[0m: "
     ]
    }
   ],
   "source": [
    "pp_sim.run_time_simulation(net=net_trey)"
   ]
  },
  {
   "cell_type": "code",
   "execution_count": null,
   "metadata": {},
   "outputs": [],
   "source": [
    "pp_plot.plot_timeseries_result(\n",
    "    data_df=result_df[\"res_bus.vm_pu\"],\n",
    "    ylabel=\"V [pu]\",\n",
    "    plot_title=\"Bus voltage\",\n",
    "    filename=\"voltage_result\",\n",
    ")"
   ]
  }
 ],
 "metadata": {
  "kernelspec": {
   "display_name": "base",
   "language": "python",
   "name": "python3"
  },
  "language_info": {
   "codemirror_mode": {
    "name": "ipython",
    "version": 3
   },
   "file_extension": ".py",
   "mimetype": "text/x-python",
   "name": "python",
   "nbconvert_exporter": "python",
   "pygments_lexer": "ipython3",
   "version": "3.12.4"
  }
 },
 "nbformat": 4,
 "nbformat_minor": 2
}
