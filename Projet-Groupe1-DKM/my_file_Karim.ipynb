{
 "cells": [
  {
   "cell_type": "markdown",
   "metadata": {},
   "source": [
    "Code de Rimka"
   ]
  },
  {
   "cell_type": "code",
   "execution_count": 177,
   "metadata": {},
   "outputs": [],
   "source": [
    "import os\n",
    "import numpy as np\n",
    "import pandas as pd\n",
    "import plotly.express as px\n",
    "from plotly.subplots import make_subplots\n",
    "import plotly.graph_objects as go\n",
    "import pandapower as pp\n",
    "import pp_heig_simulation as pp_sim\n",
    "import pp_heig_plot as pp_plot"
   ]
  },
  {
   "cell_type": "code",
   "execution_count": 178,
   "metadata": {},
   "outputs": [],
   "source": [
    "file_path = \"data/trey_power_network.xlsx\"  # ouverture OK\n",
    "net_ExPF1_Pb1_heig = pp_sim.load_net_from_xlsx(file_path=file_path)"
   ]
  },
  {
   "cell_type": "code",
   "execution_count": 179,
   "metadata": {},
   "outputs": [
    {
     "data": {
      "text/html": [
       "<div>\n",
       "<style scoped>\n",
       "    .dataframe tbody tr th:only-of-type {\n",
       "        vertical-align: middle;\n",
       "    }\n",
       "\n",
       "    .dataframe tbody tr th {\n",
       "        vertical-align: top;\n",
       "    }\n",
       "\n",
       "    .dataframe thead th {\n",
       "        text-align: right;\n",
       "    }\n",
       "</style>\n",
       "<table border=\"1\" class=\"dataframe\">\n",
       "  <thead>\n",
       "    <tr style=\"text-align: right;\">\n",
       "      <th></th>\n",
       "      <th>name</th>\n",
       "      <th>bus</th>\n",
       "      <th>p_mw</th>\n",
       "      <th>q_mvar</th>\n",
       "      <th>scaling</th>\n",
       "      <th>profile_mapping</th>\n",
       "      <th>const_z_percent</th>\n",
       "      <th>const_i_percent</th>\n",
       "      <th>sn_mva</th>\n",
       "      <th>in_service</th>\n",
       "      <th>type</th>\n",
       "    </tr>\n",
       "  </thead>\n",
       "  <tbody>\n",
       "    <tr>\n",
       "      <th>0</th>\n",
       "      <td>STMT003438</td>\n",
       "      <td>0</td>\n",
       "      <td>0.026</td>\n",
       "      <td>0.0100</td>\n",
       "      <td>1.0</td>\n",
       "      <td>0</td>\n",
       "      <td>0.0</td>\n",
       "      <td>0.0</td>\n",
       "      <td>None</td>\n",
       "      <td>True</td>\n",
       "      <td>wye</td>\n",
       "    </tr>\n",
       "    <tr>\n",
       "      <th>1</th>\n",
       "      <td>CDBT004764</td>\n",
       "      <td>1</td>\n",
       "      <td>0.037</td>\n",
       "      <td>0.0135</td>\n",
       "      <td>1.0</td>\n",
       "      <td>1</td>\n",
       "      <td>0.0</td>\n",
       "      <td>0.0</td>\n",
       "      <td>None</td>\n",
       "      <td>True</td>\n",
       "      <td>wye</td>\n",
       "    </tr>\n",
       "    <tr>\n",
       "      <th>2</th>\n",
       "      <td>CDBT003746</td>\n",
       "      <td>2</td>\n",
       "      <td>0.008</td>\n",
       "      <td>0.0030</td>\n",
       "      <td>1.0</td>\n",
       "      <td>2</td>\n",
       "      <td>0.0</td>\n",
       "      <td>0.0</td>\n",
       "      <td>None</td>\n",
       "      <td>True</td>\n",
       "      <td>wye</td>\n",
       "    </tr>\n",
       "    <tr>\n",
       "      <th>3</th>\n",
       "      <td>CDBT004760</td>\n",
       "      <td>3</td>\n",
       "      <td>0.011</td>\n",
       "      <td>0.0040</td>\n",
       "      <td>1.0</td>\n",
       "      <td>3</td>\n",
       "      <td>0.0</td>\n",
       "      <td>0.0</td>\n",
       "      <td>None</td>\n",
       "      <td>True</td>\n",
       "      <td>wye</td>\n",
       "    </tr>\n",
       "    <tr>\n",
       "      <th>4</th>\n",
       "      <td>CDBT012139</td>\n",
       "      <td>4</td>\n",
       "      <td>0.012</td>\n",
       "      <td>0.0040</td>\n",
       "      <td>1.0</td>\n",
       "      <td>4</td>\n",
       "      <td>0.0</td>\n",
       "      <td>0.0</td>\n",
       "      <td>None</td>\n",
       "      <td>True</td>\n",
       "      <td>wye</td>\n",
       "    </tr>\n",
       "    <tr>\n",
       "      <th>5</th>\n",
       "      <td>CDBT900784</td>\n",
       "      <td>5</td>\n",
       "      <td>0.009</td>\n",
       "      <td>0.0030</td>\n",
       "      <td>1.0</td>\n",
       "      <td>5</td>\n",
       "      <td>0.0</td>\n",
       "      <td>0.0</td>\n",
       "      <td>None</td>\n",
       "      <td>True</td>\n",
       "      <td>wye</td>\n",
       "    </tr>\n",
       "    <tr>\n",
       "      <th>6</th>\n",
       "      <td>CDBT901452</td>\n",
       "      <td>6</td>\n",
       "      <td>0.028</td>\n",
       "      <td>0.0105</td>\n",
       "      <td>1.0</td>\n",
       "      <td>6</td>\n",
       "      <td>0.0</td>\n",
       "      <td>0.0</td>\n",
       "      <td>None</td>\n",
       "      <td>True</td>\n",
       "      <td>wye</td>\n",
       "    </tr>\n",
       "    <tr>\n",
       "      <th>7</th>\n",
       "      <td>CDBT004774</td>\n",
       "      <td>7</td>\n",
       "      <td>0.014</td>\n",
       "      <td>0.0050</td>\n",
       "      <td>1.0</td>\n",
       "      <td>7</td>\n",
       "      <td>0.0</td>\n",
       "      <td>0.0</td>\n",
       "      <td>None</td>\n",
       "      <td>True</td>\n",
       "      <td>wye</td>\n",
       "    </tr>\n",
       "    <tr>\n",
       "      <th>8</th>\n",
       "      <td>CDBT901604</td>\n",
       "      <td>8</td>\n",
       "      <td>0.003</td>\n",
       "      <td>0.0010</td>\n",
       "      <td>1.0</td>\n",
       "      <td>8</td>\n",
       "      <td>0.0</td>\n",
       "      <td>0.0</td>\n",
       "      <td>None</td>\n",
       "      <td>True</td>\n",
       "      <td>wye</td>\n",
       "    </tr>\n",
       "    <tr>\n",
       "      <th>9</th>\n",
       "      <td>CDBT016055</td>\n",
       "      <td>9</td>\n",
       "      <td>0.011</td>\n",
       "      <td>0.0040</td>\n",
       "      <td>1.0</td>\n",
       "      <td>9</td>\n",
       "      <td>0.0</td>\n",
       "      <td>0.0</td>\n",
       "      <td>None</td>\n",
       "      <td>True</td>\n",
       "      <td>wye</td>\n",
       "    </tr>\n",
       "    <tr>\n",
       "      <th>10</th>\n",
       "      <td>N1</td>\n",
       "      <td>10</td>\n",
       "      <td>0.003</td>\n",
       "      <td>0.0010</td>\n",
       "      <td>1.0</td>\n",
       "      <td>10</td>\n",
       "      <td>0.0</td>\n",
       "      <td>0.0</td>\n",
       "      <td>None</td>\n",
       "      <td>True</td>\n",
       "      <td>wye</td>\n",
       "    </tr>\n",
       "    <tr>\n",
       "      <th>11</th>\n",
       "      <td>60437</td>\n",
       "      <td>11</td>\n",
       "      <td>0.003</td>\n",
       "      <td>0.0010</td>\n",
       "      <td>1.0</td>\n",
       "      <td>11</td>\n",
       "      <td>0.0</td>\n",
       "      <td>0.0</td>\n",
       "      <td>None</td>\n",
       "      <td>True</td>\n",
       "      <td>wye</td>\n",
       "    </tr>\n",
       "  </tbody>\n",
       "</table>\n",
       "</div>"
      ],
      "text/plain": [
       "          name  bus   p_mw  q_mvar  scaling  profile_mapping  const_z_percent  \\\n",
       "0   STMT003438    0  0.026  0.0100      1.0                0              0.0   \n",
       "1   CDBT004764    1  0.037  0.0135      1.0                1              0.0   \n",
       "2   CDBT003746    2  0.008  0.0030      1.0                2              0.0   \n",
       "3   CDBT004760    3  0.011  0.0040      1.0                3              0.0   \n",
       "4   CDBT012139    4  0.012  0.0040      1.0                4              0.0   \n",
       "5   CDBT900784    5  0.009  0.0030      1.0                5              0.0   \n",
       "6   CDBT901452    6  0.028  0.0105      1.0                6              0.0   \n",
       "7   CDBT004774    7  0.014  0.0050      1.0                7              0.0   \n",
       "8   CDBT901604    8  0.003  0.0010      1.0                8              0.0   \n",
       "9   CDBT016055    9  0.011  0.0040      1.0                9              0.0   \n",
       "10          N1   10  0.003  0.0010      1.0               10              0.0   \n",
       "11       60437   11  0.003  0.0010      1.0               11              0.0   \n",
       "\n",
       "    const_i_percent sn_mva  in_service type  \n",
       "0               0.0   None        True  wye  \n",
       "1               0.0   None        True  wye  \n",
       "2               0.0   None        True  wye  \n",
       "3               0.0   None        True  wye  \n",
       "4               0.0   None        True  wye  \n",
       "5               0.0   None        True  wye  \n",
       "6               0.0   None        True  wye  \n",
       "7               0.0   None        True  wye  \n",
       "8               0.0   None        True  wye  \n",
       "9               0.0   None        True  wye  \n",
       "10              0.0   None        True  wye  \n",
       "11              0.0   None        True  wye  "
      ]
     },
     "execution_count": 179,
     "metadata": {},
     "output_type": "execute_result"
    }
   ],
   "source": [
    "net_ExPF1_Pb1_heig.load"
   ]
  },
  {
   "cell_type": "code",
   "execution_count": 180,
   "metadata": {},
   "outputs": [
    {
     "data": {
      "application/vnd.plotly.v1+json": {
       "config": {
        "plotlyServerURL": "https://plot.ly"
       },
       "data": [
        {
         "hoverinfo": "text",
         "legendgroup": "lines",
         "line": {
          "color": "rgb(0, 0, 0)",
          "width": 3
         },
         "mode": "lines",
         "name": "Lines",
         "showlegend": true,
         "text": "GKN3x150_150",
         "type": "scatter",
         "x": [
          0,
          -1,
          -2
         ],
         "y": [
          -1,
          -1.5,
          -2
         ]
        },
        {
         "hoverinfo": "text",
         "legendgroup": "lines",
         "line": {
          "color": "rgb(0, 0, 0)",
          "width": 3
         },
         "mode": "lines",
         "name": "Lines",
         "showlegend": false,
         "text": "GKN3x150_150_2",
         "type": "scatter",
         "x": [
          -2,
          -2.25,
          -2.5
         ],
         "y": [
          -2,
          -2.5,
          -3
         ]
        },
        {
         "hoverinfo": "text",
         "legendgroup": "lines",
         "line": {
          "color": "rgb(0, 0, 0)",
          "width": 3
         },
         "mode": "lines",
         "name": "Lines",
         "showlegend": false,
         "text": "GKN3X95_95",
         "type": "scatter",
         "x": [
          -2,
          -1.75,
          -1.5
         ],
         "y": [
          -2,
          -2.5,
          -3
         ]
        },
        {
         "hoverinfo": "text",
         "legendgroup": "lines",
         "line": {
          "color": "rgb(0, 0, 0)",
          "width": 3
         },
         "mode": "lines",
         "name": "Lines",
         "showlegend": false,
         "text": "GKT3X50_50",
         "type": "scatter",
         "x": [
          -1.5,
          -1.5,
          -1.5
         ],
         "y": [
          -3,
          -3.5,
          -4
         ]
        },
        {
         "hoverinfo": "text",
         "legendgroup": "lines",
         "line": {
          "color": "rgb(0, 0, 0)",
          "width": 3
         },
         "mode": "lines",
         "name": "Lines",
         "showlegend": false,
         "text": "GKT3X50_50_2",
         "type": "scatter",
         "x": [
          -1.5,
          -1.5,
          -1.5
         ],
         "y": [
          -4,
          -4.5,
          -5
         ]
        },
        {
         "hoverinfo": "text",
         "legendgroup": "lines",
         "line": {
          "color": "rgb(0, 0, 0)",
          "width": 3
         },
         "mode": "lines",
         "name": "Lines",
         "showlegend": false,
         "text": "GKN3x150_150_3",
         "type": "scatter",
         "x": [
          0,
          0.25,
          0.5
         ],
         "y": [
          -1,
          -1.5,
          -2
         ]
        },
        {
         "hoverinfo": "text",
         "legendgroup": "lines",
         "line": {
          "color": "rgb(0, 0, 0)",
          "width": 3
         },
         "mode": "lines",
         "name": "Lines",
         "showlegend": false,
         "text": "GKN3X95_95_2",
         "type": "scatter",
         "x": [
          0.5,
          0.25,
          0
         ],
         "y": [
          -2,
          -2.5,
          -3
         ]
        },
        {
         "hoverinfo": "text",
         "legendgroup": "lines",
         "line": {
          "color": "rgb(0, 0, 0)",
          "width": 3
         },
         "mode": "lines",
         "name": "Lines",
         "showlegend": false,
         "text": "GKN3x150_150_4",
         "type": "scatter",
         "x": [
          0,
          -0.25,
          -0.5
         ],
         "y": [
          -3,
          -3.5,
          -4
         ]
        },
        {
         "hoverinfo": "text",
         "legendgroup": "lines",
         "line": {
          "color": "rgb(0, 0, 0)",
          "width": 3
         },
         "mode": "lines",
         "name": "Lines",
         "showlegend": false,
         "text": "GKN3X50_50",
         "type": "scatter",
         "x": [
          0,
          0.25,
          0.5
         ],
         "y": [
          -3,
          -3.5,
          -4
         ]
        },
        {
         "hoverinfo": "text",
         "legendgroup": "lines",
         "line": {
          "color": "rgb(0, 0, 0)",
          "width": 3
         },
         "mode": "lines",
         "name": "Lines",
         "showlegend": false,
         "text": "GKN3X50_50_2",
         "type": "scatter",
         "x": [
          0.5,
          0.75,
          1
         ],
         "y": [
          -2,
          -2.5,
          -3
         ]
        },
        {
         "hoverinfo": "text",
         "legendgroup": "lines",
         "line": {
          "color": "rgb(0, 0, 0)",
          "width": 3
         },
         "mode": "lines",
         "name": "Lines",
         "showlegend": false,
         "text": "GKN3X240_240",
         "type": "scatter",
         "x": [
          0,
          0.75,
          1.5
         ],
         "y": [
          -1,
          -1.5,
          -2
         ]
        },
        {
         "hoverinfo": "text",
         "legendgroup": "lines",
         "marker": {
          "color": "rgb(0, 0, 0)",
          "size": 1,
          "symbol": "circle"
         },
         "mode": "markers",
         "name": "edge_center",
         "showlegend": false,
         "type": "scatter",
         "x": [
          -1
         ],
         "y": [
          -1.5
         ]
        },
        {
         "hoverinfo": "text",
         "legendgroup": "Transformers",
         "line": {
          "color": "rgb(0, 128, 0)",
          "width": 7
         },
         "mode": "lines",
         "name": "Transformers",
         "showlegend": true,
         "text": "STMT003438<br>0.63 MVA",
         "type": "scatter",
         "x": [
          0,
          0,
          0
         ],
         "y": [
          0,
          -0.5,
          -1
         ]
        },
        {
         "hoverinfo": "text",
         "legendgroup": "Transformers",
         "marker": {
          "color": "rgb(0, 128, 0)",
          "size": 1,
          "symbol": "circle"
         },
         "mode": "markers",
         "name": "edge_center",
         "showlegend": false,
         "text": [
          "STMT003438<br>0.63 MVA"
         ],
         "type": "scatter",
         "x": [
          0
         ],
         "y": [
          -0.5
         ]
        },
        {
         "hoverinfo": "text",
         "marker": {
          "color": "rgb(191, 191, 0)",
          "size": 30,
          "symbol": "square"
         },
         "mode": "markers",
         "name": "Ext grid",
         "text": [
          null
         ],
         "type": "scatter",
         "x": [
          0
         ],
         "y": [
          0
         ]
        },
        {
         "hoverinfo": "text",
         "marker": {
          "color": "rgb(0, 0, 255)",
          "size": 20,
          "symbol": "circle"
         },
         "mode": "markers",
         "name": "Zone Trafo",
         "text": [
          "STMT003438<br>0.42 kV",
          "STMT003438HV<br>18.3 kV"
         ],
         "type": "scatter",
         "x": [
          0,
          0
         ],
         "y": [
          -1,
          0
         ]
        },
        {
         "hoverinfo": "text",
         "marker": {
          "color": "rgb(0, 128, 0)",
          "size": 20,
          "symbol": "circle"
         },
         "mode": "markers",
         "name": "Zone North",
         "text": [
          "CDBT004764<br>0.42 kV",
          "CDBT003746<br>0.42 kV",
          "CDBT004760<br>0.42 kV",
          "CDBT012139<br>0.42 kV",
          "CDBT900784<br>0.42 kV"
         ],
         "type": "scatter",
         "x": [
          -2,
          -2.5,
          -1.5,
          -1.5,
          -1.5
         ],
         "y": [
          -2,
          -3,
          -3,
          -4,
          -5
         ]
        },
        {
         "hoverinfo": "text",
         "marker": {
          "color": "rgb(255, 0, 0)",
          "size": 20,
          "symbol": "circle"
         },
         "mode": "markers",
         "name": "Zone South",
         "text": [
          "CDBT901452<br>0.42 kV",
          "CDBT004774<br>0.42 kV",
          "CDBT901604<br>0.42 kV",
          "CDBT016055<br>0.42 kV",
          "N1<br>0.42 kV",
          "60437<br>0.42 kV"
         ],
         "type": "scatter",
         "x": [
          0.5,
          0,
          -0.5,
          0.5,
          1,
          1.5
         ],
         "y": [
          -2,
          -3,
          -4,
          -4,
          -3,
          -2
         ]
        }
       ],
       "layout": {
        "font": {
         "size": 15
        },
        "height": 400,
        "hovermode": "closest",
        "legend": {
         "font": {
          "size": 12
         },
         "itemsizing": "constant"
        },
        "margin": {
         "b": 5,
         "l": 5,
         "r": 5,
         "t": 30
        },
        "paper_bgcolor": "white",
        "plot_bgcolor": "white",
        "showlegend": true,
        "template": {
         "data": {
          "bar": [
           {
            "error_x": {
             "color": "#2a3f5f"
            },
            "error_y": {
             "color": "#2a3f5f"
            },
            "marker": {
             "line": {
              "color": "#E5ECF6",
              "width": 0.5
             },
             "pattern": {
              "fillmode": "overlay",
              "size": 10,
              "solidity": 0.2
             }
            },
            "type": "bar"
           }
          ],
          "barpolar": [
           {
            "marker": {
             "line": {
              "color": "#E5ECF6",
              "width": 0.5
             },
             "pattern": {
              "fillmode": "overlay",
              "size": 10,
              "solidity": 0.2
             }
            },
            "type": "barpolar"
           }
          ],
          "carpet": [
           {
            "aaxis": {
             "endlinecolor": "#2a3f5f",
             "gridcolor": "white",
             "linecolor": "white",
             "minorgridcolor": "white",
             "startlinecolor": "#2a3f5f"
            },
            "baxis": {
             "endlinecolor": "#2a3f5f",
             "gridcolor": "white",
             "linecolor": "white",
             "minorgridcolor": "white",
             "startlinecolor": "#2a3f5f"
            },
            "type": "carpet"
           }
          ],
          "choropleth": [
           {
            "colorbar": {
             "outlinewidth": 0,
             "ticks": ""
            },
            "type": "choropleth"
           }
          ],
          "contour": [
           {
            "colorbar": {
             "outlinewidth": 0,
             "ticks": ""
            },
            "colorscale": [
             [
              0,
              "#0d0887"
             ],
             [
              0.1111111111111111,
              "#46039f"
             ],
             [
              0.2222222222222222,
              "#7201a8"
             ],
             [
              0.3333333333333333,
              "#9c179e"
             ],
             [
              0.4444444444444444,
              "#bd3786"
             ],
             [
              0.5555555555555556,
              "#d8576b"
             ],
             [
              0.6666666666666666,
              "#ed7953"
             ],
             [
              0.7777777777777778,
              "#fb9f3a"
             ],
             [
              0.8888888888888888,
              "#fdca26"
             ],
             [
              1,
              "#f0f921"
             ]
            ],
            "type": "contour"
           }
          ],
          "contourcarpet": [
           {
            "colorbar": {
             "outlinewidth": 0,
             "ticks": ""
            },
            "type": "contourcarpet"
           }
          ],
          "heatmap": [
           {
            "colorbar": {
             "outlinewidth": 0,
             "ticks": ""
            },
            "colorscale": [
             [
              0,
              "#0d0887"
             ],
             [
              0.1111111111111111,
              "#46039f"
             ],
             [
              0.2222222222222222,
              "#7201a8"
             ],
             [
              0.3333333333333333,
              "#9c179e"
             ],
             [
              0.4444444444444444,
              "#bd3786"
             ],
             [
              0.5555555555555556,
              "#d8576b"
             ],
             [
              0.6666666666666666,
              "#ed7953"
             ],
             [
              0.7777777777777778,
              "#fb9f3a"
             ],
             [
              0.8888888888888888,
              "#fdca26"
             ],
             [
              1,
              "#f0f921"
             ]
            ],
            "type": "heatmap"
           }
          ],
          "heatmapgl": [
           {
            "colorbar": {
             "outlinewidth": 0,
             "ticks": ""
            },
            "colorscale": [
             [
              0,
              "#0d0887"
             ],
             [
              0.1111111111111111,
              "#46039f"
             ],
             [
              0.2222222222222222,
              "#7201a8"
             ],
             [
              0.3333333333333333,
              "#9c179e"
             ],
             [
              0.4444444444444444,
              "#bd3786"
             ],
             [
              0.5555555555555556,
              "#d8576b"
             ],
             [
              0.6666666666666666,
              "#ed7953"
             ],
             [
              0.7777777777777778,
              "#fb9f3a"
             ],
             [
              0.8888888888888888,
              "#fdca26"
             ],
             [
              1,
              "#f0f921"
             ]
            ],
            "type": "heatmapgl"
           }
          ],
          "histogram": [
           {
            "marker": {
             "pattern": {
              "fillmode": "overlay",
              "size": 10,
              "solidity": 0.2
             }
            },
            "type": "histogram"
           }
          ],
          "histogram2d": [
           {
            "colorbar": {
             "outlinewidth": 0,
             "ticks": ""
            },
            "colorscale": [
             [
              0,
              "#0d0887"
             ],
             [
              0.1111111111111111,
              "#46039f"
             ],
             [
              0.2222222222222222,
              "#7201a8"
             ],
             [
              0.3333333333333333,
              "#9c179e"
             ],
             [
              0.4444444444444444,
              "#bd3786"
             ],
             [
              0.5555555555555556,
              "#d8576b"
             ],
             [
              0.6666666666666666,
              "#ed7953"
             ],
             [
              0.7777777777777778,
              "#fb9f3a"
             ],
             [
              0.8888888888888888,
              "#fdca26"
             ],
             [
              1,
              "#f0f921"
             ]
            ],
            "type": "histogram2d"
           }
          ],
          "histogram2dcontour": [
           {
            "colorbar": {
             "outlinewidth": 0,
             "ticks": ""
            },
            "colorscale": [
             [
              0,
              "#0d0887"
             ],
             [
              0.1111111111111111,
              "#46039f"
             ],
             [
              0.2222222222222222,
              "#7201a8"
             ],
             [
              0.3333333333333333,
              "#9c179e"
             ],
             [
              0.4444444444444444,
              "#bd3786"
             ],
             [
              0.5555555555555556,
              "#d8576b"
             ],
             [
              0.6666666666666666,
              "#ed7953"
             ],
             [
              0.7777777777777778,
              "#fb9f3a"
             ],
             [
              0.8888888888888888,
              "#fdca26"
             ],
             [
              1,
              "#f0f921"
             ]
            ],
            "type": "histogram2dcontour"
           }
          ],
          "mesh3d": [
           {
            "colorbar": {
             "outlinewidth": 0,
             "ticks": ""
            },
            "type": "mesh3d"
           }
          ],
          "parcoords": [
           {
            "line": {
             "colorbar": {
              "outlinewidth": 0,
              "ticks": ""
             }
            },
            "type": "parcoords"
           }
          ],
          "pie": [
           {
            "automargin": true,
            "type": "pie"
           }
          ],
          "scatter": [
           {
            "fillpattern": {
             "fillmode": "overlay",
             "size": 10,
             "solidity": 0.2
            },
            "type": "scatter"
           }
          ],
          "scatter3d": [
           {
            "line": {
             "colorbar": {
              "outlinewidth": 0,
              "ticks": ""
             }
            },
            "marker": {
             "colorbar": {
              "outlinewidth": 0,
              "ticks": ""
             }
            },
            "type": "scatter3d"
           }
          ],
          "scattercarpet": [
           {
            "marker": {
             "colorbar": {
              "outlinewidth": 0,
              "ticks": ""
             }
            },
            "type": "scattercarpet"
           }
          ],
          "scattergeo": [
           {
            "marker": {
             "colorbar": {
              "outlinewidth": 0,
              "ticks": ""
             }
            },
            "type": "scattergeo"
           }
          ],
          "scattergl": [
           {
            "marker": {
             "colorbar": {
              "outlinewidth": 0,
              "ticks": ""
             }
            },
            "type": "scattergl"
           }
          ],
          "scattermapbox": [
           {
            "marker": {
             "colorbar": {
              "outlinewidth": 0,
              "ticks": ""
             }
            },
            "type": "scattermapbox"
           }
          ],
          "scatterpolar": [
           {
            "marker": {
             "colorbar": {
              "outlinewidth": 0,
              "ticks": ""
             }
            },
            "type": "scatterpolar"
           }
          ],
          "scatterpolargl": [
           {
            "marker": {
             "colorbar": {
              "outlinewidth": 0,
              "ticks": ""
             }
            },
            "type": "scatterpolargl"
           }
          ],
          "scatterternary": [
           {
            "marker": {
             "colorbar": {
              "outlinewidth": 0,
              "ticks": ""
             }
            },
            "type": "scatterternary"
           }
          ],
          "surface": [
           {
            "colorbar": {
             "outlinewidth": 0,
             "ticks": ""
            },
            "colorscale": [
             [
              0,
              "#0d0887"
             ],
             [
              0.1111111111111111,
              "#46039f"
             ],
             [
              0.2222222222222222,
              "#7201a8"
             ],
             [
              0.3333333333333333,
              "#9c179e"
             ],
             [
              0.4444444444444444,
              "#bd3786"
             ],
             [
              0.5555555555555556,
              "#d8576b"
             ],
             [
              0.6666666666666666,
              "#ed7953"
             ],
             [
              0.7777777777777778,
              "#fb9f3a"
             ],
             [
              0.8888888888888888,
              "#fdca26"
             ],
             [
              1,
              "#f0f921"
             ]
            ],
            "type": "surface"
           }
          ],
          "table": [
           {
            "cells": {
             "fill": {
              "color": "#EBF0F8"
             },
             "line": {
              "color": "white"
             }
            },
            "header": {
             "fill": {
              "color": "#C8D4E3"
             },
             "line": {
              "color": "white"
             }
            },
            "type": "table"
           }
          ]
         },
         "layout": {
          "annotationdefaults": {
           "arrowcolor": "#2a3f5f",
           "arrowhead": 0,
           "arrowwidth": 1
          },
          "autotypenumbers": "strict",
          "coloraxis": {
           "colorbar": {
            "outlinewidth": 0,
            "ticks": ""
           }
          },
          "colorscale": {
           "diverging": [
            [
             0,
             "#8e0152"
            ],
            [
             0.1,
             "#c51b7d"
            ],
            [
             0.2,
             "#de77ae"
            ],
            [
             0.3,
             "#f1b6da"
            ],
            [
             0.4,
             "#fde0ef"
            ],
            [
             0.5,
             "#f7f7f7"
            ],
            [
             0.6,
             "#e6f5d0"
            ],
            [
             0.7,
             "#b8e186"
            ],
            [
             0.8,
             "#7fbc41"
            ],
            [
             0.9,
             "#4d9221"
            ],
            [
             1,
             "#276419"
            ]
           ],
           "sequential": [
            [
             0,
             "#0d0887"
            ],
            [
             0.1111111111111111,
             "#46039f"
            ],
            [
             0.2222222222222222,
             "#7201a8"
            ],
            [
             0.3333333333333333,
             "#9c179e"
            ],
            [
             0.4444444444444444,
             "#bd3786"
            ],
            [
             0.5555555555555556,
             "#d8576b"
            ],
            [
             0.6666666666666666,
             "#ed7953"
            ],
            [
             0.7777777777777778,
             "#fb9f3a"
            ],
            [
             0.8888888888888888,
             "#fdca26"
            ],
            [
             1,
             "#f0f921"
            ]
           ],
           "sequentialminus": [
            [
             0,
             "#0d0887"
            ],
            [
             0.1111111111111111,
             "#46039f"
            ],
            [
             0.2222222222222222,
             "#7201a8"
            ],
            [
             0.3333333333333333,
             "#9c179e"
            ],
            [
             0.4444444444444444,
             "#bd3786"
            ],
            [
             0.5555555555555556,
             "#d8576b"
            ],
            [
             0.6666666666666666,
             "#ed7953"
            ],
            [
             0.7777777777777778,
             "#fb9f3a"
            ],
            [
             0.8888888888888888,
             "#fdca26"
            ],
            [
             1,
             "#f0f921"
            ]
           ]
          },
          "colorway": [
           "#636efa",
           "#EF553B",
           "#00cc96",
           "#ab63fa",
           "#FFA15A",
           "#19d3f3",
           "#FF6692",
           "#B6E880",
           "#FF97FF",
           "#FECB52"
          ],
          "font": {
           "color": "#2a3f5f"
          },
          "geo": {
           "bgcolor": "white",
           "lakecolor": "white",
           "landcolor": "#E5ECF6",
           "showlakes": true,
           "showland": true,
           "subunitcolor": "white"
          },
          "hoverlabel": {
           "align": "left"
          },
          "hovermode": "closest",
          "mapbox": {
           "style": "light"
          },
          "paper_bgcolor": "white",
          "plot_bgcolor": "#E5ECF6",
          "polar": {
           "angularaxis": {
            "gridcolor": "white",
            "linecolor": "white",
            "ticks": ""
           },
           "bgcolor": "#E5ECF6",
           "radialaxis": {
            "gridcolor": "white",
            "linecolor": "white",
            "ticks": ""
           }
          },
          "scene": {
           "xaxis": {
            "backgroundcolor": "#E5ECF6",
            "gridcolor": "white",
            "gridwidth": 2,
            "linecolor": "white",
            "showbackground": true,
            "ticks": "",
            "zerolinecolor": "white"
           },
           "yaxis": {
            "backgroundcolor": "#E5ECF6",
            "gridcolor": "white",
            "gridwidth": 2,
            "linecolor": "white",
            "showbackground": true,
            "ticks": "",
            "zerolinecolor": "white"
           },
           "zaxis": {
            "backgroundcolor": "#E5ECF6",
            "gridcolor": "white",
            "gridwidth": 2,
            "linecolor": "white",
            "showbackground": true,
            "ticks": "",
            "zerolinecolor": "white"
           }
          },
          "shapedefaults": {
           "line": {
            "color": "#2a3f5f"
           }
          },
          "ternary": {
           "aaxis": {
            "gridcolor": "white",
            "linecolor": "white",
            "ticks": ""
           },
           "baxis": {
            "gridcolor": "white",
            "linecolor": "white",
            "ticks": ""
           },
           "bgcolor": "#E5ECF6",
           "caxis": {
            "gridcolor": "white",
            "linecolor": "white",
            "ticks": ""
           }
          },
          "title": {
           "x": 0.05
          },
          "xaxis": {
           "automargin": true,
           "gridcolor": "white",
           "linecolor": "white",
           "ticks": "",
           "title": {
            "standoff": 15
           },
           "zerolinecolor": "white",
           "zerolinewidth": 2
          },
          "yaxis": {
           "automargin": true,
           "gridcolor": "white",
           "linecolor": "white",
           "ticks": "",
           "title": {
            "standoff": 15
           },
           "zerolinecolor": "white",
           "zerolinewidth": 2
          }
         }
        },
        "title": {
         "text": "<b>Exercice Power flow 1 : Problème 1<b>",
         "x": 0.5,
         "xanchor": "center",
         "y": 0.97,
         "yanchor": "top"
        },
        "width": 680,
        "xaxis": {
         "showgrid": false,
         "showticklabels": false,
         "tickfont": {
          "family": "Arial Black",
          "size": 12
         },
         "title": {
          "font": {
           "size": 12
          }
         },
         "zeroline": false
        },
        "yaxis": {
         "showgrid": false,
         "showticklabels": false,
         "tickfont": {
          "family": "Arial Black",
          "size": 12
         },
         "title": {
          "font": {
           "size": 12
          }
         },
         "zeroline": false
        }
       }
      },
      "text/html": [
       "<div>                            <div id=\"98c1f690-5bb3-4864-ba48-05fa4cc00ace\" class=\"plotly-graph-div\" style=\"height:400px; width:680px;\"></div>            <script type=\"text/javascript\">                require([\"plotly\"], function(Plotly) {                    window.PLOTLYENV=window.PLOTLYENV || {};                                    if (document.getElementById(\"98c1f690-5bb3-4864-ba48-05fa4cc00ace\")) {                    Plotly.newPlot(                        \"98c1f690-5bb3-4864-ba48-05fa4cc00ace\",                        [{\"hoverinfo\":\"text\",\"legendgroup\":\"lines\",\"line\":{\"color\":\"rgb(0, 0, 0)\",\"width\":3},\"mode\":\"lines\",\"name\":\"Lines\",\"showlegend\":true,\"text\":\"GKN3x150_150\",\"x\":[0.0,-1.0,-2.0],\"y\":[-1.0,-1.5,-2.0],\"type\":\"scatter\"},{\"hoverinfo\":\"text\",\"legendgroup\":\"lines\",\"line\":{\"color\":\"rgb(0, 0, 0)\",\"width\":3},\"mode\":\"lines\",\"name\":\"Lines\",\"showlegend\":false,\"text\":\"GKN3x150_150_2\",\"x\":[-2.0,-2.25,-2.5],\"y\":[-2.0,-2.5,-3.0],\"type\":\"scatter\"},{\"hoverinfo\":\"text\",\"legendgroup\":\"lines\",\"line\":{\"color\":\"rgb(0, 0, 0)\",\"width\":3},\"mode\":\"lines\",\"name\":\"Lines\",\"showlegend\":false,\"text\":\"GKN3X95_95\",\"x\":[-2.0,-1.75,-1.5],\"y\":[-2.0,-2.5,-3.0],\"type\":\"scatter\"},{\"hoverinfo\":\"text\",\"legendgroup\":\"lines\",\"line\":{\"color\":\"rgb(0, 0, 0)\",\"width\":3},\"mode\":\"lines\",\"name\":\"Lines\",\"showlegend\":false,\"text\":\"GKT3X50_50\",\"x\":[-1.5,-1.5,-1.5],\"y\":[-3.0,-3.5,-4.0],\"type\":\"scatter\"},{\"hoverinfo\":\"text\",\"legendgroup\":\"lines\",\"line\":{\"color\":\"rgb(0, 0, 0)\",\"width\":3},\"mode\":\"lines\",\"name\":\"Lines\",\"showlegend\":false,\"text\":\"GKT3X50_50_2\",\"x\":[-1.5,-1.5,-1.5],\"y\":[-4.0,-4.5,-5.0],\"type\":\"scatter\"},{\"hoverinfo\":\"text\",\"legendgroup\":\"lines\",\"line\":{\"color\":\"rgb(0, 0, 0)\",\"width\":3},\"mode\":\"lines\",\"name\":\"Lines\",\"showlegend\":false,\"text\":\"GKN3x150_150_3\",\"x\":[0.0,0.25,0.5],\"y\":[-1.0,-1.5,-2.0],\"type\":\"scatter\"},{\"hoverinfo\":\"text\",\"legendgroup\":\"lines\",\"line\":{\"color\":\"rgb(0, 0, 0)\",\"width\":3},\"mode\":\"lines\",\"name\":\"Lines\",\"showlegend\":false,\"text\":\"GKN3X95_95_2\",\"x\":[0.5,0.25,0.0],\"y\":[-2.0,-2.5,-3.0],\"type\":\"scatter\"},{\"hoverinfo\":\"text\",\"legendgroup\":\"lines\",\"line\":{\"color\":\"rgb(0, 0, 0)\",\"width\":3},\"mode\":\"lines\",\"name\":\"Lines\",\"showlegend\":false,\"text\":\"GKN3x150_150_4\",\"x\":[0.0,-0.25,-0.5],\"y\":[-3.0,-3.5,-4.0],\"type\":\"scatter\"},{\"hoverinfo\":\"text\",\"legendgroup\":\"lines\",\"line\":{\"color\":\"rgb(0, 0, 0)\",\"width\":3},\"mode\":\"lines\",\"name\":\"Lines\",\"showlegend\":false,\"text\":\"GKN3X50_50\",\"x\":[0.0,0.25,0.5],\"y\":[-3.0,-3.5,-4.0],\"type\":\"scatter\"},{\"hoverinfo\":\"text\",\"legendgroup\":\"lines\",\"line\":{\"color\":\"rgb(0, 0, 0)\",\"width\":3},\"mode\":\"lines\",\"name\":\"Lines\",\"showlegend\":false,\"text\":\"GKN3X50_50_2\",\"x\":[0.5,0.75,1.0],\"y\":[-2.0,-2.5,-3.0],\"type\":\"scatter\"},{\"hoverinfo\":\"text\",\"legendgroup\":\"lines\",\"line\":{\"color\":\"rgb(0, 0, 0)\",\"width\":3},\"mode\":\"lines\",\"name\":\"Lines\",\"showlegend\":false,\"text\":\"GKN3X240_240\",\"x\":[0.0,0.75,1.5],\"y\":[-1.0,-1.5,-2.0],\"type\":\"scatter\"},{\"hoverinfo\":\"text\",\"legendgroup\":\"lines\",\"marker\":{\"color\":\"rgb(0, 0, 0)\",\"size\":1,\"symbol\":\"circle\"},\"mode\":\"markers\",\"name\":\"edge_center\",\"showlegend\":false,\"x\":[-1.0],\"y\":[-1.5],\"type\":\"scatter\"},{\"hoverinfo\":\"text\",\"legendgroup\":\"Transformers\",\"line\":{\"color\":\"rgb(0, 128, 0)\",\"width\":7},\"mode\":\"lines\",\"name\":\"Transformers\",\"showlegend\":true,\"text\":\"STMT003438\\u003cbr\\u003e0.63 MVA\",\"x\":[0.0,0.0,0.0],\"y\":[-0.0,-0.5,-1.0],\"type\":\"scatter\"},{\"hoverinfo\":\"text\",\"legendgroup\":\"Transformers\",\"marker\":{\"color\":\"rgb(0, 128, 0)\",\"size\":1,\"symbol\":\"circle\"},\"mode\":\"markers\",\"name\":\"edge_center\",\"showlegend\":false,\"text\":[\"STMT003438\\u003cbr\\u003e0.63 MVA\"],\"x\":[0.0],\"y\":[-0.5],\"type\":\"scatter\"},{\"hoverinfo\":\"text\",\"marker\":{\"color\":\"rgb(191, 191, 0)\",\"size\":30,\"symbol\":\"square\"},\"mode\":\"markers\",\"name\":\"Ext grid\",\"text\":[null],\"x\":[0.0],\"y\":[-0.0],\"type\":\"scatter\"},{\"hoverinfo\":\"text\",\"marker\":{\"color\":\"rgb(0, 0, 255)\",\"size\":20,\"symbol\":\"circle\"},\"mode\":\"markers\",\"name\":\"Zone Trafo\",\"text\":[\"STMT003438\\u003cbr\\u003e0.42 kV\",\"STMT003438HV\\u003cbr\\u003e18.3 kV\"],\"x\":[0.0,0.0],\"y\":[-1.0,-0.0],\"type\":\"scatter\"},{\"hoverinfo\":\"text\",\"marker\":{\"color\":\"rgb(0, 128, 0)\",\"size\":20,\"symbol\":\"circle\"},\"mode\":\"markers\",\"name\":\"Zone North\",\"text\":[\"CDBT004764\\u003cbr\\u003e0.42 kV\",\"CDBT003746\\u003cbr\\u003e0.42 kV\",\"CDBT004760\\u003cbr\\u003e0.42 kV\",\"CDBT012139\\u003cbr\\u003e0.42 kV\",\"CDBT900784\\u003cbr\\u003e0.42 kV\"],\"x\":[-2.0,-2.5,-1.5,-1.5,-1.5],\"y\":[-2.0,-3.0,-3.0,-4.0,-5.0],\"type\":\"scatter\"},{\"hoverinfo\":\"text\",\"marker\":{\"color\":\"rgb(255, 0, 0)\",\"size\":20,\"symbol\":\"circle\"},\"mode\":\"markers\",\"name\":\"Zone South\",\"text\":[\"CDBT901452\\u003cbr\\u003e0.42 kV\",\"CDBT004774\\u003cbr\\u003e0.42 kV\",\"CDBT901604\\u003cbr\\u003e0.42 kV\",\"CDBT016055\\u003cbr\\u003e0.42 kV\",\"N1\\u003cbr\\u003e0.42 kV\",\"60437\\u003cbr\\u003e0.42 kV\"],\"x\":[0.5,0.0,-0.5,0.5,1.0,1.5],\"y\":[-2.0,-3.0,-4.0,-4.0,-3.0,-2.0],\"type\":\"scatter\"}],                        {\"hovermode\":\"closest\",\"legend\":{\"itemsizing\":\"constant\",\"font\":{\"size\":12}},\"margin\":{\"b\":5,\"l\":5,\"r\":5,\"t\":30},\"showlegend\":true,\"xaxis\":{\"showgrid\":false,\"showticklabels\":false,\"zeroline\":false,\"tickfont\":{\"size\":12,\"family\":\"Arial Black\"},\"title\":{\"font\":{\"size\":12}}},\"yaxis\":{\"showgrid\":false,\"showticklabels\":false,\"zeroline\":false,\"tickfont\":{\"size\":12,\"family\":\"Arial Black\"},\"title\":{\"font\":{\"size\":12}}},\"template\":{\"data\":{\"histogram2dcontour\":[{\"type\":\"histogram2dcontour\",\"colorbar\":{\"outlinewidth\":0,\"ticks\":\"\"},\"colorscale\":[[0.0,\"#0d0887\"],[0.1111111111111111,\"#46039f\"],[0.2222222222222222,\"#7201a8\"],[0.3333333333333333,\"#9c179e\"],[0.4444444444444444,\"#bd3786\"],[0.5555555555555556,\"#d8576b\"],[0.6666666666666666,\"#ed7953\"],[0.7777777777777778,\"#fb9f3a\"],[0.8888888888888888,\"#fdca26\"],[1.0,\"#f0f921\"]]}],\"choropleth\":[{\"type\":\"choropleth\",\"colorbar\":{\"outlinewidth\":0,\"ticks\":\"\"}}],\"histogram2d\":[{\"type\":\"histogram2d\",\"colorbar\":{\"outlinewidth\":0,\"ticks\":\"\"},\"colorscale\":[[0.0,\"#0d0887\"],[0.1111111111111111,\"#46039f\"],[0.2222222222222222,\"#7201a8\"],[0.3333333333333333,\"#9c179e\"],[0.4444444444444444,\"#bd3786\"],[0.5555555555555556,\"#d8576b\"],[0.6666666666666666,\"#ed7953\"],[0.7777777777777778,\"#fb9f3a\"],[0.8888888888888888,\"#fdca26\"],[1.0,\"#f0f921\"]]}],\"heatmap\":[{\"type\":\"heatmap\",\"colorbar\":{\"outlinewidth\":0,\"ticks\":\"\"},\"colorscale\":[[0.0,\"#0d0887\"],[0.1111111111111111,\"#46039f\"],[0.2222222222222222,\"#7201a8\"],[0.3333333333333333,\"#9c179e\"],[0.4444444444444444,\"#bd3786\"],[0.5555555555555556,\"#d8576b\"],[0.6666666666666666,\"#ed7953\"],[0.7777777777777778,\"#fb9f3a\"],[0.8888888888888888,\"#fdca26\"],[1.0,\"#f0f921\"]]}],\"heatmapgl\":[{\"type\":\"heatmapgl\",\"colorbar\":{\"outlinewidth\":0,\"ticks\":\"\"},\"colorscale\":[[0.0,\"#0d0887\"],[0.1111111111111111,\"#46039f\"],[0.2222222222222222,\"#7201a8\"],[0.3333333333333333,\"#9c179e\"],[0.4444444444444444,\"#bd3786\"],[0.5555555555555556,\"#d8576b\"],[0.6666666666666666,\"#ed7953\"],[0.7777777777777778,\"#fb9f3a\"],[0.8888888888888888,\"#fdca26\"],[1.0,\"#f0f921\"]]}],\"contourcarpet\":[{\"type\":\"contourcarpet\",\"colorbar\":{\"outlinewidth\":0,\"ticks\":\"\"}}],\"contour\":[{\"type\":\"contour\",\"colorbar\":{\"outlinewidth\":0,\"ticks\":\"\"},\"colorscale\":[[0.0,\"#0d0887\"],[0.1111111111111111,\"#46039f\"],[0.2222222222222222,\"#7201a8\"],[0.3333333333333333,\"#9c179e\"],[0.4444444444444444,\"#bd3786\"],[0.5555555555555556,\"#d8576b\"],[0.6666666666666666,\"#ed7953\"],[0.7777777777777778,\"#fb9f3a\"],[0.8888888888888888,\"#fdca26\"],[1.0,\"#f0f921\"]]}],\"surface\":[{\"type\":\"surface\",\"colorbar\":{\"outlinewidth\":0,\"ticks\":\"\"},\"colorscale\":[[0.0,\"#0d0887\"],[0.1111111111111111,\"#46039f\"],[0.2222222222222222,\"#7201a8\"],[0.3333333333333333,\"#9c179e\"],[0.4444444444444444,\"#bd3786\"],[0.5555555555555556,\"#d8576b\"],[0.6666666666666666,\"#ed7953\"],[0.7777777777777778,\"#fb9f3a\"],[0.8888888888888888,\"#fdca26\"],[1.0,\"#f0f921\"]]}],\"mesh3d\":[{\"type\":\"mesh3d\",\"colorbar\":{\"outlinewidth\":0,\"ticks\":\"\"}}],\"scatter\":[{\"fillpattern\":{\"fillmode\":\"overlay\",\"size\":10,\"solidity\":0.2},\"type\":\"scatter\"}],\"parcoords\":[{\"type\":\"parcoords\",\"line\":{\"colorbar\":{\"outlinewidth\":0,\"ticks\":\"\"}}}],\"scatterpolargl\":[{\"type\":\"scatterpolargl\",\"marker\":{\"colorbar\":{\"outlinewidth\":0,\"ticks\":\"\"}}}],\"bar\":[{\"error_x\":{\"color\":\"#2a3f5f\"},\"error_y\":{\"color\":\"#2a3f5f\"},\"marker\":{\"line\":{\"color\":\"#E5ECF6\",\"width\":0.5},\"pattern\":{\"fillmode\":\"overlay\",\"size\":10,\"solidity\":0.2}},\"type\":\"bar\"}],\"scattergeo\":[{\"type\":\"scattergeo\",\"marker\":{\"colorbar\":{\"outlinewidth\":0,\"ticks\":\"\"}}}],\"scatterpolar\":[{\"type\":\"scatterpolar\",\"marker\":{\"colorbar\":{\"outlinewidth\":0,\"ticks\":\"\"}}}],\"histogram\":[{\"marker\":{\"pattern\":{\"fillmode\":\"overlay\",\"size\":10,\"solidity\":0.2}},\"type\":\"histogram\"}],\"scattergl\":[{\"type\":\"scattergl\",\"marker\":{\"colorbar\":{\"outlinewidth\":0,\"ticks\":\"\"}}}],\"scatter3d\":[{\"type\":\"scatter3d\",\"line\":{\"colorbar\":{\"outlinewidth\":0,\"ticks\":\"\"}},\"marker\":{\"colorbar\":{\"outlinewidth\":0,\"ticks\":\"\"}}}],\"scattermapbox\":[{\"type\":\"scattermapbox\",\"marker\":{\"colorbar\":{\"outlinewidth\":0,\"ticks\":\"\"}}}],\"scatterternary\":[{\"type\":\"scatterternary\",\"marker\":{\"colorbar\":{\"outlinewidth\":0,\"ticks\":\"\"}}}],\"scattercarpet\":[{\"type\":\"scattercarpet\",\"marker\":{\"colorbar\":{\"outlinewidth\":0,\"ticks\":\"\"}}}],\"carpet\":[{\"aaxis\":{\"endlinecolor\":\"#2a3f5f\",\"gridcolor\":\"white\",\"linecolor\":\"white\",\"minorgridcolor\":\"white\",\"startlinecolor\":\"#2a3f5f\"},\"baxis\":{\"endlinecolor\":\"#2a3f5f\",\"gridcolor\":\"white\",\"linecolor\":\"white\",\"minorgridcolor\":\"white\",\"startlinecolor\":\"#2a3f5f\"},\"type\":\"carpet\"}],\"table\":[{\"cells\":{\"fill\":{\"color\":\"#EBF0F8\"},\"line\":{\"color\":\"white\"}},\"header\":{\"fill\":{\"color\":\"#C8D4E3\"},\"line\":{\"color\":\"white\"}},\"type\":\"table\"}],\"barpolar\":[{\"marker\":{\"line\":{\"color\":\"#E5ECF6\",\"width\":0.5},\"pattern\":{\"fillmode\":\"overlay\",\"size\":10,\"solidity\":0.2}},\"type\":\"barpolar\"}],\"pie\":[{\"automargin\":true,\"type\":\"pie\"}]},\"layout\":{\"autotypenumbers\":\"strict\",\"colorway\":[\"#636efa\",\"#EF553B\",\"#00cc96\",\"#ab63fa\",\"#FFA15A\",\"#19d3f3\",\"#FF6692\",\"#B6E880\",\"#FF97FF\",\"#FECB52\"],\"font\":{\"color\":\"#2a3f5f\"},\"hovermode\":\"closest\",\"hoverlabel\":{\"align\":\"left\"},\"paper_bgcolor\":\"white\",\"plot_bgcolor\":\"#E5ECF6\",\"polar\":{\"bgcolor\":\"#E5ECF6\",\"angularaxis\":{\"gridcolor\":\"white\",\"linecolor\":\"white\",\"ticks\":\"\"},\"radialaxis\":{\"gridcolor\":\"white\",\"linecolor\":\"white\",\"ticks\":\"\"}},\"ternary\":{\"bgcolor\":\"#E5ECF6\",\"aaxis\":{\"gridcolor\":\"white\",\"linecolor\":\"white\",\"ticks\":\"\"},\"baxis\":{\"gridcolor\":\"white\",\"linecolor\":\"white\",\"ticks\":\"\"},\"caxis\":{\"gridcolor\":\"white\",\"linecolor\":\"white\",\"ticks\":\"\"}},\"coloraxis\":{\"colorbar\":{\"outlinewidth\":0,\"ticks\":\"\"}},\"colorscale\":{\"sequential\":[[0.0,\"#0d0887\"],[0.1111111111111111,\"#46039f\"],[0.2222222222222222,\"#7201a8\"],[0.3333333333333333,\"#9c179e\"],[0.4444444444444444,\"#bd3786\"],[0.5555555555555556,\"#d8576b\"],[0.6666666666666666,\"#ed7953\"],[0.7777777777777778,\"#fb9f3a\"],[0.8888888888888888,\"#fdca26\"],[1.0,\"#f0f921\"]],\"sequentialminus\":[[0.0,\"#0d0887\"],[0.1111111111111111,\"#46039f\"],[0.2222222222222222,\"#7201a8\"],[0.3333333333333333,\"#9c179e\"],[0.4444444444444444,\"#bd3786\"],[0.5555555555555556,\"#d8576b\"],[0.6666666666666666,\"#ed7953\"],[0.7777777777777778,\"#fb9f3a\"],[0.8888888888888888,\"#fdca26\"],[1.0,\"#f0f921\"]],\"diverging\":[[0,\"#8e0152\"],[0.1,\"#c51b7d\"],[0.2,\"#de77ae\"],[0.3,\"#f1b6da\"],[0.4,\"#fde0ef\"],[0.5,\"#f7f7f7\"],[0.6,\"#e6f5d0\"],[0.7,\"#b8e186\"],[0.8,\"#7fbc41\"],[0.9,\"#4d9221\"],[1,\"#276419\"]]},\"xaxis\":{\"gridcolor\":\"white\",\"linecolor\":\"white\",\"ticks\":\"\",\"title\":{\"standoff\":15},\"zerolinecolor\":\"white\",\"automargin\":true,\"zerolinewidth\":2},\"yaxis\":{\"gridcolor\":\"white\",\"linecolor\":\"white\",\"ticks\":\"\",\"title\":{\"standoff\":15},\"zerolinecolor\":\"white\",\"automargin\":true,\"zerolinewidth\":2},\"scene\":{\"xaxis\":{\"backgroundcolor\":\"#E5ECF6\",\"gridcolor\":\"white\",\"linecolor\":\"white\",\"showbackground\":true,\"ticks\":\"\",\"zerolinecolor\":\"white\",\"gridwidth\":2},\"yaxis\":{\"backgroundcolor\":\"#E5ECF6\",\"gridcolor\":\"white\",\"linecolor\":\"white\",\"showbackground\":true,\"ticks\":\"\",\"zerolinecolor\":\"white\",\"gridwidth\":2},\"zaxis\":{\"backgroundcolor\":\"#E5ECF6\",\"gridcolor\":\"white\",\"linecolor\":\"white\",\"showbackground\":true,\"ticks\":\"\",\"zerolinecolor\":\"white\",\"gridwidth\":2}},\"shapedefaults\":{\"line\":{\"color\":\"#2a3f5f\"}},\"annotationdefaults\":{\"arrowcolor\":\"#2a3f5f\",\"arrowhead\":0,\"arrowwidth\":1},\"geo\":{\"bgcolor\":\"white\",\"landcolor\":\"#E5ECF6\",\"subunitcolor\":\"white\",\"showland\":true,\"showlakes\":true,\"lakecolor\":\"white\"},\"title\":{\"x\":0.05},\"mapbox\":{\"style\":\"light\"}}},\"font\":{\"size\":15},\"paper_bgcolor\":\"white\",\"plot_bgcolor\":\"white\",\"width\":680,\"height\":400,\"title\":{\"text\":\"\\u003cb\\u003eExercice Power flow 1 : Problème 1\\u003cb\\u003e\",\"y\":0.97,\"x\":0.5,\"xanchor\":\"center\",\"yanchor\":\"top\"}},                        {\"responsive\": true}                    ).then(function(){\n",
       "                            \n",
       "var gd = document.getElementById('98c1f690-5bb3-4864-ba48-05fa4cc00ace');\n",
       "var x = new MutationObserver(function (mutations, observer) {{\n",
       "        var display = window.getComputedStyle(gd).display;\n",
       "        if (!display || display === 'none') {{\n",
       "            console.log([gd, 'removed!']);\n",
       "            Plotly.purge(gd);\n",
       "            observer.disconnect();\n",
       "        }}\n",
       "}});\n",
       "\n",
       "// Listen for the removal of the full notebook cells\n",
       "var notebookContainer = gd.closest('#notebook-container');\n",
       "if (notebookContainer) {{\n",
       "    x.observe(notebookContainer, {childList: true});\n",
       "}}\n",
       "\n",
       "// Listen for the clearing of the current output cell\n",
       "var outputEl = gd.closest('.output');\n",
       "if (outputEl) {{\n",
       "    x.observe(outputEl, {childList: true});\n",
       "}}\n",
       "\n",
       "                        })                };                });            </script>        </div>"
      ]
     },
     "metadata": {},
     "output_type": "display_data"
    }
   ],
   "source": [
    "pp_plot.plot_power_network(\n",
    "    net=net_ExPF1_Pb1_heig,\n",
    "    plot_title=\"Exercice Power flow 1 : Problème 1\",\n",
    "    filename=\"net_ex_pf_1_pb_1_grid_example\",\n",
    ")"
   ]
  },
  {
   "cell_type": "code",
   "execution_count": 181,
   "metadata": {},
   "outputs": [
    {
     "name": "stderr",
     "output_type": "stream",
     "text": [
      "2025-01-16 14:47:56 Karim pandapower.diagnostic_reports[30374] WARNING \n",
      "\n",
      "_____________ PANDAPOWER DIAGNOSTIC TOOL _____________ \n",
      "\n",
      "2025-01-16 14:47:56 Karim pandapower.diagnostic_reports[30374] INFO Checking for missing bus indices...\n",
      "2025-01-16 14:47:56 Karim pandapower.diagnostic_reports[30374] INFO \n",
      "2025-01-16 14:47:56 Karim pandapower.diagnostic_reports[30374] INFO PASSED: No missing bus indices found.\n",
      "2025-01-16 14:47:56 Karim pandapower.diagnostic_reports[30374] WARNING \n",
      " --------\n",
      "\n",
      "2025-01-16 14:47:56 Karim pandapower.diagnostic_reports[30374] INFO PASSED: No problematic switches found\n",
      "2025-01-16 14:47:56 Karim pandapower.diagnostic_reports[30374] WARNING \n",
      " --------\n",
      "\n",
      "2025-01-16 14:47:56 Karim pandapower.diagnostic_reports[30374] INFO PASSED: No connection of different voltage levels found\n",
      "2025-01-16 14:47:56 Karim pandapower.diagnostic_reports[30374] WARNING \n",
      " --------\n",
      "\n",
      "2025-01-16 14:47:56 Karim pandapower.diagnostic_reports[30374] INFO PASSED: No elements with impedance values close to zero found...\n",
      "2025-01-16 14:47:56 Karim pandapower.diagnostic_reports[30374] WARNING \n",
      " --------\n",
      "\n",
      "2025-01-16 14:47:56 Karim pandapower.diagnostic_reports[30374] INFO PASSED: No components with deviating nominal voltages found\n",
      "2025-01-16 14:47:56 Karim pandapower.diagnostic_reports[30374] WARNING \n",
      " --------\n",
      "\n",
      "2025-01-16 14:47:56 Karim pandapower.diagnostic_reports[30374] INFO PASSED: No invalid values found\n",
      "2025-01-16 14:47:56 Karim pandapower.diagnostic_reports[30374] WARNING \n",
      " --------\n",
      "\n",
      "2025-01-16 14:47:56 Karim pandapower.diagnostic_reports[30374] INFO PASSED: Power flow converges. No overload found.\n",
      "2025-01-16 14:47:57 Karim pandapower.diagnostic_reports[30374] WARNING \n",
      " --------\n",
      "\n",
      "2025-01-16 14:47:57 Karim pandapower.diagnostic_reports[30374] INFO PASSED: No buses with multiple gens and/or ext_grids found.\n",
      "2025-01-16 14:47:57 Karim pandapower.diagnostic_reports[30374] WARNING \n",
      " --------\n",
      "\n",
      "2025-01-16 14:47:57 Karim pandapower.diagnostic_reports[30374] INFO PASSED: Power flow converges. Switch configuration seems ok.\n",
      "2025-01-16 14:47:57 Karim pandapower.diagnostic_reports[30374] WARNING \n",
      " --------\n",
      "\n",
      "2025-01-16 14:47:57 Karim pandapower.diagnostic_reports[30374] INFO PASSED: External grid found.\n",
      "2025-01-16 14:47:57 Karim pandapower.diagnostic_reports[30374] WARNING \n",
      " --------\n",
      "\n",
      "2025-01-16 14:47:57 Karim pandapower.diagnostic_reports[30374] INFO PASSED: correct reference system\n",
      "2025-01-16 14:47:57 Karim pandapower.diagnostic_reports[30374] WARNING \n",
      " --------\n",
      "\n",
      "2025-01-16 14:47:57 Karim pandapower.diagnostic_reports[30374] INFO PASSED: No elements with deviations from std_type found.\n",
      "2025-01-16 14:47:57 Karim pandapower.diagnostic_reports[30374] WARNING \n",
      " --------\n",
      "\n",
      "2025-01-16 14:47:57 Karim pandapower.diagnostic_reports[30374] INFO PASSED: No results with deviations between numba = True vs. False found.\n",
      "2025-01-16 14:47:57 Karim pandapower.diagnostic_reports[30374] WARNING \n",
      " --------\n",
      "\n",
      "2025-01-16 14:47:57 Karim pandapower.diagnostic_reports[30374] INFO PASSED: No parallel switches found.\n",
      "2025-01-16 14:47:57 Karim pandapower.diagnostic_reports[30374] WARNING \n",
      " --------\n",
      "\n",
      "2025-01-16 14:47:57 Karim pandapower.diagnostic_reports[30374] WARNING _____________ END OF PANDAPOWER DIAGNOSTIC _____________ \n"
     ]
    },
    {
     "data": {
      "text/plain": [
       "{}"
      ]
     },
     "execution_count": 181,
     "metadata": {},
     "output_type": "execute_result"
    }
   ],
   "source": [
    "pp.diagnostic(net_ExPF1_Pb1_heig)"
   ]
  },
  {
   "cell_type": "code",
   "execution_count": 182,
   "metadata": {},
   "outputs": [],
   "source": [
    "pp.runpp(net_ExPF1_Pb1_heig)"
   ]
  },
  {
   "cell_type": "code",
   "execution_count": 183,
   "metadata": {},
   "outputs": [
    {
     "data": {
      "text/plain": [
       "pandapower.auxiliary.pandapowerNet"
      ]
     },
     "execution_count": 183,
     "metadata": {},
     "output_type": "execute_result"
    }
   ],
   "source": [
    "type(net_ExPF1_Pb1_heig)"
   ]
  },
  {
   "cell_type": "code",
   "execution_count": 184,
   "metadata": {},
   "outputs": [
    {
     "data": {
      "application/vnd.plotly.v1+json": {
       "config": {
        "plotlyServerURL": "https://plot.ly"
       },
       "data": [
        {
         "hoverinfo": "text",
         "legendgroup": "Transformers",
         "line": {
          "color": "rgb(127.5,0.0,0.0)",
          "width": 7
         },
         "mode": "lines",
         "name": "Transformers",
         "showlegend": true,
         "text": "STMT003438<br>Loading: 229.2 %",
         "type": "scatter",
         "x": [
          0,
          0,
          0
         ],
         "y": [
          0,
          -0.5,
          -1
         ]
        },
        {
         "hoverinfo": "text",
         "legendgroup": "Transformers",
         "marker": {
          "color": "rgb(127.5,0.0,0.0)",
          "size": 1,
          "symbol": "circle"
         },
         "mode": "markers",
         "name": "edge_center",
         "showlegend": false,
         "text": [
          "STMT003438<br>Loading: 229.2 %"
         ],
         "type": "scatter",
         "x": [
          0
         ],
         "y": [
          -0.5
         ]
        },
        {
         "hoverinfo": "text",
         "legendgroup": "lines",
         "line": {
          "color": "rgb(0.0,0.0,127.5)",
          "width": 3
         },
         "mode": "lines",
         "name": "lines",
         "showlegend": true,
         "text": "GKN3x150_150<br>Loading: 0.0 %",
         "type": "scatter",
         "x": [
          0,
          -1,
          -2
         ],
         "y": [
          -1,
          -1.5,
          -2
         ]
        },
        {
         "hoverinfo": "text",
         "legendgroup": "lines",
         "line": {
          "color": "rgb(0.0,0.0,127.5)",
          "width": 3
         },
         "mode": "lines",
         "name": "lines",
         "showlegend": false,
         "text": "GKN3x150_150_2<br>Loading: 0.0 %",
         "type": "scatter",
         "x": [
          -2,
          -2.25,
          -2.5
         ],
         "y": [
          -2,
          -2.5,
          -3
         ]
        },
        {
         "hoverinfo": "text",
         "legendgroup": "lines",
         "line": {
          "color": "rgb(0.0,0.0,127.5)",
          "width": 3
         },
         "mode": "lines",
         "name": "lines",
         "showlegend": false,
         "text": "GKN3X95_95<br>Loading: 0.0 %",
         "type": "scatter",
         "x": [
          -2,
          -1.75,
          -1.5
         ],
         "y": [
          -2,
          -2.5,
          -3
         ]
        },
        {
         "hoverinfo": "text",
         "legendgroup": "lines",
         "line": {
          "color": "rgb(0.0,0.0,127.5)",
          "width": 3
         },
         "mode": "lines",
         "name": "lines",
         "showlegend": false,
         "text": "GKT3X50_50<br>Loading: 0.0 %",
         "type": "scatter",
         "x": [
          -1.5,
          -1.5,
          -1.5
         ],
         "y": [
          -3,
          -3.5,
          -4
         ]
        },
        {
         "hoverinfo": "text",
         "legendgroup": "lines",
         "line": {
          "color": "rgb(0.0,0.0,127.5)",
          "width": 3
         },
         "mode": "lines",
         "name": "lines",
         "showlegend": false,
         "text": "GKT3X50_50_2<br>Loading: 0.0 %",
         "type": "scatter",
         "x": [
          -1.5,
          -1.5,
          -1.5
         ],
         "y": [
          -4,
          -4.5,
          -5
         ]
        },
        {
         "hoverinfo": "text",
         "legendgroup": "lines",
         "line": {
          "color": "rgb(0.0,0.0,127.5)",
          "width": 3
         },
         "mode": "lines",
         "name": "lines",
         "showlegend": false,
         "text": "GKN3x150_150_3<br>Loading: 0.2 %",
         "type": "scatter",
         "x": [
          0,
          0.25,
          0.5
         ],
         "y": [
          -1,
          -1.5,
          -2
         ]
        },
        {
         "hoverinfo": "text",
         "legendgroup": "lines",
         "line": {
          "color": "rgb(0.0,0.0,127.5)",
          "width": 3
         },
         "mode": "lines",
         "name": "lines",
         "showlegend": false,
         "text": "GKN3X95_95_2<br>Loading: 0.0 %",
         "type": "scatter",
         "x": [
          0.5,
          0.25,
          0
         ],
         "y": [
          -2,
          -2.5,
          -3
         ]
        },
        {
         "hoverinfo": "text",
         "legendgroup": "lines",
         "line": {
          "color": "rgb(0.0,0.0,127.5)",
          "width": 3
         },
         "mode": "lines",
         "name": "lines",
         "showlegend": false,
         "text": "GKN3x150_150_4<br>Loading: 0.0 %",
         "type": "scatter",
         "x": [
          0,
          -0.25,
          -0.5
         ],
         "y": [
          -3,
          -3.5,
          -4
         ]
        },
        {
         "hoverinfo": "text",
         "legendgroup": "lines",
         "line": {
          "color": "rgb(0.0,0.0,127.5)",
          "width": 3
         },
         "mode": "lines",
         "name": "lines",
         "showlegend": false,
         "text": "GKN3X50_50<br>Loading: 0.0 %",
         "type": "scatter",
         "x": [
          0,
          0.25,
          0.5
         ],
         "y": [
          -3,
          -3.5,
          -4
         ]
        },
        {
         "hoverinfo": "text",
         "legendgroup": "lines",
         "line": {
          "color": "rgb(0.0,0.0,132.04545454545453)",
          "width": 3
         },
         "mode": "lines",
         "name": "lines",
         "showlegend": false,
         "text": "GKN3X50_50_2<br>Loading: 0.6 %",
         "type": "scatter",
         "x": [
          0.5,
          0.75,
          1
         ],
         "y": [
          -2,
          -2.5,
          -3
         ]
        },
        {
         "hoverinfo": "text",
         "legendgroup": "lines",
         "line": {
          "color": "rgb(0.0,0.0,127.5)",
          "width": 3
         },
         "mode": "lines",
         "name": "lines",
         "showlegend": false,
         "text": "GKN3X240_240<br>Loading: 0.2 %",
         "type": "scatter",
         "x": [
          0,
          0.75,
          1.5
         ],
         "y": [
          -1,
          -1.5,
          -2
         ]
        },
        {
         "marker": {
          "cmax": 100,
          "cmin": 0,
          "color": "rgb(255,255,255)",
          "colorbar": {
           "thickness": 10,
           "title": {
            "side": "right",
            "text": "Equipment loading [%]"
           },
           "x": 1.15
          },
          "colorscale": [
           [
            0,
            "rgb(0,0,131)"
           ],
           [
            0.2,
            "rgb(0,60,170)"
           ],
           [
            0.4,
            "rgb(5,255,255)"
           ],
           [
            0.6,
            "rgb(255,255,0)"
           ],
           [
            0.8,
            "rgb(250,0,0)"
           ],
           [
            1,
            "rgb(128,0,0)"
           ]
          ],
          "opacity": 0,
          "size": 0
         },
         "mode": "markers",
         "type": "scatter",
         "x": [
          0
         ],
         "y": [
          -1
         ]
        },
        {
         "hoverinfo": "text",
         "legendgroup": "lines",
         "marker": {
          "color": "rgb(128, 128, 128)",
          "size": 1,
          "symbol": "circle"
         },
         "mode": "markers",
         "name": "edge_center",
         "showlegend": false,
         "text": [
          "GKN3x150_150<br>Loading: 0.0 %",
          "GKN3x150_150_2<br>Loading: 0.0 %",
          "GKN3X95_95<br>Loading: 0.0 %",
          "GKT3X50_50<br>Loading: 0.0 %",
          "GKT3X50_50_2<br>Loading: 0.0 %",
          "GKN3x150_150_3<br>Loading: 0.2 %",
          "GKN3X95_95_2<br>Loading: 0.0 %",
          "GKN3x150_150_4<br>Loading: 0.0 %",
          "GKN3X50_50<br>Loading: 0.0 %",
          "GKN3X50_50_2<br>Loading: 0.6 %",
          "GKN3X240_240<br>Loading: 0.2 %"
         ],
         "type": "scatter",
         "x": [
          -1
         ],
         "y": [
          -1.5
         ]
        },
        {
         "hoverinfo": "text",
         "marker": {
          "color": "rgb(191, 191, 0)",
          "size": 30,
          "symbol": "square"
         },
         "mode": "markers",
         "name": "Ext grid",
         "text": [
          null
         ],
         "type": "scatter",
         "x": [
          0
         ],
         "y": [
          0
         ]
        },
        {
         "hoverinfo": "text",
         "marker": {
          "cmax": 1.15,
          "cmin": 0.85,
          "color": [
           0.9896058798356233,
           0.9775875493240986,
           0.9768900175716247,
           0.9729179429723366,
           0.9688807599882918,
           0.9669320990399959,
           1.0459435615632626,
           1.0426218940084215,
           1.0421289928834825,
           1.0405207721946026,
           1.4327635857903858,
           1.1123139607803618,
           1
          ],
          "colorbar": {
           "thickness": 10,
           "title": {
            "side": "right",
            "text": "Bus voltage [pu]"
           },
           "x": 1
          },
          "colorscale": [
           [
            0,
            "rgb(0,0,131)"
           ],
           [
            0.2,
            "rgb(0,60,170)"
           ],
           [
            0.4,
            "rgb(5,255,255)"
           ],
           [
            0.6,
            "rgb(255,255,0)"
           ],
           [
            0.8,
            "rgb(250,0,0)"
           ],
           [
            1,
            "rgb(128,0,0)"
           ]
          ],
          "size": 20,
          "symbol": "circle"
         },
         "mode": "markers",
         "name": "buses",
         "text": [
          "STMT003438<br>V: 0.99 pu",
          "CDBT004764<br>V: 0.978 pu",
          "CDBT003746<br>V: 0.977 pu",
          "CDBT004760<br>V: 0.973 pu",
          "CDBT012139<br>V: 0.969 pu",
          "CDBT900784<br>V: 0.967 pu",
          "CDBT901452<br>V: 1.046 pu",
          "CDBT004774<br>V: 1.043 pu",
          "CDBT901604<br>V: 1.042 pu",
          "CDBT016055<br>V: 1.041 pu",
          "N1<br>V: 1.433 pu",
          "60437<br>V: 1.112 pu",
          "STMT003438HV<br>V: 1.0 pu"
         ],
         "type": "scatter",
         "x": [
          0,
          -2,
          -2.5,
          -1.5,
          -1.5,
          -1.5,
          0.5,
          0,
          -0.5,
          0.5,
          1,
          1.5,
          0
         ],
         "y": [
          -1,
          -2,
          -3,
          -3,
          -4,
          -5,
          -2,
          -3,
          -4,
          -4,
          -3,
          -2,
          0
         ]
        }
       ],
       "layout": {
        "font": {
         "size": 15
        },
        "height": 400,
        "hovermode": "closest",
        "legend": {
         "font": {
          "size": 12
         },
         "itemsizing": "constant"
        },
        "margin": {
         "b": 5,
         "l": 5,
         "r": 5,
         "t": 30
        },
        "paper_bgcolor": "white",
        "plot_bgcolor": "white",
        "showlegend": false,
        "template": {
         "data": {
          "bar": [
           {
            "error_x": {
             "color": "#2a3f5f"
            },
            "error_y": {
             "color": "#2a3f5f"
            },
            "marker": {
             "line": {
              "color": "#E5ECF6",
              "width": 0.5
             },
             "pattern": {
              "fillmode": "overlay",
              "size": 10,
              "solidity": 0.2
             }
            },
            "type": "bar"
           }
          ],
          "barpolar": [
           {
            "marker": {
             "line": {
              "color": "#E5ECF6",
              "width": 0.5
             },
             "pattern": {
              "fillmode": "overlay",
              "size": 10,
              "solidity": 0.2
             }
            },
            "type": "barpolar"
           }
          ],
          "carpet": [
           {
            "aaxis": {
             "endlinecolor": "#2a3f5f",
             "gridcolor": "white",
             "linecolor": "white",
             "minorgridcolor": "white",
             "startlinecolor": "#2a3f5f"
            },
            "baxis": {
             "endlinecolor": "#2a3f5f",
             "gridcolor": "white",
             "linecolor": "white",
             "minorgridcolor": "white",
             "startlinecolor": "#2a3f5f"
            },
            "type": "carpet"
           }
          ],
          "choropleth": [
           {
            "colorbar": {
             "outlinewidth": 0,
             "ticks": ""
            },
            "type": "choropleth"
           }
          ],
          "contour": [
           {
            "colorbar": {
             "outlinewidth": 0,
             "ticks": ""
            },
            "colorscale": [
             [
              0,
              "#0d0887"
             ],
             [
              0.1111111111111111,
              "#46039f"
             ],
             [
              0.2222222222222222,
              "#7201a8"
             ],
             [
              0.3333333333333333,
              "#9c179e"
             ],
             [
              0.4444444444444444,
              "#bd3786"
             ],
             [
              0.5555555555555556,
              "#d8576b"
             ],
             [
              0.6666666666666666,
              "#ed7953"
             ],
             [
              0.7777777777777778,
              "#fb9f3a"
             ],
             [
              0.8888888888888888,
              "#fdca26"
             ],
             [
              1,
              "#f0f921"
             ]
            ],
            "type": "contour"
           }
          ],
          "contourcarpet": [
           {
            "colorbar": {
             "outlinewidth": 0,
             "ticks": ""
            },
            "type": "contourcarpet"
           }
          ],
          "heatmap": [
           {
            "colorbar": {
             "outlinewidth": 0,
             "ticks": ""
            },
            "colorscale": [
             [
              0,
              "#0d0887"
             ],
             [
              0.1111111111111111,
              "#46039f"
             ],
             [
              0.2222222222222222,
              "#7201a8"
             ],
             [
              0.3333333333333333,
              "#9c179e"
             ],
             [
              0.4444444444444444,
              "#bd3786"
             ],
             [
              0.5555555555555556,
              "#d8576b"
             ],
             [
              0.6666666666666666,
              "#ed7953"
             ],
             [
              0.7777777777777778,
              "#fb9f3a"
             ],
             [
              0.8888888888888888,
              "#fdca26"
             ],
             [
              1,
              "#f0f921"
             ]
            ],
            "type": "heatmap"
           }
          ],
          "heatmapgl": [
           {
            "colorbar": {
             "outlinewidth": 0,
             "ticks": ""
            },
            "colorscale": [
             [
              0,
              "#0d0887"
             ],
             [
              0.1111111111111111,
              "#46039f"
             ],
             [
              0.2222222222222222,
              "#7201a8"
             ],
             [
              0.3333333333333333,
              "#9c179e"
             ],
             [
              0.4444444444444444,
              "#bd3786"
             ],
             [
              0.5555555555555556,
              "#d8576b"
             ],
             [
              0.6666666666666666,
              "#ed7953"
             ],
             [
              0.7777777777777778,
              "#fb9f3a"
             ],
             [
              0.8888888888888888,
              "#fdca26"
             ],
             [
              1,
              "#f0f921"
             ]
            ],
            "type": "heatmapgl"
           }
          ],
          "histogram": [
           {
            "marker": {
             "pattern": {
              "fillmode": "overlay",
              "size": 10,
              "solidity": 0.2
             }
            },
            "type": "histogram"
           }
          ],
          "histogram2d": [
           {
            "colorbar": {
             "outlinewidth": 0,
             "ticks": ""
            },
            "colorscale": [
             [
              0,
              "#0d0887"
             ],
             [
              0.1111111111111111,
              "#46039f"
             ],
             [
              0.2222222222222222,
              "#7201a8"
             ],
             [
              0.3333333333333333,
              "#9c179e"
             ],
             [
              0.4444444444444444,
              "#bd3786"
             ],
             [
              0.5555555555555556,
              "#d8576b"
             ],
             [
              0.6666666666666666,
              "#ed7953"
             ],
             [
              0.7777777777777778,
              "#fb9f3a"
             ],
             [
              0.8888888888888888,
              "#fdca26"
             ],
             [
              1,
              "#f0f921"
             ]
            ],
            "type": "histogram2d"
           }
          ],
          "histogram2dcontour": [
           {
            "colorbar": {
             "outlinewidth": 0,
             "ticks": ""
            },
            "colorscale": [
             [
              0,
              "#0d0887"
             ],
             [
              0.1111111111111111,
              "#46039f"
             ],
             [
              0.2222222222222222,
              "#7201a8"
             ],
             [
              0.3333333333333333,
              "#9c179e"
             ],
             [
              0.4444444444444444,
              "#bd3786"
             ],
             [
              0.5555555555555556,
              "#d8576b"
             ],
             [
              0.6666666666666666,
              "#ed7953"
             ],
             [
              0.7777777777777778,
              "#fb9f3a"
             ],
             [
              0.8888888888888888,
              "#fdca26"
             ],
             [
              1,
              "#f0f921"
             ]
            ],
            "type": "histogram2dcontour"
           }
          ],
          "mesh3d": [
           {
            "colorbar": {
             "outlinewidth": 0,
             "ticks": ""
            },
            "type": "mesh3d"
           }
          ],
          "parcoords": [
           {
            "line": {
             "colorbar": {
              "outlinewidth": 0,
              "ticks": ""
             }
            },
            "type": "parcoords"
           }
          ],
          "pie": [
           {
            "automargin": true,
            "type": "pie"
           }
          ],
          "scatter": [
           {
            "fillpattern": {
             "fillmode": "overlay",
             "size": 10,
             "solidity": 0.2
            },
            "type": "scatter"
           }
          ],
          "scatter3d": [
           {
            "line": {
             "colorbar": {
              "outlinewidth": 0,
              "ticks": ""
             }
            },
            "marker": {
             "colorbar": {
              "outlinewidth": 0,
              "ticks": ""
             }
            },
            "type": "scatter3d"
           }
          ],
          "scattercarpet": [
           {
            "marker": {
             "colorbar": {
              "outlinewidth": 0,
              "ticks": ""
             }
            },
            "type": "scattercarpet"
           }
          ],
          "scattergeo": [
           {
            "marker": {
             "colorbar": {
              "outlinewidth": 0,
              "ticks": ""
             }
            },
            "type": "scattergeo"
           }
          ],
          "scattergl": [
           {
            "marker": {
             "colorbar": {
              "outlinewidth": 0,
              "ticks": ""
             }
            },
            "type": "scattergl"
           }
          ],
          "scattermapbox": [
           {
            "marker": {
             "colorbar": {
              "outlinewidth": 0,
              "ticks": ""
             }
            },
            "type": "scattermapbox"
           }
          ],
          "scatterpolar": [
           {
            "marker": {
             "colorbar": {
              "outlinewidth": 0,
              "ticks": ""
             }
            },
            "type": "scatterpolar"
           }
          ],
          "scatterpolargl": [
           {
            "marker": {
             "colorbar": {
              "outlinewidth": 0,
              "ticks": ""
             }
            },
            "type": "scatterpolargl"
           }
          ],
          "scatterternary": [
           {
            "marker": {
             "colorbar": {
              "outlinewidth": 0,
              "ticks": ""
             }
            },
            "type": "scatterternary"
           }
          ],
          "surface": [
           {
            "colorbar": {
             "outlinewidth": 0,
             "ticks": ""
            },
            "colorscale": [
             [
              0,
              "#0d0887"
             ],
             [
              0.1111111111111111,
              "#46039f"
             ],
             [
              0.2222222222222222,
              "#7201a8"
             ],
             [
              0.3333333333333333,
              "#9c179e"
             ],
             [
              0.4444444444444444,
              "#bd3786"
             ],
             [
              0.5555555555555556,
              "#d8576b"
             ],
             [
              0.6666666666666666,
              "#ed7953"
             ],
             [
              0.7777777777777778,
              "#fb9f3a"
             ],
             [
              0.8888888888888888,
              "#fdca26"
             ],
             [
              1,
              "#f0f921"
             ]
            ],
            "type": "surface"
           }
          ],
          "table": [
           {
            "cells": {
             "fill": {
              "color": "#EBF0F8"
             },
             "line": {
              "color": "white"
             }
            },
            "header": {
             "fill": {
              "color": "#C8D4E3"
             },
             "line": {
              "color": "white"
             }
            },
            "type": "table"
           }
          ]
         },
         "layout": {
          "annotationdefaults": {
           "arrowcolor": "#2a3f5f",
           "arrowhead": 0,
           "arrowwidth": 1
          },
          "autotypenumbers": "strict",
          "coloraxis": {
           "colorbar": {
            "outlinewidth": 0,
            "ticks": ""
           }
          },
          "colorscale": {
           "diverging": [
            [
             0,
             "#8e0152"
            ],
            [
             0.1,
             "#c51b7d"
            ],
            [
             0.2,
             "#de77ae"
            ],
            [
             0.3,
             "#f1b6da"
            ],
            [
             0.4,
             "#fde0ef"
            ],
            [
             0.5,
             "#f7f7f7"
            ],
            [
             0.6,
             "#e6f5d0"
            ],
            [
             0.7,
             "#b8e186"
            ],
            [
             0.8,
             "#7fbc41"
            ],
            [
             0.9,
             "#4d9221"
            ],
            [
             1,
             "#276419"
            ]
           ],
           "sequential": [
            [
             0,
             "#0d0887"
            ],
            [
             0.1111111111111111,
             "#46039f"
            ],
            [
             0.2222222222222222,
             "#7201a8"
            ],
            [
             0.3333333333333333,
             "#9c179e"
            ],
            [
             0.4444444444444444,
             "#bd3786"
            ],
            [
             0.5555555555555556,
             "#d8576b"
            ],
            [
             0.6666666666666666,
             "#ed7953"
            ],
            [
             0.7777777777777778,
             "#fb9f3a"
            ],
            [
             0.8888888888888888,
             "#fdca26"
            ],
            [
             1,
             "#f0f921"
            ]
           ],
           "sequentialminus": [
            [
             0,
             "#0d0887"
            ],
            [
             0.1111111111111111,
             "#46039f"
            ],
            [
             0.2222222222222222,
             "#7201a8"
            ],
            [
             0.3333333333333333,
             "#9c179e"
            ],
            [
             0.4444444444444444,
             "#bd3786"
            ],
            [
             0.5555555555555556,
             "#d8576b"
            ],
            [
             0.6666666666666666,
             "#ed7953"
            ],
            [
             0.7777777777777778,
             "#fb9f3a"
            ],
            [
             0.8888888888888888,
             "#fdca26"
            ],
            [
             1,
             "#f0f921"
            ]
           ]
          },
          "colorway": [
           "#636efa",
           "#EF553B",
           "#00cc96",
           "#ab63fa",
           "#FFA15A",
           "#19d3f3",
           "#FF6692",
           "#B6E880",
           "#FF97FF",
           "#FECB52"
          ],
          "font": {
           "color": "#2a3f5f"
          },
          "geo": {
           "bgcolor": "white",
           "lakecolor": "white",
           "landcolor": "#E5ECF6",
           "showlakes": true,
           "showland": true,
           "subunitcolor": "white"
          },
          "hoverlabel": {
           "align": "left"
          },
          "hovermode": "closest",
          "mapbox": {
           "style": "light"
          },
          "paper_bgcolor": "white",
          "plot_bgcolor": "#E5ECF6",
          "polar": {
           "angularaxis": {
            "gridcolor": "white",
            "linecolor": "white",
            "ticks": ""
           },
           "bgcolor": "#E5ECF6",
           "radialaxis": {
            "gridcolor": "white",
            "linecolor": "white",
            "ticks": ""
           }
          },
          "scene": {
           "xaxis": {
            "backgroundcolor": "#E5ECF6",
            "gridcolor": "white",
            "gridwidth": 2,
            "linecolor": "white",
            "showbackground": true,
            "ticks": "",
            "zerolinecolor": "white"
           },
           "yaxis": {
            "backgroundcolor": "#E5ECF6",
            "gridcolor": "white",
            "gridwidth": 2,
            "linecolor": "white",
            "showbackground": true,
            "ticks": "",
            "zerolinecolor": "white"
           },
           "zaxis": {
            "backgroundcolor": "#E5ECF6",
            "gridcolor": "white",
            "gridwidth": 2,
            "linecolor": "white",
            "showbackground": true,
            "ticks": "",
            "zerolinecolor": "white"
           }
          },
          "shapedefaults": {
           "line": {
            "color": "#2a3f5f"
           }
          },
          "ternary": {
           "aaxis": {
            "gridcolor": "white",
            "linecolor": "white",
            "ticks": ""
           },
           "baxis": {
            "gridcolor": "white",
            "linecolor": "white",
            "ticks": ""
           },
           "bgcolor": "#E5ECF6",
           "caxis": {
            "gridcolor": "white",
            "linecolor": "white",
            "ticks": ""
           }
          },
          "title": {
           "x": 0.05
          },
          "xaxis": {
           "automargin": true,
           "gridcolor": "white",
           "linecolor": "white",
           "ticks": "",
           "title": {
            "standoff": 15
           },
           "zerolinecolor": "white",
           "zerolinewidth": 2
          },
          "yaxis": {
           "automargin": true,
           "gridcolor": "white",
           "linecolor": "white",
           "ticks": "",
           "title": {
            "standoff": 15
           },
           "zerolinecolor": "white",
           "zerolinewidth": 2
          }
         }
        },
        "title": {
         "text": "<b>Exercice Power flow 1 : Problème 1 - results<b>",
         "x": 0.5,
         "xanchor": "center",
         "y": 0.97,
         "yanchor": "top"
        },
        "width": 770,
        "xaxis": {
         "showgrid": false,
         "showticklabels": false,
         "tickfont": {
          "family": "Arial Black",
          "size": 12
         },
         "title": {
          "font": {
           "size": 12
          }
         },
         "zeroline": false
        },
        "yaxis": {
         "showgrid": false,
         "showticklabels": false,
         "tickfont": {
          "family": "Arial Black",
          "size": 12
         },
         "title": {
          "font": {
           "size": 12
          }
         },
         "zeroline": false
        }
       }
      },
      "text/html": [
       "<div>                            <div id=\"a6c9956c-87ff-4cef-872e-e1f024b17db3\" class=\"plotly-graph-div\" style=\"height:400px; width:770px;\"></div>            <script type=\"text/javascript\">                require([\"plotly\"], function(Plotly) {                    window.PLOTLYENV=window.PLOTLYENV || {};                                    if (document.getElementById(\"a6c9956c-87ff-4cef-872e-e1f024b17db3\")) {                    Plotly.newPlot(                        \"a6c9956c-87ff-4cef-872e-e1f024b17db3\",                        [{\"hoverinfo\":\"text\",\"legendgroup\":\"Transformers\",\"line\":{\"color\":\"rgb(127.5,0.0,0.0)\",\"width\":7},\"mode\":\"lines\",\"name\":\"Transformers\",\"showlegend\":true,\"text\":\"STMT003438\\u003cbr\\u003eLoading: 229.2 %\",\"x\":[0.0,0.0,0.0],\"y\":[-0.0,-0.5,-1.0],\"type\":\"scatter\"},{\"hoverinfo\":\"text\",\"legendgroup\":\"Transformers\",\"marker\":{\"color\":\"rgb(127.5,0.0,0.0)\",\"size\":1,\"symbol\":\"circle\"},\"mode\":\"markers\",\"name\":\"edge_center\",\"showlegend\":false,\"text\":[\"STMT003438\\u003cbr\\u003eLoading: 229.2 %\"],\"x\":[0.0],\"y\":[-0.5],\"type\":\"scatter\"},{\"hoverinfo\":\"text\",\"legendgroup\":\"lines\",\"line\":{\"color\":\"rgb(0.0,0.0,127.5)\",\"width\":3},\"mode\":\"lines\",\"name\":\"lines\",\"showlegend\":true,\"text\":\"GKN3x150_150\\u003cbr\\u003eLoading: 0.0 %\",\"x\":[0.0,-1.0,-2.0],\"y\":[-1.0,-1.5,-2.0],\"type\":\"scatter\"},{\"hoverinfo\":\"text\",\"legendgroup\":\"lines\",\"line\":{\"color\":\"rgb(0.0,0.0,127.5)\",\"width\":3},\"mode\":\"lines\",\"name\":\"lines\",\"showlegend\":false,\"text\":\"GKN3x150_150_2\\u003cbr\\u003eLoading: 0.0 %\",\"x\":[-2.0,-2.25,-2.5],\"y\":[-2.0,-2.5,-3.0],\"type\":\"scatter\"},{\"hoverinfo\":\"text\",\"legendgroup\":\"lines\",\"line\":{\"color\":\"rgb(0.0,0.0,127.5)\",\"width\":3},\"mode\":\"lines\",\"name\":\"lines\",\"showlegend\":false,\"text\":\"GKN3X95_95\\u003cbr\\u003eLoading: 0.0 %\",\"x\":[-2.0,-1.75,-1.5],\"y\":[-2.0,-2.5,-3.0],\"type\":\"scatter\"},{\"hoverinfo\":\"text\",\"legendgroup\":\"lines\",\"line\":{\"color\":\"rgb(0.0,0.0,127.5)\",\"width\":3},\"mode\":\"lines\",\"name\":\"lines\",\"showlegend\":false,\"text\":\"GKT3X50_50\\u003cbr\\u003eLoading: 0.0 %\",\"x\":[-1.5,-1.5,-1.5],\"y\":[-3.0,-3.5,-4.0],\"type\":\"scatter\"},{\"hoverinfo\":\"text\",\"legendgroup\":\"lines\",\"line\":{\"color\":\"rgb(0.0,0.0,127.5)\",\"width\":3},\"mode\":\"lines\",\"name\":\"lines\",\"showlegend\":false,\"text\":\"GKT3X50_50_2\\u003cbr\\u003eLoading: 0.0 %\",\"x\":[-1.5,-1.5,-1.5],\"y\":[-4.0,-4.5,-5.0],\"type\":\"scatter\"},{\"hoverinfo\":\"text\",\"legendgroup\":\"lines\",\"line\":{\"color\":\"rgb(0.0,0.0,127.5)\",\"width\":3},\"mode\":\"lines\",\"name\":\"lines\",\"showlegend\":false,\"text\":\"GKN3x150_150_3\\u003cbr\\u003eLoading: 0.2 %\",\"x\":[0.0,0.25,0.5],\"y\":[-1.0,-1.5,-2.0],\"type\":\"scatter\"},{\"hoverinfo\":\"text\",\"legendgroup\":\"lines\",\"line\":{\"color\":\"rgb(0.0,0.0,127.5)\",\"width\":3},\"mode\":\"lines\",\"name\":\"lines\",\"showlegend\":false,\"text\":\"GKN3X95_95_2\\u003cbr\\u003eLoading: 0.0 %\",\"x\":[0.5,0.25,0.0],\"y\":[-2.0,-2.5,-3.0],\"type\":\"scatter\"},{\"hoverinfo\":\"text\",\"legendgroup\":\"lines\",\"line\":{\"color\":\"rgb(0.0,0.0,127.5)\",\"width\":3},\"mode\":\"lines\",\"name\":\"lines\",\"showlegend\":false,\"text\":\"GKN3x150_150_4\\u003cbr\\u003eLoading: 0.0 %\",\"x\":[0.0,-0.25,-0.5],\"y\":[-3.0,-3.5,-4.0],\"type\":\"scatter\"},{\"hoverinfo\":\"text\",\"legendgroup\":\"lines\",\"line\":{\"color\":\"rgb(0.0,0.0,127.5)\",\"width\":3},\"mode\":\"lines\",\"name\":\"lines\",\"showlegend\":false,\"text\":\"GKN3X50_50\\u003cbr\\u003eLoading: 0.0 %\",\"x\":[0.0,0.25,0.5],\"y\":[-3.0,-3.5,-4.0],\"type\":\"scatter\"},{\"hoverinfo\":\"text\",\"legendgroup\":\"lines\",\"line\":{\"color\":\"rgb(0.0,0.0,132.04545454545453)\",\"width\":3},\"mode\":\"lines\",\"name\":\"lines\",\"showlegend\":false,\"text\":\"GKN3X50_50_2\\u003cbr\\u003eLoading: 0.6 %\",\"x\":[0.5,0.75,1.0],\"y\":[-2.0,-2.5,-3.0],\"type\":\"scatter\"},{\"hoverinfo\":\"text\",\"legendgroup\":\"lines\",\"line\":{\"color\":\"rgb(0.0,0.0,127.5)\",\"width\":3},\"mode\":\"lines\",\"name\":\"lines\",\"showlegend\":false,\"text\":\"GKN3X240_240\\u003cbr\\u003eLoading: 0.2 %\",\"x\":[0.0,0.75,1.5],\"y\":[-1.0,-1.5,-2.0],\"type\":\"scatter\"},{\"marker\":{\"cmax\":100,\"cmin\":0,\"color\":\"rgb(255,255,255)\",\"colorbar\":{\"thickness\":10,\"title\":{\"side\":\"right\",\"text\":\"Equipment loading [%]\"},\"x\":1.15},\"colorscale\":[[0.0,\"rgb(0,0,131)\"],[0.2,\"rgb(0,60,170)\"],[0.4,\"rgb(5,255,255)\"],[0.6,\"rgb(255,255,0)\"],[0.8,\"rgb(250,0,0)\"],[1.0,\"rgb(128,0,0)\"]],\"opacity\":0,\"size\":0},\"mode\":\"markers\",\"x\":[0.0],\"y\":[-1.0],\"type\":\"scatter\"},{\"hoverinfo\":\"text\",\"legendgroup\":\"lines\",\"marker\":{\"color\":\"rgb(128, 128, 128)\",\"size\":1,\"symbol\":\"circle\"},\"mode\":\"markers\",\"name\":\"edge_center\",\"showlegend\":false,\"text\":[\"GKN3x150_150\\u003cbr\\u003eLoading: 0.0 %\",\"GKN3x150_150_2\\u003cbr\\u003eLoading: 0.0 %\",\"GKN3X95_95\\u003cbr\\u003eLoading: 0.0 %\",\"GKT3X50_50\\u003cbr\\u003eLoading: 0.0 %\",\"GKT3X50_50_2\\u003cbr\\u003eLoading: 0.0 %\",\"GKN3x150_150_3\\u003cbr\\u003eLoading: 0.2 %\",\"GKN3X95_95_2\\u003cbr\\u003eLoading: 0.0 %\",\"GKN3x150_150_4\\u003cbr\\u003eLoading: 0.0 %\",\"GKN3X50_50\\u003cbr\\u003eLoading: 0.0 %\",\"GKN3X50_50_2\\u003cbr\\u003eLoading: 0.6 %\",\"GKN3X240_240\\u003cbr\\u003eLoading: 0.2 %\"],\"x\":[-1.0],\"y\":[-1.5],\"type\":\"scatter\"},{\"hoverinfo\":\"text\",\"marker\":{\"color\":\"rgb(191, 191, 0)\",\"size\":30,\"symbol\":\"square\"},\"mode\":\"markers\",\"name\":\"Ext grid\",\"text\":[null],\"x\":[0.0],\"y\":[-0.0],\"type\":\"scatter\"},{\"hoverinfo\":\"text\",\"marker\":{\"cmax\":1.15,\"cmin\":0.85,\"color\":[0.9896058798356233,0.9775875493240986,0.9768900175716247,0.9729179429723366,0.9688807599882918,0.9669320990399959,1.0459435615632626,1.0426218940084215,1.0421289928834825,1.0405207721946026,1.4327635857903858,1.1123139607803618,1.0],\"colorbar\":{\"thickness\":10,\"title\":{\"side\":\"right\",\"text\":\"Bus voltage [pu]\"},\"x\":1.0},\"colorscale\":[[0.0,\"rgb(0,0,131)\"],[0.2,\"rgb(0,60,170)\"],[0.4,\"rgb(5,255,255)\"],[0.6,\"rgb(255,255,0)\"],[0.8,\"rgb(250,0,0)\"],[1.0,\"rgb(128,0,0)\"]],\"size\":20,\"symbol\":\"circle\"},\"mode\":\"markers\",\"name\":\"buses\",\"text\":[\"STMT003438\\u003cbr\\u003eV: 0.99 pu\",\"CDBT004764\\u003cbr\\u003eV: 0.978 pu\",\"CDBT003746\\u003cbr\\u003eV: 0.977 pu\",\"CDBT004760\\u003cbr\\u003eV: 0.973 pu\",\"CDBT012139\\u003cbr\\u003eV: 0.969 pu\",\"CDBT900784\\u003cbr\\u003eV: 0.967 pu\",\"CDBT901452\\u003cbr\\u003eV: 1.046 pu\",\"CDBT004774\\u003cbr\\u003eV: 1.043 pu\",\"CDBT901604\\u003cbr\\u003eV: 1.042 pu\",\"CDBT016055\\u003cbr\\u003eV: 1.041 pu\",\"N1\\u003cbr\\u003eV: 1.433 pu\",\"60437\\u003cbr\\u003eV: 1.112 pu\",\"STMT003438HV\\u003cbr\\u003eV: 1.0 pu\"],\"x\":[0.0,-2.0,-2.5,-1.5,-1.5,-1.5,0.5,0.0,-0.5,0.5,1.0,1.5,0.0],\"y\":[-1.0,-2.0,-3.0,-3.0,-4.0,-5.0,-2.0,-3.0,-4.0,-4.0,-3.0,-2.0,-0.0],\"type\":\"scatter\"}],                        {\"hovermode\":\"closest\",\"legend\":{\"itemsizing\":\"constant\",\"font\":{\"size\":12}},\"margin\":{\"b\":5,\"l\":5,\"r\":5,\"t\":30},\"showlegend\":false,\"xaxis\":{\"showgrid\":false,\"showticklabels\":false,\"zeroline\":false,\"tickfont\":{\"size\":12,\"family\":\"Arial Black\"},\"title\":{\"font\":{\"size\":12}}},\"yaxis\":{\"showgrid\":false,\"showticklabels\":false,\"zeroline\":false,\"tickfont\":{\"size\":12,\"family\":\"Arial Black\"},\"title\":{\"font\":{\"size\":12}}},\"template\":{\"data\":{\"histogram2dcontour\":[{\"type\":\"histogram2dcontour\",\"colorbar\":{\"outlinewidth\":0,\"ticks\":\"\"},\"colorscale\":[[0.0,\"#0d0887\"],[0.1111111111111111,\"#46039f\"],[0.2222222222222222,\"#7201a8\"],[0.3333333333333333,\"#9c179e\"],[0.4444444444444444,\"#bd3786\"],[0.5555555555555556,\"#d8576b\"],[0.6666666666666666,\"#ed7953\"],[0.7777777777777778,\"#fb9f3a\"],[0.8888888888888888,\"#fdca26\"],[1.0,\"#f0f921\"]]}],\"choropleth\":[{\"type\":\"choropleth\",\"colorbar\":{\"outlinewidth\":0,\"ticks\":\"\"}}],\"histogram2d\":[{\"type\":\"histogram2d\",\"colorbar\":{\"outlinewidth\":0,\"ticks\":\"\"},\"colorscale\":[[0.0,\"#0d0887\"],[0.1111111111111111,\"#46039f\"],[0.2222222222222222,\"#7201a8\"],[0.3333333333333333,\"#9c179e\"],[0.4444444444444444,\"#bd3786\"],[0.5555555555555556,\"#d8576b\"],[0.6666666666666666,\"#ed7953\"],[0.7777777777777778,\"#fb9f3a\"],[0.8888888888888888,\"#fdca26\"],[1.0,\"#f0f921\"]]}],\"heatmap\":[{\"type\":\"heatmap\",\"colorbar\":{\"outlinewidth\":0,\"ticks\":\"\"},\"colorscale\":[[0.0,\"#0d0887\"],[0.1111111111111111,\"#46039f\"],[0.2222222222222222,\"#7201a8\"],[0.3333333333333333,\"#9c179e\"],[0.4444444444444444,\"#bd3786\"],[0.5555555555555556,\"#d8576b\"],[0.6666666666666666,\"#ed7953\"],[0.7777777777777778,\"#fb9f3a\"],[0.8888888888888888,\"#fdca26\"],[1.0,\"#f0f921\"]]}],\"heatmapgl\":[{\"type\":\"heatmapgl\",\"colorbar\":{\"outlinewidth\":0,\"ticks\":\"\"},\"colorscale\":[[0.0,\"#0d0887\"],[0.1111111111111111,\"#46039f\"],[0.2222222222222222,\"#7201a8\"],[0.3333333333333333,\"#9c179e\"],[0.4444444444444444,\"#bd3786\"],[0.5555555555555556,\"#d8576b\"],[0.6666666666666666,\"#ed7953\"],[0.7777777777777778,\"#fb9f3a\"],[0.8888888888888888,\"#fdca26\"],[1.0,\"#f0f921\"]]}],\"contourcarpet\":[{\"type\":\"contourcarpet\",\"colorbar\":{\"outlinewidth\":0,\"ticks\":\"\"}}],\"contour\":[{\"type\":\"contour\",\"colorbar\":{\"outlinewidth\":0,\"ticks\":\"\"},\"colorscale\":[[0.0,\"#0d0887\"],[0.1111111111111111,\"#46039f\"],[0.2222222222222222,\"#7201a8\"],[0.3333333333333333,\"#9c179e\"],[0.4444444444444444,\"#bd3786\"],[0.5555555555555556,\"#d8576b\"],[0.6666666666666666,\"#ed7953\"],[0.7777777777777778,\"#fb9f3a\"],[0.8888888888888888,\"#fdca26\"],[1.0,\"#f0f921\"]]}],\"surface\":[{\"type\":\"surface\",\"colorbar\":{\"outlinewidth\":0,\"ticks\":\"\"},\"colorscale\":[[0.0,\"#0d0887\"],[0.1111111111111111,\"#46039f\"],[0.2222222222222222,\"#7201a8\"],[0.3333333333333333,\"#9c179e\"],[0.4444444444444444,\"#bd3786\"],[0.5555555555555556,\"#d8576b\"],[0.6666666666666666,\"#ed7953\"],[0.7777777777777778,\"#fb9f3a\"],[0.8888888888888888,\"#fdca26\"],[1.0,\"#f0f921\"]]}],\"mesh3d\":[{\"type\":\"mesh3d\",\"colorbar\":{\"outlinewidth\":0,\"ticks\":\"\"}}],\"scatter\":[{\"fillpattern\":{\"fillmode\":\"overlay\",\"size\":10,\"solidity\":0.2},\"type\":\"scatter\"}],\"parcoords\":[{\"type\":\"parcoords\",\"line\":{\"colorbar\":{\"outlinewidth\":0,\"ticks\":\"\"}}}],\"scatterpolargl\":[{\"type\":\"scatterpolargl\",\"marker\":{\"colorbar\":{\"outlinewidth\":0,\"ticks\":\"\"}}}],\"bar\":[{\"error_x\":{\"color\":\"#2a3f5f\"},\"error_y\":{\"color\":\"#2a3f5f\"},\"marker\":{\"line\":{\"color\":\"#E5ECF6\",\"width\":0.5},\"pattern\":{\"fillmode\":\"overlay\",\"size\":10,\"solidity\":0.2}},\"type\":\"bar\"}],\"scattergeo\":[{\"type\":\"scattergeo\",\"marker\":{\"colorbar\":{\"outlinewidth\":0,\"ticks\":\"\"}}}],\"scatterpolar\":[{\"type\":\"scatterpolar\",\"marker\":{\"colorbar\":{\"outlinewidth\":0,\"ticks\":\"\"}}}],\"histogram\":[{\"marker\":{\"pattern\":{\"fillmode\":\"overlay\",\"size\":10,\"solidity\":0.2}},\"type\":\"histogram\"}],\"scattergl\":[{\"type\":\"scattergl\",\"marker\":{\"colorbar\":{\"outlinewidth\":0,\"ticks\":\"\"}}}],\"scatter3d\":[{\"type\":\"scatter3d\",\"line\":{\"colorbar\":{\"outlinewidth\":0,\"ticks\":\"\"}},\"marker\":{\"colorbar\":{\"outlinewidth\":0,\"ticks\":\"\"}}}],\"scattermapbox\":[{\"type\":\"scattermapbox\",\"marker\":{\"colorbar\":{\"outlinewidth\":0,\"ticks\":\"\"}}}],\"scatterternary\":[{\"type\":\"scatterternary\",\"marker\":{\"colorbar\":{\"outlinewidth\":0,\"ticks\":\"\"}}}],\"scattercarpet\":[{\"type\":\"scattercarpet\",\"marker\":{\"colorbar\":{\"outlinewidth\":0,\"ticks\":\"\"}}}],\"carpet\":[{\"aaxis\":{\"endlinecolor\":\"#2a3f5f\",\"gridcolor\":\"white\",\"linecolor\":\"white\",\"minorgridcolor\":\"white\",\"startlinecolor\":\"#2a3f5f\"},\"baxis\":{\"endlinecolor\":\"#2a3f5f\",\"gridcolor\":\"white\",\"linecolor\":\"white\",\"minorgridcolor\":\"white\",\"startlinecolor\":\"#2a3f5f\"},\"type\":\"carpet\"}],\"table\":[{\"cells\":{\"fill\":{\"color\":\"#EBF0F8\"},\"line\":{\"color\":\"white\"}},\"header\":{\"fill\":{\"color\":\"#C8D4E3\"},\"line\":{\"color\":\"white\"}},\"type\":\"table\"}],\"barpolar\":[{\"marker\":{\"line\":{\"color\":\"#E5ECF6\",\"width\":0.5},\"pattern\":{\"fillmode\":\"overlay\",\"size\":10,\"solidity\":0.2}},\"type\":\"barpolar\"}],\"pie\":[{\"automargin\":true,\"type\":\"pie\"}]},\"layout\":{\"autotypenumbers\":\"strict\",\"colorway\":[\"#636efa\",\"#EF553B\",\"#00cc96\",\"#ab63fa\",\"#FFA15A\",\"#19d3f3\",\"#FF6692\",\"#B6E880\",\"#FF97FF\",\"#FECB52\"],\"font\":{\"color\":\"#2a3f5f\"},\"hovermode\":\"closest\",\"hoverlabel\":{\"align\":\"left\"},\"paper_bgcolor\":\"white\",\"plot_bgcolor\":\"#E5ECF6\",\"polar\":{\"bgcolor\":\"#E5ECF6\",\"angularaxis\":{\"gridcolor\":\"white\",\"linecolor\":\"white\",\"ticks\":\"\"},\"radialaxis\":{\"gridcolor\":\"white\",\"linecolor\":\"white\",\"ticks\":\"\"}},\"ternary\":{\"bgcolor\":\"#E5ECF6\",\"aaxis\":{\"gridcolor\":\"white\",\"linecolor\":\"white\",\"ticks\":\"\"},\"baxis\":{\"gridcolor\":\"white\",\"linecolor\":\"white\",\"ticks\":\"\"},\"caxis\":{\"gridcolor\":\"white\",\"linecolor\":\"white\",\"ticks\":\"\"}},\"coloraxis\":{\"colorbar\":{\"outlinewidth\":0,\"ticks\":\"\"}},\"colorscale\":{\"sequential\":[[0.0,\"#0d0887\"],[0.1111111111111111,\"#46039f\"],[0.2222222222222222,\"#7201a8\"],[0.3333333333333333,\"#9c179e\"],[0.4444444444444444,\"#bd3786\"],[0.5555555555555556,\"#d8576b\"],[0.6666666666666666,\"#ed7953\"],[0.7777777777777778,\"#fb9f3a\"],[0.8888888888888888,\"#fdca26\"],[1.0,\"#f0f921\"]],\"sequentialminus\":[[0.0,\"#0d0887\"],[0.1111111111111111,\"#46039f\"],[0.2222222222222222,\"#7201a8\"],[0.3333333333333333,\"#9c179e\"],[0.4444444444444444,\"#bd3786\"],[0.5555555555555556,\"#d8576b\"],[0.6666666666666666,\"#ed7953\"],[0.7777777777777778,\"#fb9f3a\"],[0.8888888888888888,\"#fdca26\"],[1.0,\"#f0f921\"]],\"diverging\":[[0,\"#8e0152\"],[0.1,\"#c51b7d\"],[0.2,\"#de77ae\"],[0.3,\"#f1b6da\"],[0.4,\"#fde0ef\"],[0.5,\"#f7f7f7\"],[0.6,\"#e6f5d0\"],[0.7,\"#b8e186\"],[0.8,\"#7fbc41\"],[0.9,\"#4d9221\"],[1,\"#276419\"]]},\"xaxis\":{\"gridcolor\":\"white\",\"linecolor\":\"white\",\"ticks\":\"\",\"title\":{\"standoff\":15},\"zerolinecolor\":\"white\",\"automargin\":true,\"zerolinewidth\":2},\"yaxis\":{\"gridcolor\":\"white\",\"linecolor\":\"white\",\"ticks\":\"\",\"title\":{\"standoff\":15},\"zerolinecolor\":\"white\",\"automargin\":true,\"zerolinewidth\":2},\"scene\":{\"xaxis\":{\"backgroundcolor\":\"#E5ECF6\",\"gridcolor\":\"white\",\"linecolor\":\"white\",\"showbackground\":true,\"ticks\":\"\",\"zerolinecolor\":\"white\",\"gridwidth\":2},\"yaxis\":{\"backgroundcolor\":\"#E5ECF6\",\"gridcolor\":\"white\",\"linecolor\":\"white\",\"showbackground\":true,\"ticks\":\"\",\"zerolinecolor\":\"white\",\"gridwidth\":2},\"zaxis\":{\"backgroundcolor\":\"#E5ECF6\",\"gridcolor\":\"white\",\"linecolor\":\"white\",\"showbackground\":true,\"ticks\":\"\",\"zerolinecolor\":\"white\",\"gridwidth\":2}},\"shapedefaults\":{\"line\":{\"color\":\"#2a3f5f\"}},\"annotationdefaults\":{\"arrowcolor\":\"#2a3f5f\",\"arrowhead\":0,\"arrowwidth\":1},\"geo\":{\"bgcolor\":\"white\",\"landcolor\":\"#E5ECF6\",\"subunitcolor\":\"white\",\"showland\":true,\"showlakes\":true,\"lakecolor\":\"white\"},\"title\":{\"x\":0.05},\"mapbox\":{\"style\":\"light\"}}},\"font\":{\"size\":15},\"paper_bgcolor\":\"white\",\"plot_bgcolor\":\"white\",\"width\":770,\"height\":400,\"title\":{\"text\":\"\\u003cb\\u003eExercice Power flow 1 : Problème 1 - results\\u003cb\\u003e\",\"y\":0.97,\"x\":0.5,\"xanchor\":\"center\",\"yanchor\":\"top\"}},                        {\"responsive\": true}                    ).then(function(){\n",
       "                            \n",
       "var gd = document.getElementById('a6c9956c-87ff-4cef-872e-e1f024b17db3');\n",
       "var x = new MutationObserver(function (mutations, observer) {{\n",
       "        var display = window.getComputedStyle(gd).display;\n",
       "        if (!display || display === 'none') {{\n",
       "            console.log([gd, 'removed!']);\n",
       "            Plotly.purge(gd);\n",
       "            observer.disconnect();\n",
       "        }}\n",
       "}});\n",
       "\n",
       "// Listen for the removal of the full notebook cells\n",
       "var notebookContainer = gd.closest('#notebook-container');\n",
       "if (notebookContainer) {{\n",
       "    x.observe(notebookContainer, {childList: true});\n",
       "}}\n",
       "\n",
       "// Listen for the clearing of the current output cell\n",
       "var outputEl = gd.closest('.output');\n",
       "if (outputEl) {{\n",
       "    x.observe(outputEl, {childList: true});\n",
       "}}\n",
       "\n",
       "                        })                };                });            </script>        </div>"
      ]
     },
     "metadata": {},
     "output_type": "display_data"
    },
    {
     "data": {
      "text/html": [
       "<div>\n",
       "<style scoped>\n",
       "    .dataframe tbody tr th:only-of-type {\n",
       "        vertical-align: middle;\n",
       "    }\n",
       "\n",
       "    .dataframe tbody tr th {\n",
       "        vertical-align: top;\n",
       "    }\n",
       "\n",
       "    .dataframe thead th {\n",
       "        text-align: right;\n",
       "    }\n",
       "</style>\n",
       "<table border=\"1\" class=\"dataframe\">\n",
       "  <thead>\n",
       "    <tr style=\"text-align: right;\">\n",
       "      <th></th>\n",
       "      <th>vm_pu</th>\n",
       "      <th>va_degree</th>\n",
       "      <th>p_mw</th>\n",
       "      <th>q_mvar</th>\n",
       "    </tr>\n",
       "  </thead>\n",
       "  <tbody>\n",
       "    <tr>\n",
       "      <th>0</th>\n",
       "      <td>0.989606</td>\n",
       "      <td>5.244486</td>\n",
       "      <td>0.026000</td>\n",
       "      <td>0.010000</td>\n",
       "    </tr>\n",
       "    <tr>\n",
       "      <th>1</th>\n",
       "      <td>0.977588</td>\n",
       "      <td>5.124277</td>\n",
       "      <td>0.037000</td>\n",
       "      <td>0.013500</td>\n",
       "    </tr>\n",
       "    <tr>\n",
       "      <th>2</th>\n",
       "      <td>0.976890</td>\n",
       "      <td>5.117883</td>\n",
       "      <td>0.008000</td>\n",
       "      <td>0.003000</td>\n",
       "    </tr>\n",
       "    <tr>\n",
       "      <th>3</th>\n",
       "      <td>0.972918</td>\n",
       "      <td>5.119530</td>\n",
       "      <td>0.011000</td>\n",
       "      <td>0.004000</td>\n",
       "    </tr>\n",
       "    <tr>\n",
       "      <th>4</th>\n",
       "      <td>0.968881</td>\n",
       "      <td>5.153684</td>\n",
       "      <td>0.012000</td>\n",
       "      <td>0.004000</td>\n",
       "    </tr>\n",
       "    <tr>\n",
       "      <th>5</th>\n",
       "      <td>0.966932</td>\n",
       "      <td>5.170253</td>\n",
       "      <td>0.009000</td>\n",
       "      <td>0.003000</td>\n",
       "    </tr>\n",
       "    <tr>\n",
       "      <th>6</th>\n",
       "      <td>1.045944</td>\n",
       "      <td>7.602490</td>\n",
       "      <td>0.028000</td>\n",
       "      <td>0.010500</td>\n",
       "    </tr>\n",
       "    <tr>\n",
       "      <th>7</th>\n",
       "      <td>1.042622</td>\n",
       "      <td>7.601573</td>\n",
       "      <td>0.014000</td>\n",
       "      <td>0.005000</td>\n",
       "    </tr>\n",
       "    <tr>\n",
       "      <th>8</th>\n",
       "      <td>1.042129</td>\n",
       "      <td>7.596303</td>\n",
       "      <td>0.003000</td>\n",
       "      <td>0.001000</td>\n",
       "    </tr>\n",
       "    <tr>\n",
       "      <th>9</th>\n",
       "      <td>1.040521</td>\n",
       "      <td>7.621372</td>\n",
       "      <td>0.011000</td>\n",
       "      <td>0.004000</td>\n",
       "    </tr>\n",
       "    <tr>\n",
       "      <th>10</th>\n",
       "      <td>1.432764</td>\n",
       "      <td>11.484070</td>\n",
       "      <td>-0.997000</td>\n",
       "      <td>0.001000</td>\n",
       "    </tr>\n",
       "    <tr>\n",
       "      <th>11</th>\n",
       "      <td>1.112314</td>\n",
       "      <td>12.271402</td>\n",
       "      <td>-0.997000</td>\n",
       "      <td>0.001000</td>\n",
       "    </tr>\n",
       "    <tr>\n",
       "      <th>12</th>\n",
       "      <td>1.000000</td>\n",
       "      <td>0.000000</td>\n",
       "      <td>1.392183</td>\n",
       "      <td>-0.382885</td>\n",
       "    </tr>\n",
       "  </tbody>\n",
       "</table>\n",
       "</div>"
      ],
      "text/plain": [
       "       vm_pu  va_degree      p_mw    q_mvar\n",
       "0   0.989606   5.244486  0.026000  0.010000\n",
       "1   0.977588   5.124277  0.037000  0.013500\n",
       "2   0.976890   5.117883  0.008000  0.003000\n",
       "3   0.972918   5.119530  0.011000  0.004000\n",
       "4   0.968881   5.153684  0.012000  0.004000\n",
       "5   0.966932   5.170253  0.009000  0.003000\n",
       "6   1.045944   7.602490  0.028000  0.010500\n",
       "7   1.042622   7.601573  0.014000  0.005000\n",
       "8   1.042129   7.596303  0.003000  0.001000\n",
       "9   1.040521   7.621372  0.011000  0.004000\n",
       "10  1.432764  11.484070 -0.997000  0.001000\n",
       "11  1.112314  12.271402 -0.997000  0.001000\n",
       "12  1.000000   0.000000  1.392183 -0.382885"
      ]
     },
     "execution_count": 184,
     "metadata": {},
     "output_type": "execute_result"
    }
   ],
   "source": [
    "pp_plot.plot_powerflow_result(\n",
    "    net=net_ExPF1_Pb1_heig,\n",
    "    plot_title=\"Exercice Power flow 1 : Problème 1 - results\",\n",
    "    filename=\"net_ex_pf_1_pb_1_grid_pp_result\",\n",
    ")\n",
    "net_ExPF1_Pb1_heig.res_bus"
   ]
  },
  {
   "cell_type": "code",
   "execution_count": 185,
   "metadata": {},
   "outputs": [],
   "source": [
    "# Set the powerprofile in excel before\n",
    "profile_file_path = \"data/power_profile.xlsx\"\n",
    "net_file_path = \"data/trey_power_network.xlsx\"\n",
    "output_folder = \"\"\n",
    "output_filename = \"simulation_results\"\n",
    "# load power profile from excel file\n",
    "time_series = pp_sim.load_power_profile_form_xlsx(file_path=profile_file_path)\n",
    "# time_series[\"load\"][\"p_mw\"]\n",
    "net_trey = pp_sim.load_net_from_xlsx(file_path=net_file_path)"
   ]
  },
  {
   "cell_type": "code",
   "execution_count": 186,
   "metadata": {},
   "outputs": [],
   "source": [
    "pp_sim.apply_power_profile(\n",
    "    net=net_trey, equipment=\"load\", power_profiles=time_series[\"load\"]\n",
    ")\n",
    "# pp_sim.apply_power_profile(\n",
    "#     net=net_trey, equipment=\"sgen\", power_profiles=time_series[\"sgen\"]\n",
    "# )"
   ]
  },
  {
   "cell_type": "code",
   "execution_count": 187,
   "metadata": {},
   "outputs": [],
   "source": [
    "pp_sim.create_output_writer(net=net_trey)\n",
    "# pp_plot.plot_powerflow_result(\n",
    "#     net=net_trey,\n",
    "#     plot_title=\"Test\",\n",
    "#     filename=\"net_trey\",\n",
    "# )"
   ]
  },
  {
   "cell_type": "code",
   "execution_count": 188,
   "metadata": {},
   "outputs": [
    {
     "data": {
      "text/plain": [
       "{'p_mw': profile         0         1         2         3         4         5   \\\n",
       " 00:00:00  0.011253  0.014773  0.006594  0.008576  0.003797  0.005640   \n",
       " 00:15:00  0.010425  0.013649  0.006391  0.007875  0.003487  0.005179   \n",
       " 00:30:00  0.009714  0.012685  0.006296  0.007278  0.003222  0.004786   \n",
       " 00:45:00  0.009099  0.011845  0.006242  0.006758  0.002992  0.004445   \n",
       " 01:00:00  0.008540  0.011077  0.006193  0.006286  0.002783  0.004134   \n",
       " 01:15:00  0.008007  0.010335  0.006093  0.005830  0.002581  0.003834   \n",
       " 01:30:00  0.007515  0.009643  0.005963  0.005405  0.002393  0.003555   \n",
       " 01:45:00  0.007080  0.009029  0.005817  0.005027  0.002226  0.003306   \n",
       " 02:00:00  0.006717  0.008517  0.005663  0.004713  0.002087  0.003099   \n",
       " 02:15:00  0.006453  0.008148  0.005528  0.004485  0.001986  0.002949   \n",
       " 02:30:00  0.006267  0.007893  0.005404  0.004327  0.001916  0.002846   \n",
       " 02:45:00  0.006127  0.007702  0.005288  0.004209  0.001864  0.002768   \n",
       " 03:00:00  0.006021  0.007558  0.005182  0.004123  0.001825  0.002711   \n",
       " 03:15:00  0.005929  0.007434  0.005069  0.004052  0.001794  0.002665   \n",
       " 03:30:00  0.005854  0.007384  0.004965  0.003997  0.001770  0.002628   \n",
       " 03:45:00  0.005792  0.007366  0.004877  0.003950  0.001749  0.002597   \n",
       " 04:00:00  0.005777  0.007362  0.004804  0.003926  0.001738  0.002582   \n",
       " 04:15:00  0.005782  0.007385  0.004762  0.003942  0.001745  0.002592   \n",
       " 04:30:00  0.005799  0.007423  0.004751  0.003965  0.001756  0.002608   \n",
       " 04:45:00  0.005819  0.007464  0.004765  0.003989  0.001766  0.002623   \n",
       " 05:00:00  0.005828  0.007483  0.004813  0.003997  0.001770  0.002628   \n",
       " 05:15:00  0.006026  0.007736  0.004929  0.004146  0.001836  0.002727   \n",
       " 05:30:00  0.006324  0.008117  0.005113  0.004374  0.001937  0.002877   \n",
       " 05:45:00  0.006815  0.008746  0.005382  0.004760  0.002107  0.003130   \n",
       " 06:00:00  0.007567  0.009729  0.005756  0.005366  0.002376  0.003529   \n",
       " 06:15:00  0.008621  0.011128  0.006255  0.006231  0.002759  0.004098   \n",
       " 06:30:00  0.009872  0.012775  0.006904  0.007238  0.003205  0.004760   \n",
       " 06:45:00  0.011178  0.014455  0.007740  0.008237  0.003647  0.005417   \n",
       " 07:00:00  0.012581  0.015989  0.008816  0.009103  0.004030  0.005986   \n",
       " 07:15:00  0.013823  0.017288  0.010048  0.009716  0.004302  0.006390   \n",
       " 07:30:00  0.014883  0.018466  0.011383  0.010118  0.004480  0.006654   \n",
       " 07:45:00  0.015770  0.019362  0.012777  0.010456  0.004629  0.006876   \n",
       " 08:00:00  0.016516  0.020050  0.014242  0.010676  0.004727  0.007021   \n",
       " 08:15:00  0.017119  0.020628  0.015638  0.010842  0.004800  0.007130   \n",
       " 08:30:00  0.017551  0.021049  0.016853  0.011070  0.004901  0.007280   \n",
       " 08:45:00  0.017795  0.021536  0.017965  0.011266  0.004988  0.007409   \n",
       " 09:00:00  0.017852  0.021845  0.018604  0.011392  0.005044  0.007492   \n",
       " 09:15:00  0.018323  0.022105  0.018619  0.011628  0.005148  0.007647   \n",
       " 09:30:00  0.019027  0.022774  0.018140  0.012289  0.005441  0.008082   \n",
       " 09:45:00  0.019516  0.023422  0.017738  0.013060  0.005782  0.008589   \n",
       " 10:00:00  0.019805  0.024180  0.017254  0.013690  0.006061  0.009003   \n",
       " 10:15:00  0.019937  0.024691  0.016521  0.014162  0.006270  0.009313   \n",
       " 10:30:00  0.020008  0.025060  0.015696  0.014524  0.006430  0.009551   \n",
       " 10:45:00  0.020142  0.025524  0.014971  0.014846  0.006573  0.009764   \n",
       " 11:00:00  0.020535  0.026090  0.014532  0.015192  0.006726  0.009991   \n",
       " 11:15:00  0.021124  0.026808  0.014503  0.015601  0.006908  0.010260   \n",
       " 11:30:00  0.021856  0.027566  0.014708  0.016026  0.007096  0.010540   \n",
       " 11:45:00  0.022467  0.028253  0.014902  0.016420  0.007270  0.010798   \n",
       " 12:00:00  0.022801  0.028735  0.014840  0.016695  0.007392  0.010979   \n",
       " 12:15:00  0.022728  0.028838  0.014345  0.016797  0.007437  0.011047   \n",
       " 12:30:00  0.022302  0.028546  0.013542  0.016742  0.007413  0.011010   \n",
       " 12:45:00  0.021609  0.027917  0.012608  0.016443  0.007280  0.010814   \n",
       " 13:00:00  0.020732  0.026956  0.011747  0.015916  0.007047  0.010467   \n",
       " 13:15:00  0.019770  0.025655  0.011090  0.015137  0.006702  0.009955   \n",
       " 13:30:00  0.018762  0.024897  0.010785  0.014232  0.006301  0.009360   \n",
       " 13:45:00  0.018275  0.024274  0.010608  0.013831  0.006124  0.009096   \n",
       " 14:00:00  0.017785  0.023610  0.010476  0.013493  0.005974  0.008874   \n",
       " 14:15:00  0.017278  0.022928  0.010303  0.013155  0.005824  0.008651   \n",
       " 14:30:00  0.016789  0.022269  0.010098  0.012832  0.005681  0.008439   \n",
       " 14:45:00  0.016330  0.021648  0.009883  0.012525  0.005546  0.008237   \n",
       " 15:00:00  0.015931  0.021092  0.009673  0.012242  0.005420  0.008051   \n",
       " 15:15:00  0.015606  0.020614  0.009489  0.011982  0.005305  0.007880   \n",
       " 15:30:00  0.015358  0.020227  0.009384  0.011762  0.005208  0.007735   \n",
       " 15:45:00  0.015172  0.019919  0.009387  0.011644  0.005155  0.007658   \n",
       " 16:00:00  0.015055  0.019783  0.009429  0.011589  0.005131  0.007621   \n",
       " 16:15:00  0.014995  0.019625  0.009527  0.011502  0.005093  0.007565   \n",
       " 16:30:00  0.015036  0.019620  0.009729  0.011439  0.005065  0.007523   \n",
       " 16:45:00  0.015182  0.019776  0.010084  0.011542  0.005110  0.007590   \n",
       " 17:00:00  0.015824  0.020530  0.010642  0.011919  0.005277  0.007839   \n",
       " 17:15:00  0.016986  0.021958  0.011441  0.012738  0.005640  0.008377   \n",
       " 17:30:00  0.018437  0.023723  0.012463  0.013737  0.006082  0.009034   \n",
       " 17:45:00  0.019973  0.025543  0.013667  0.014744  0.006528  0.009696   \n",
       " 18:00:00  0.021374  0.027125  0.015024  0.015586  0.006901  0.010250   \n",
       " 18:15:00  0.022492  0.028272  0.016478  0.016144  0.007148  0.010617   \n",
       " 18:30:00  0.023327  0.029018  0.017883  0.016451  0.007284  0.010819   \n",
       " 18:45:00  0.023958  0.029507  0.019095  0.016608  0.007353  0.010923   \n",
       " 19:00:00  0.024438  0.029846  0.019949  0.016695  0.007392  0.010979   \n",
       " 19:15:00  0.024801  0.030119  0.020330  0.016774  0.007427  0.011031   \n",
       " 19:30:00  0.024922  0.030174  0.020235  0.016758  0.007420  0.011021   \n",
       " 19:45:00  0.024661  0.029841  0.019697  0.016553  0.007329  0.010886   \n",
       " 20:00:00  0.023865  0.028923  0.018873  0.016042  0.007103  0.010550   \n",
       " 20:15:00  0.022465  0.027333  0.017546  0.015177  0.006719  0.009981   \n",
       " 20:30:00  0.020698  0.025758  0.015946  0.014571  0.006451  0.009582   \n",
       " 20:45:00  0.019572  0.024507  0.014414  0.013894  0.006152  0.009137   \n",
       " 21:00:00  0.018406  0.023177  0.013026  0.013162  0.005828  0.008656   \n",
       " 21:15:00  0.017563  0.022073  0.012196  0.012596  0.005577  0.008284   \n",
       " 21:30:00  0.017172  0.021719  0.011470  0.012462  0.005518  0.008196   \n",
       " 21:45:00  0.016821  0.021377  0.010829  0.012336  0.005462  0.008113   \n",
       " 22:00:00  0.016384  0.021041  0.010255  0.012179  0.005392  0.008010   \n",
       " 22:15:00  0.015923  0.020608  0.009760  0.011951  0.005291  0.007859   \n",
       " 22:30:00  0.015450  0.020083  0.009291  0.011770  0.005211  0.007740   \n",
       " 22:45:00  0.015181  0.019981  0.008831  0.011754  0.005204  0.007730   \n",
       " 23:00:00  0.014824  0.019557  0.008357  0.011526  0.005103  0.007580   \n",
       " 23:15:00  0.014146  0.018676  0.007888  0.010999  0.004870  0.007233   \n",
       " 23:30:00  0.013240  0.017464  0.007426  0.010251  0.004539  0.006742   \n",
       " 23:45:00  0.012229  0.016098  0.006986  0.009402  0.004163  0.006183   \n",
       " \n",
       " profile         6         7         8         9         10        11  \n",
       " 00:00:00  0.019429  0.008903  0.003136  0.009859  0.009168  0.010456  \n",
       " 00:15:00  0.017842  0.008176  0.002880  0.009054  0.008914  0.010167  \n",
       " 00:30:00  0.016488  0.007555  0.002661  0.008366  0.008806  0.010043  \n",
       " 00:45:00  0.015311  0.007016  0.002471  0.007770  0.008758  0.009988  \n",
       " 01:00:00  0.014242  0.006526  0.002299  0.007227  0.008721  0.009947  \n",
       " 01:15:00  0.013208  0.006052  0.002132  0.006702  0.008625  0.009837  \n",
       " 01:30:00  0.012245  0.005611  0.001976  0.006214  0.008492  0.009685  \n",
       " 01:45:00  0.011390  0.005219  0.001838  0.005780  0.008335  0.009507  \n",
       " 02:00:00  0.010677  0.004892  0.001723  0.005418  0.008155  0.009300  \n",
       " 02:15:00  0.010160  0.004655  0.001640  0.005156  0.007986  0.009108  \n",
       " 02:30:00  0.009803  0.004492  0.001582  0.004975  0.007817  0.008915  \n",
       " 02:45:00  0.009536  0.004370  0.001539  0.004839  0.007648  0.008722  \n",
       " 03:00:00  0.009340  0.004280  0.001507  0.004739  0.007491  0.008544  \n",
       " 03:15:00  0.009180  0.004206  0.001482  0.004658  0.007322  0.008351  \n",
       " 03:30:00  0.009055  0.004149  0.001461  0.004595  0.007165  0.008172  \n",
       " 03:45:00  0.008948  0.004100  0.001444  0.004541  0.007033  0.008021  \n",
       " 04:00:00  0.008894  0.004076  0.001436  0.004513  0.006924  0.007897  \n",
       " 04:15:00  0.008930  0.004092  0.001441  0.004531  0.006864  0.007828  \n",
       " 04:30:00  0.008983  0.004116  0.001450  0.004559  0.006852  0.007814  \n",
       " 04:45:00  0.009037  0.004141  0.001459  0.004586  0.006876  0.007842  \n",
       " 05:00:00  0.009055  0.004149  0.001461  0.004595  0.006924  0.007897  \n",
       " 05:15:00  0.009393  0.004304  0.001516  0.004767  0.007093  0.008090  \n",
       " 05:30:00  0.009910  0.004541  0.001599  0.005029  0.007346  0.008378  \n",
       " 05:45:00  0.010784  0.004941  0.001740  0.005472  0.007696  0.008777  \n",
       " 06:00:00  0.012156  0.005570  0.001962  0.006169  0.008263  0.009424  \n",
       " 06:15:00  0.014117  0.006469  0.002278  0.007164  0.009083  0.010360  \n",
       " 06:30:00  0.016398  0.007514  0.002647  0.008321  0.010145  0.011570  \n",
       " 06:45:00  0.018662  0.008551  0.003012  0.009470  0.011436  0.013042  \n",
       " 07:00:00  0.020623  0.009450  0.003328  0.010465  0.012956  0.014776  \n",
       " 07:15:00  0.022013  0.010087  0.003553  0.011170  0.014705  0.016771  \n",
       " 07:30:00  0.022922  0.010503  0.003700  0.011632  0.016623  0.018958  \n",
       " 07:45:00  0.023689  0.010855  0.003823  0.012021  0.018697  0.021325  \n",
       " 08:00:00  0.024188  0.011083  0.003904  0.012274  0.020893  0.023828  \n",
       " 08:15:00  0.024562  0.011255  0.003964  0.012464  0.023125  0.026374  \n",
       " 08:30:00  0.025079  0.011492  0.004048  0.012726  0.025163  0.028699  \n",
       " 08:45:00  0.025524  0.011696  0.004120  0.012952  0.026707  0.030460  \n",
       " 09:00:00  0.025810  0.011826  0.004166  0.013097  0.027491  0.031354  \n",
       " 09:15:00  0.026344  0.012071  0.004252  0.013368  0.027310  0.031148  \n",
       " 09:30:00  0.027842  0.012758  0.004494  0.014128  0.026369  0.030075  \n",
       " 09:45:00  0.029588  0.013558  0.004775  0.015014  0.025585  0.029180  \n",
       " 10:00:00  0.031014  0.014211  0.005006  0.015738  0.024801  0.028286  \n",
       " 10:15:00  0.032084  0.014701  0.005178  0.016281  0.023631  0.026951  \n",
       " 10:30:00  0.032904  0.015077  0.005311  0.016697  0.022316  0.025452  \n",
       " 10:45:00  0.033635  0.015412  0.005428  0.017068  0.021158  0.024131  \n",
       " 11:00:00  0.034419  0.015771  0.005555  0.017466  0.020447  0.023319  \n",
       " 11:15:00  0.035346  0.016196  0.005705  0.017936  0.020374  0.023237  \n",
       " 11:30:00  0.036308  0.016637  0.005860  0.018424  0.020664  0.023567  \n",
       " 11:45:00  0.037199  0.017045  0.006004  0.018877  0.020929  0.023870  \n",
       " 12:00:00  0.037823  0.017331  0.006105  0.019193  0.020784  0.023705  \n",
       " 12:15:00  0.038055  0.017437  0.006142  0.019311  0.019952  0.022755  \n",
       " 12:30:00  0.037930  0.017380  0.006122  0.019247  0.018637  0.021256  \n",
       " 12:45:00  0.037253  0.017070  0.006012  0.018904  0.017129  0.019536  \n",
       " 13:00:00  0.036059  0.016523  0.005820  0.018298  0.015754  0.017968  \n",
       " 13:15:00  0.034294  0.015714  0.005535  0.017402  0.014729  0.016798  \n",
       " 13:30:00  0.032244  0.014775  0.005204  0.016362  0.014102  0.016083  \n",
       " 13:45:00  0.031335  0.014358  0.005057  0.015901  0.014005  0.015973  \n",
       " 14:00:00  0.030569  0.014007  0.004934  0.015512  0.013969  0.015932  \n",
       " 14:15:00  0.029802  0.013656  0.004810  0.015123  0.013848  0.015794  \n",
       " 14:30:00  0.029072  0.013321  0.004692  0.014752  0.013655  0.015574  \n",
       " 14:45:00  0.028376  0.013003  0.004580  0.014399  0.013426  0.015312  \n",
       " 15:00:00  0.027735  0.012709  0.004476  0.014074  0.013185  0.015037  \n",
       " 15:15:00  0.027146  0.012439  0.004381  0.013775  0.013064  0.014900  \n",
       " 15:30:00  0.026647  0.012210  0.004301  0.013522  0.013064  0.014900  \n",
       " 15:45:00  0.026380  0.012088  0.004258  0.013386  0.013100  0.014941  \n",
       " 16:00:00  0.026255  0.012031  0.004237  0.013323  0.013185  0.015037  \n",
       " 16:15:00  0.026059  0.011941  0.004206  0.013224  0.013342  0.015216  \n",
       " 16:30:00  0.025917  0.011875  0.004183  0.013151  0.013643  0.015560  \n",
       " 16:45:00  0.026148  0.011982  0.004220  0.013269  0.014162  0.016152  \n",
       " 17:00:00  0.027004  0.012374  0.004358  0.013703  0.014970  0.017073  \n",
       " 17:15:00  0.028858  0.013223  0.004657  0.014644  0.016128  0.018394  \n",
       " 17:30:00  0.031121  0.014260  0.005023  0.015792  0.017612  0.020086  \n",
       " 17:45:00  0.033403  0.015306  0.005391  0.016950  0.019361  0.022081  \n",
       " 18:00:00  0.035310  0.016180  0.005699  0.017918  0.021339  0.024338  \n",
       " 18:15:00  0.036576  0.016760  0.005903  0.018560  0.023462  0.026759  \n",
       " 18:30:00  0.037271  0.017078  0.006015  0.018913  0.025513  0.029098  \n",
       " 18:45:00  0.037627  0.017241  0.006073  0.019094  0.027274  0.031106  \n",
       " 19:00:00  0.037823  0.017331  0.006105  0.019193  0.028493  0.032496  \n",
       " 19:15:00  0.038002  0.017413  0.006133  0.019284  0.028999  0.033074  \n",
       " 19:30:00  0.037966  0.017397  0.006128  0.019265  0.028794  0.032840  \n",
       " 19:45:00  0.037502  0.017184  0.006053  0.019030  0.028094  0.032042  \n",
       " 20:00:00  0.036344  0.016653  0.005866  0.018442  0.026816  0.030584  \n",
       " 20:15:00  0.034383  0.015755  0.005549  0.017447  0.024813  0.028300  \n",
       " 20:30:00  0.033011  0.015126  0.005328  0.016751  0.022377  0.025521  \n",
       " 20:45:00  0.031478  0.014424  0.005080  0.015973  0.020036  0.022852  \n",
       " 21:00:00  0.029820  0.013664  0.004813  0.015132  0.018106  0.020650  \n",
       " 21:15:00  0.028537  0.013076  0.004606  0.014481  0.016840  0.019206  \n",
       " 21:30:00  0.028234  0.012937  0.004557  0.014327  0.015718  0.017926  \n",
       " 21:45:00  0.027949  0.012807  0.004511  0.014182  0.014729  0.016798  \n",
       " 22:00:00  0.027592  0.012643  0.004453  0.014001  0.013860  0.015808  \n",
       " 22:15:00  0.027075  0.012406  0.004370  0.013739  0.013076  0.014913  \n",
       " 22:30:00  0.026665  0.012219  0.004304  0.013531  0.012364  0.014102  \n",
       " 22:45:00  0.026630  0.012202  0.004298  0.013513  0.011785  0.013441  \n",
       " 23:00:00  0.026113  0.011965  0.004214  0.013251  0.011291  0.012877  \n",
       " 23:15:00  0.024918  0.011418  0.004022  0.012645  0.010748  0.012258  \n",
       " 23:30:00  0.023225  0.010642  0.003748  0.011785  0.010205  0.011639  \n",
       " 23:45:00  0.021300  0.009760  0.003438  0.010809  0.009662  0.011020  ,\n",
       " 'q_mvar': profile         0         1         2         3         4         5   \\\n",
       " 00:00:00  0.005450  0.007155  0.003194  0.003814  0.001839  0.002731   \n",
       " 00:15:00  0.005049  0.006611  0.003095  0.003525  0.001689  0.002508   \n",
       " 00:30:00  0.004705  0.006144  0.003049  0.003273  0.001561  0.002318   \n",
       " 00:45:00  0.004407  0.005737  0.003023  0.003045  0.001449  0.002153   \n",
       " 01:00:00  0.004136  0.005365  0.002999  0.002824  0.001348  0.002002   \n",
       " 01:15:00  0.003878  0.005006  0.002951  0.002618  0.001250  0.001857   \n",
       " 01:30:00  0.003640  0.004670  0.002888  0.002435  0.001159  0.001722   \n",
       " 01:45:00  0.003429  0.004373  0.002817  0.002282  0.001078  0.001601   \n",
       " 02:00:00  0.003253  0.004125  0.002743  0.002172  0.001011  0.001501   \n",
       " 02:15:00  0.003125  0.003946  0.002677  0.002096  0.000962  0.001428   \n",
       " 02:30:00  0.003035  0.003823  0.002617  0.002039  0.000928  0.001378   \n",
       " 02:45:00  0.002967  0.003730  0.002561  0.001997  0.000903  0.001341   \n",
       " 03:00:00  0.002916  0.003661  0.002510  0.001962  0.000884  0.001313   \n",
       " 03:15:00  0.002871  0.003601  0.002455  0.001936  0.000869  0.001291   \n",
       " 03:30:00  0.002835  0.003576  0.002405  0.001913  0.000857  0.001273   \n",
       " 03:45:00  0.002805  0.003568  0.002362  0.001901  0.000847  0.001258   \n",
       " 04:00:00  0.002798  0.003565  0.002326  0.001909  0.000842  0.001250   \n",
       " 04:15:00  0.002800  0.003577  0.002306  0.001920  0.000845  0.001255   \n",
       " 04:30:00  0.002809  0.003595  0.002301  0.001932  0.000850  0.001263   \n",
       " 04:45:00  0.002818  0.003615  0.002308  0.001936  0.000855  0.001271   \n",
       " 05:00:00  0.002822  0.003624  0.002331  0.002008  0.000857  0.001273   \n",
       " 05:15:00  0.002918  0.003747  0.002387  0.002119  0.000889  0.001321   \n",
       " 05:30:00  0.003063  0.003931  0.002476  0.002305  0.000938  0.001393   \n",
       " 05:45:00  0.003301  0.004236  0.002607  0.002599  0.001021  0.001516   \n",
       " 06:00:00  0.003665  0.004712  0.002788  0.003018  0.001151  0.001709   \n",
       " 06:15:00  0.004176  0.005389  0.003030  0.003506  0.001336  0.001985   \n",
       " 06:30:00  0.004781  0.006187  0.003344  0.003990  0.001552  0.002305   \n",
       " 06:45:00  0.005414  0.007001  0.003749  0.004409  0.001766  0.002624   \n",
       " 07:00:00  0.006093  0.007744  0.004270  0.004706  0.001952  0.002899   \n",
       " 07:15:00  0.006695  0.008373  0.004867  0.004900  0.002084  0.003095   \n",
       " 07:30:00  0.007208  0.008943  0.005513  0.005064  0.002170  0.003223   \n",
       " 07:45:00  0.007638  0.009378  0.006188  0.005171  0.002242  0.003330   \n",
       " 08:00:00  0.007999  0.009711  0.006898  0.005251  0.002289  0.003401   \n",
       " 08:15:00  0.008291  0.009991  0.007574  0.005361  0.002325  0.003453   \n",
       " 08:30:00  0.008500  0.010195  0.008162  0.005457  0.002374  0.003526   \n",
       " 08:45:00  0.008619  0.010430  0.008701  0.005518  0.002416  0.003588   \n",
       " 09:00:00  0.008646  0.010580  0.009010  0.005632  0.002443  0.003629   \n",
       " 09:15:00  0.008874  0.010706  0.009018  0.005952  0.002493  0.003704   \n",
       " 09:30:00  0.009215  0.011030  0.008786  0.006325  0.002635  0.003914   \n",
       " 09:45:00  0.009452  0.011344  0.008591  0.006630  0.002801  0.004160   \n",
       " 10:00:00  0.009592  0.011711  0.008356  0.006859  0.002936  0.004360   \n",
       " 10:15:00  0.009656  0.011958  0.008001  0.007034  0.003037  0.004511   \n",
       " 10:30:00  0.009690  0.012137  0.007602  0.007190  0.003114  0.004626   \n",
       " 10:45:00  0.009755  0.012362  0.007251  0.007358  0.003184  0.004729   \n",
       " 11:00:00  0.009946  0.012636  0.007038  0.007556  0.003258  0.004839   \n",
       " 11:15:00  0.010231  0.012983  0.007024  0.007762  0.003345  0.004969   \n",
       " 11:30:00  0.010585  0.013351  0.007123  0.007952  0.003437  0.005105   \n",
       " 11:45:00  0.010881  0.013684  0.007217  0.008086  0.003521  0.005230   \n",
       " 12:00:00  0.011043  0.013917  0.007187  0.008135  0.003580  0.005318   \n",
       " 12:15:00  0.011007  0.013967  0.006947  0.008109  0.003602  0.005350   \n",
       " 12:30:00  0.010801  0.013825  0.006559  0.007964  0.003590  0.005333   \n",
       " 12:45:00  0.010466  0.013521  0.006106  0.007709  0.003526  0.005237   \n",
       " 13:00:00  0.010041  0.013055  0.005689  0.007331  0.003413  0.005069   \n",
       " 13:15:00  0.009575  0.012425  0.005371  0.006893  0.003246  0.004821   \n",
       " 13:30:00  0.009087  0.012058  0.005223  0.006699  0.003052  0.004533   \n",
       " 13:45:00  0.008851  0.011757  0.005138  0.006535  0.002966  0.004405   \n",
       " 14:00:00  0.008614  0.011435  0.005074  0.006371  0.002893  0.004298   \n",
       " 14:15:00  0.008368  0.011104  0.004990  0.006215  0.002821  0.004190   \n",
       " 14:30:00  0.008131  0.010786  0.004891  0.006066  0.002752  0.004087   \n",
       " 14:45:00  0.007909  0.010485  0.004787  0.005929  0.002686  0.003989   \n",
       " 15:00:00  0.007716  0.010215  0.004685  0.005803  0.002625  0.003899   \n",
       " 15:15:00  0.007559  0.009984  0.004596  0.005697  0.002569  0.003817   \n",
       " 15:30:00  0.007438  0.009796  0.004545  0.005639  0.002522  0.003746   \n",
       " 15:45:00  0.007348  0.009647  0.004546  0.005613  0.002497  0.003709   \n",
       " 16:00:00  0.007292  0.009581  0.004567  0.005571  0.002485  0.003691   \n",
       " 16:15:00  0.007263  0.009505  0.004614  0.005540  0.002467  0.003664   \n",
       " 16:30:00  0.007282  0.009502  0.004712  0.005590  0.002453  0.003644   \n",
       " 16:45:00  0.007353  0.009578  0.004884  0.005773  0.002475  0.003676   \n",
       " 17:00:00  0.007664  0.009943  0.005154  0.006169  0.002556  0.003796   \n",
       " 17:15:00  0.008227  0.010635  0.005541  0.006653  0.002731  0.004057   \n",
       " 17:30:00  0.008929  0.011490  0.006036  0.007141  0.002946  0.004375   \n",
       " 17:45:00  0.009673  0.012371  0.006619  0.007548  0.003162  0.004696   \n",
       " 18:00:00  0.010352  0.013137  0.007277  0.007819  0.003342  0.004964   \n",
       " 18:15:00  0.010893  0.013693  0.007981  0.007968  0.003462  0.005142   \n",
       " 18:30:00  0.011298  0.014054  0.008661  0.008044  0.003528  0.005240   \n",
       " 18:45:00  0.011603  0.014291  0.009248  0.008086  0.003561  0.005290   \n",
       " 19:00:00  0.011836  0.014455  0.009662  0.008124  0.003580  0.005318   \n",
       " 19:15:00  0.012011  0.014588  0.009846  0.008116  0.003597  0.005343   \n",
       " 19:30:00  0.012070  0.014614  0.009800  0.008017  0.003593  0.005338   \n",
       " 19:45:00  0.011944  0.014453  0.009540  0.007770  0.003550  0.005272   \n",
       " 20:00:00  0.011558  0.014008  0.009141  0.007350  0.003440  0.005110   \n",
       " 20:15:00  0.010880  0.013238  0.008498  0.007057  0.003254  0.004834   \n",
       " 20:30:00  0.010024  0.012475  0.007723  0.006729  0.003124  0.004641   \n",
       " 20:45:00  0.009479  0.011869  0.006981  0.006375  0.002979  0.004425   \n",
       " 21:00:00  0.008915  0.011225  0.006309  0.006101  0.002822  0.004192   \n",
       " 21:15:00  0.008506  0.010691  0.005907  0.006036  0.002701  0.004012   \n",
       " 21:30:00  0.008317  0.010519  0.005555  0.005975  0.002672  0.003969   \n",
       " 21:45:00  0.008147  0.010353  0.005245  0.005899  0.002645  0.003929   \n",
       " 22:00:00  0.007935  0.010191  0.004967  0.005788  0.002612  0.003879   \n",
       " 22:15:00  0.007712  0.009981  0.004727  0.005700  0.002563  0.003807   \n",
       " 22:30:00  0.007483  0.009727  0.004500  0.005693  0.002524  0.003749   \n",
       " 22:45:00  0.007353  0.009677  0.004277  0.005582  0.002520  0.003744   \n",
       " 23:00:00  0.007179  0.009472  0.004048  0.005327  0.002472  0.003671   \n",
       " 23:15:00  0.006851  0.009045  0.003820  0.004965  0.002359  0.003503   \n",
       " 23:30:00  0.006413  0.008458  0.003597  0.004553  0.002198  0.003265   \n",
       " 23:45:00  0.005923  0.007796  0.003383  0.004553  0.002016  0.002995   \n",
       " \n",
       " profile         6         7         8         9         10        11  \n",
       " 00:00:00  0.009410  0.004312  0.001519  0.004775  0.004440  0.005064  \n",
       " 00:15:00  0.008641  0.003960  0.001395  0.004385  0.004317  0.004924  \n",
       " 00:30:00  0.007985  0.003659  0.001289  0.004052  0.004265  0.004864  \n",
       " 00:45:00  0.007416  0.003398  0.001197  0.003763  0.004242  0.004837  \n",
       " 01:00:00  0.006898  0.003161  0.001113  0.003500  0.004224  0.004817  \n",
       " 01:15:00  0.006397  0.002931  0.001032  0.003246  0.004177  0.004764  \n",
       " 01:30:00  0.005931  0.002718  0.000957  0.003009  0.004113  0.004691  \n",
       " 01:45:00  0.005516  0.002528  0.000890  0.002799  0.004037  0.004604  \n",
       " 02:00:00  0.005171  0.002369  0.000835  0.002624  0.003949  0.004504  \n",
       " 02:15:00  0.004921  0.002255  0.000794  0.002497  0.003868  0.004411  \n",
       " 02:30:00  0.004748  0.002176  0.000766  0.002409  0.003786  0.004318  \n",
       " 02:45:00  0.004619  0.002116  0.000745  0.002344  0.003704  0.004224  \n",
       " 03:00:00  0.004524  0.002073  0.000730  0.002295  0.003628  0.004138  \n",
       " 03:15:00  0.004446  0.002037  0.000718  0.002256  0.003546  0.004045  \n",
       " 03:30:00  0.004385  0.002009  0.000708  0.002225  0.003470  0.003958  \n",
       " 03:45:00  0.004334  0.001986  0.000699  0.002199  0.003406  0.003885  \n",
       " 04:00:00  0.004308  0.001974  0.000695  0.002186  0.003353  0.003825  \n",
       " 04:15:00  0.004325  0.001982  0.000698  0.002195  0.003324  0.003791  \n",
       " 04:30:00  0.004351  0.001994  0.000702  0.002208  0.003318  0.003785  \n",
       " 04:45:00  0.004377  0.002006  0.000706  0.002221  0.003330  0.003798  \n",
       " 05:00:00  0.004385  0.002009  0.000708  0.002225  0.003353  0.003825  \n",
       " 05:15:00  0.004549  0.002085  0.000734  0.002309  0.003435  0.003918  \n",
       " 05:30:00  0.004800  0.002199  0.000775  0.002436  0.003558  0.004058  \n",
       " 05:45:00  0.005223  0.002393  0.000843  0.002650  0.003727  0.004251  \n",
       " 06:00:00  0.005888  0.002698  0.000950  0.002988  0.004002  0.004564  \n",
       " 06:15:00  0.006837  0.003133  0.001103  0.003469  0.004399  0.005017  \n",
       " 06:30:00  0.007942  0.003639  0.001282  0.004030  0.004913  0.005604  \n",
       " 06:45:00  0.009038  0.004142  0.001459  0.004586  0.005539  0.006317  \n",
       " 07:00:00  0.009988  0.004577  0.001612  0.005068  0.006275  0.007156  \n",
       " 07:15:00  0.010661  0.004885  0.001721  0.005410  0.007122  0.008122  \n",
       " 07:30:00  0.011102  0.005087  0.001792  0.005633  0.008051  0.009182  \n",
       " 07:45:00  0.011473  0.005257  0.001852  0.005822  0.009056  0.010328  \n",
       " 08:00:00  0.011715  0.005368  0.001891  0.005944  0.010119  0.011541  \n",
       " 08:15:00  0.011896  0.005451  0.001920  0.006036  0.011200  0.012773  \n",
       " 08:30:00  0.012146  0.005566  0.001960  0.006164  0.012187  0.013899  \n",
       " 08:45:00  0.012362  0.005665  0.001995  0.006273  0.012935  0.014752  \n",
       " 09:00:00  0.012500  0.005728  0.002017  0.006343  0.013315  0.015185  \n",
       " 09:15:00  0.012759  0.005846  0.002059  0.006475  0.013227  0.015085  \n",
       " 09:30:00  0.013484  0.006179  0.002176  0.006843  0.012771  0.014566  \n",
       " 09:45:00  0.014330  0.006566  0.002313  0.007272  0.012392  0.014133  \n",
       " 10:00:00  0.015021  0.006883  0.002424  0.007622  0.012012  0.013700  \n",
       " 10:15:00  0.015539  0.007120  0.002508  0.007885  0.011445  0.013053  \n",
       " 10:30:00  0.015936  0.007302  0.002572  0.008087  0.010808  0.012327  \n",
       " 10:45:00  0.016290  0.007464  0.002629  0.008266  0.010247  0.011687  \n",
       " 11:00:00  0.016670  0.007638  0.002690  0.008459  0.009903  0.011294  \n",
       " 11:15:00  0.017119  0.007844  0.002763  0.008687  0.009868  0.011254  \n",
       " 11:30:00  0.017585  0.008058  0.002838  0.008923  0.010008  0.011414  \n",
       " 11:45:00  0.018017  0.008255  0.002908  0.009142  0.010136  0.011561  \n",
       " 12:00:00  0.018319  0.008394  0.002957  0.009296  0.010066  0.011481  \n",
       " 12:15:00  0.018431  0.008445  0.002975  0.009353  0.009663  0.011021  \n",
       " 12:30:00  0.018370  0.008418  0.002965  0.009322  0.009026  0.010295  \n",
       " 12:45:00  0.018042  0.008267  0.002912  0.009155  0.008296  0.009462  \n",
       " 13:00:00  0.017464  0.008002  0.002819  0.008862  0.007630  0.008702  \n",
       " 13:15:00  0.016609  0.007611  0.002681  0.008428  0.007133  0.008136  \n",
       " 13:30:00  0.015617  0.007156  0.002520  0.007925  0.006830  0.007789  \n",
       " 13:45:00  0.015176  0.006954  0.002449  0.007701  0.006783  0.007736  \n",
       " 14:00:00  0.014805  0.006784  0.002389  0.007513  0.006765  0.007716  \n",
       " 14:15:00  0.014434  0.006614  0.002330  0.007324  0.006707  0.007649  \n",
       " 14:30:00  0.014080  0.006452  0.002272  0.007145  0.006614  0.007543  \n",
       " 14:45:00  0.013743  0.006297  0.002218  0.006974  0.006503  0.007416  \n",
       " 15:00:00  0.013433  0.006155  0.002168  0.006816  0.006386  0.007283  \n",
       " 15:15:00  0.013148  0.006024  0.002122  0.006672  0.006327  0.007216  \n",
       " 15:30:00  0.012906  0.005914  0.002083  0.006549  0.006327  0.007216  \n",
       " 15:45:00  0.012776  0.005854  0.002062  0.006483  0.006345  0.007236  \n",
       " 16:00:00  0.012716  0.005827  0.002052  0.006453  0.006386  0.007283  \n",
       " 16:15:00  0.012621  0.005783  0.002037  0.006404  0.006462  0.007369  \n",
       " 16:30:00  0.012552  0.005752  0.002026  0.006369  0.006608  0.007536  \n",
       " 16:45:00  0.012664  0.005803  0.002044  0.006426  0.006859  0.007823  \n",
       " 17:00:00  0.013079  0.005993  0.002111  0.006637  0.007250  0.008269  \n",
       " 17:15:00  0.013976  0.006404  0.002256  0.007092  0.007811  0.008909  \n",
       " 17:30:00  0.015073  0.006907  0.002433  0.007649  0.008530  0.009728  \n",
       " 17:45:00  0.016178  0.007413  0.002611  0.008209  0.009377  0.010694  \n",
       " 18:00:00  0.017101  0.007836  0.002760  0.008678  0.010335  0.011787  \n",
       " 18:15:00  0.017714  0.008117  0.002859  0.008989  0.011363  0.012960  \n",
       " 18:30:00  0.018051  0.008271  0.002913  0.009160  0.012357  0.014093  \n",
       " 18:45:00  0.018224  0.008350  0.002941  0.009247  0.013210  0.015065  \n",
       " 19:00:00  0.018319  0.008394  0.002957  0.009296  0.013800  0.015738  \n",
       " 19:15:00  0.018405  0.008433  0.002970  0.009339  0.014045  0.016018  \n",
       " 19:30:00  0.018388  0.008426  0.002968  0.009331  0.013946  0.015905  \n",
       " 19:45:00  0.018163  0.008323  0.002931  0.009217  0.013607  0.015519  \n",
       " 20:00:00  0.017602  0.008066  0.002841  0.008932  0.012987  0.014812  \n",
       " 20:15:00  0.016653  0.007630  0.002688  0.008450  0.012018  0.013706  \n",
       " 20:30:00  0.015988  0.007326  0.002580  0.008113  0.010838  0.012360  \n",
       " 20:45:00  0.015245  0.006986  0.002461  0.007736  0.009704  0.011068  \n",
       " 21:00:00  0.014443  0.006618  0.002331  0.007329  0.008769  0.010001  \n",
       " 21:15:00  0.013821  0.006333  0.002231  0.007013  0.008156  0.009302  \n",
       " 21:30:00  0.013674  0.006266  0.002207  0.006939  0.007613  0.008682  \n",
       " 21:45:00  0.013536  0.006202  0.002185  0.006869  0.007133  0.008136  \n",
       " 22:00:00  0.013363  0.006123  0.002157  0.006781  0.006713  0.007656  \n",
       " 22:15:00  0.013113  0.006009  0.002116  0.006654  0.006333  0.007223  \n",
       " 22:30:00  0.012915  0.005918  0.002084  0.006553  0.005988  0.006830  \n",
       " 22:45:00  0.012897  0.005910  0.002082  0.006545  0.005708  0.006510  \n",
       " 23:00:00  0.012647  0.005795  0.002041  0.006418  0.005468  0.006237  \n",
       " 23:15:00  0.012069  0.005530  0.001948  0.006124  0.005206  0.005937  \n",
       " 23:30:00  0.011248  0.005154  0.001815  0.005708  0.004943  0.005637  \n",
       " 23:45:00  0.010316  0.004727  0.001665  0.005235  0.004680  0.005337  }"
      ]
     },
     "execution_count": 188,
     "metadata": {},
     "output_type": "execute_result"
    }
   ],
   "source": [
    "time_series[\"load\"]"
   ]
  },
  {
   "cell_type": "code",
   "execution_count": 198,
   "metadata": {},
   "outputs": [
    {
     "name": "stderr",
     "output_type": "stream",
     "text": [
      "/home/karim/miniforge3/lib/python3.12/site-packages/pandapower/timeseries/output_writer.py:177: FutureWarning:\n",
      "\n",
      "Setting an item of incompatible dtype is deprecated and will raise in a future error of pandas. Value 'range(0, 96)' has dtype incompatible with bool, please explicitly cast to a compatible dtype first.\n",
      "\n"
     ]
    },
    {
     "data": {
      "text/plain": [
       "0     0.989862\n",
       "1     0.982825\n",
       "2     0.982188\n",
       "3     0.979839\n",
       "4     0.977818\n",
       "5     0.976458\n",
       "6     1.046533\n",
       "7     1.043571\n",
       "8     1.042966\n",
       "9     1.041466\n",
       "10    1.430919\n",
       "11    1.111166\n",
       "12    1.000000\n",
       "Name: vm_pu, dtype: float64"
      ]
     },
     "execution_count": 198,
     "metadata": {},
     "output_type": "execute_result"
    }
   ],
   "source": [
    "test = pp_sim.run_time_simulation(net=net_trey)\n",
    "net_trey.res_bus[\"vm_pu\"]"
   ]
  },
  {
   "cell_type": "code",
   "execution_count": 196,
   "metadata": {},
   "outputs": [
    {
     "ename": "AttributeError",
     "evalue": "'Series' object has no attribute 'columns'",
     "output_type": "error",
     "traceback": [
      "\u001b[0;31m---------------------------------------------------------------------------\u001b[0m",
      "\u001b[0;31mAttributeError\u001b[0m                            Traceback (most recent call last)",
      "\u001b[0;32m/tmp/ipykernel_30374/2592021446.py\u001b[0m in \u001b[0;36m?\u001b[0;34m()\u001b[0m\n\u001b[0;32m----> 1\u001b[0;31m pp_plot.plot_timeseries_result(\n\u001b[0m\u001b[1;32m      2\u001b[0m     \u001b[0mdata_df\u001b[0m\u001b[0;34m=\u001b[0m\u001b[0mnet_trey\u001b[0m\u001b[0;34m.\u001b[0m\u001b[0mres_bus\u001b[0m\u001b[0;34m[\u001b[0m\u001b[0;34m\"vm_pu\"\u001b[0m\u001b[0;34m]\u001b[0m\u001b[0;34m,\u001b[0m\u001b[0;34m\u001b[0m\u001b[0;34m\u001b[0m\u001b[0m\n\u001b[1;32m      3\u001b[0m     \u001b[0mylabel\u001b[0m\u001b[0;34m=\u001b[0m\u001b[0;34m\"V [pu]\"\u001b[0m\u001b[0;34m,\u001b[0m\u001b[0;34m\u001b[0m\u001b[0;34m\u001b[0m\u001b[0m\n\u001b[1;32m      4\u001b[0m     \u001b[0mplot_title\u001b[0m\u001b[0;34m=\u001b[0m\u001b[0;34m\"Bus voltage\"\u001b[0m\u001b[0;34m,\u001b[0m\u001b[0;34m\u001b[0m\u001b[0;34m\u001b[0m\u001b[0m\n",
      "\u001b[0;32m~/miniforge3/lib/python3.12/site-packages/pp_heig_plot.py\u001b[0m in \u001b[0;36m?\u001b[0;34m(data_df, ylabel, plot_title, filename, folder, **kwargs)\u001b[0m\n\u001b[1;32m    339\u001b[0m     \u001b[0;34m**\u001b[0m\u001b[0mkwargs\u001b[0m \u001b[0;34m:\u001b[0m \u001b[0mdict\u001b[0m\u001b[0;34m,\u001b[0m \u001b[0moptional\u001b[0m\u001b[0;34m\u001b[0m\u001b[0;34m\u001b[0m\u001b[0m\n\u001b[1;32m    340\u001b[0m         \u001b[0mEvery\u001b[0m \u001b[0mparameter\u001b[0m \u001b[0mfound\u001b[0m \u001b[0;32min\u001b[0m \u001b[0msave_fig\u001b[0m \u001b[0mfunction\u001b[0m \u001b[0mcould\u001b[0m \u001b[0malso\u001b[0m \u001b[0mbe\u001b[0m \u001b[0madded\u001b[0m \u001b[0;32mif\u001b[0m \u001b[0mneeded\u001b[0m\u001b[0;34m.\u001b[0m\u001b[0;34m\u001b[0m\u001b[0;34m\u001b[0m\u001b[0m\n\u001b[1;32m    341\u001b[0m     \"\"\"\n\u001b[1;32m    342\u001b[0m     \u001b[0mfig\u001b[0m \u001b[0;34m=\u001b[0m \u001b[0mFigure\u001b[0m\u001b[0;34m(\u001b[0m\u001b[0;34m)\u001b[0m\u001b[0;34m\u001b[0m\u001b[0;34m\u001b[0m\u001b[0m\n\u001b[0;32m--> 343\u001b[0;31m     \u001b[0;32mfor\u001b[0m \u001b[0mcol\u001b[0m \u001b[0;32min\u001b[0m \u001b[0mdata_df\u001b[0m\u001b[0;34m.\u001b[0m\u001b[0mcolumns\u001b[0m\u001b[0;34m:\u001b[0m\u001b[0;34m\u001b[0m\u001b[0;34m\u001b[0m\u001b[0m\n\u001b[0m\u001b[1;32m    344\u001b[0m         \u001b[0mhovertemplate\u001b[0m \u001b[0;34m=\u001b[0m \u001b[0m_bold\u001b[0m\u001b[0;34m(\u001b[0m\u001b[0mcol\u001b[0m \u001b[0;34m+\u001b[0m \u001b[0;34m'<br>'\u001b[0m \u001b[0;34m+\u001b[0m \u001b[0mylabel\u001b[0m \u001b[0;34m+\u001b[0m \u001b[0;34m': %{y:.2f}<br>Time: %{text}'\u001b[0m\u001b[0;34m)\u001b[0m \u001b[0;34m+\u001b[0m \u001b[0;34m'<extra></extra>'\u001b[0m\u001b[0;34m\u001b[0m\u001b[0;34m\u001b[0m\u001b[0m\n\u001b[1;32m    345\u001b[0m         fig.add_trace(go.Scatter(\n\u001b[1;32m    346\u001b[0m             \u001b[0mx\u001b[0m\u001b[0;34m=\u001b[0m\u001b[0mlist\u001b[0m\u001b[0;34m(\u001b[0m\u001b[0mrange\u001b[0m\u001b[0;34m(\u001b[0m\u001b[0mdata_df\u001b[0m\u001b[0;34m.\u001b[0m\u001b[0mshape\u001b[0m\u001b[0;34m[\u001b[0m\u001b[0;36m0\u001b[0m\u001b[0;34m]\u001b[0m\u001b[0;34m)\u001b[0m\u001b[0;34m)\u001b[0m\u001b[0;34m,\u001b[0m \u001b[0my\u001b[0m\u001b[0;34m=\u001b[0m\u001b[0mlist\u001b[0m\u001b[0;34m(\u001b[0m\u001b[0mdata_df\u001b[0m\u001b[0;34m[\u001b[0m\u001b[0mcol\u001b[0m\u001b[0;34m]\u001b[0m\u001b[0;34m)\u001b[0m\u001b[0;34m,\u001b[0m \u001b[0mmode\u001b[0m\u001b[0;34m=\u001b[0m\u001b[0;34m'lines'\u001b[0m\u001b[0;34m,\u001b[0m\u001b[0;34m\u001b[0m\u001b[0;34m\u001b[0m\u001b[0m\n",
      "\u001b[0;32m~/miniforge3/lib/python3.12/site-packages/pandas/core/generic.py\u001b[0m in \u001b[0;36m?\u001b[0;34m(self, name)\u001b[0m\n\u001b[1;32m   6295\u001b[0m             \u001b[0;32mand\u001b[0m \u001b[0mname\u001b[0m \u001b[0;32mnot\u001b[0m \u001b[0;32min\u001b[0m \u001b[0mself\u001b[0m\u001b[0;34m.\u001b[0m\u001b[0m_accessors\u001b[0m\u001b[0;34m\u001b[0m\u001b[0;34m\u001b[0m\u001b[0m\n\u001b[1;32m   6296\u001b[0m             \u001b[0;32mand\u001b[0m \u001b[0mself\u001b[0m\u001b[0;34m.\u001b[0m\u001b[0m_info_axis\u001b[0m\u001b[0;34m.\u001b[0m\u001b[0m_can_hold_identifiers_and_holds_name\u001b[0m\u001b[0;34m(\u001b[0m\u001b[0mname\u001b[0m\u001b[0;34m)\u001b[0m\u001b[0;34m\u001b[0m\u001b[0;34m\u001b[0m\u001b[0m\n\u001b[1;32m   6297\u001b[0m         \u001b[0;34m)\u001b[0m\u001b[0;34m:\u001b[0m\u001b[0;34m\u001b[0m\u001b[0;34m\u001b[0m\u001b[0m\n\u001b[1;32m   6298\u001b[0m             \u001b[0;32mreturn\u001b[0m \u001b[0mself\u001b[0m\u001b[0;34m[\u001b[0m\u001b[0mname\u001b[0m\u001b[0;34m]\u001b[0m\u001b[0;34m\u001b[0m\u001b[0;34m\u001b[0m\u001b[0m\n\u001b[0;32m-> 6299\u001b[0;31m         \u001b[0;32mreturn\u001b[0m \u001b[0mobject\u001b[0m\u001b[0;34m.\u001b[0m\u001b[0m__getattribute__\u001b[0m\u001b[0;34m(\u001b[0m\u001b[0mself\u001b[0m\u001b[0;34m,\u001b[0m \u001b[0mname\u001b[0m\u001b[0;34m)\u001b[0m\u001b[0;34m\u001b[0m\u001b[0;34m\u001b[0m\u001b[0m\n\u001b[0m",
      "\u001b[0;31mAttributeError\u001b[0m: 'Series' object has no attribute 'columns'"
     ]
    }
   ],
   "source": [
    "pp_plot.plot_timeseries_result(\n",
    "    data_df=net_trey.res_bus[\"vm_pu\"],\n",
    "    ylabel=\"V [pu]\",\n",
    "    plot_title=\"Bus voltage\",\n",
    "    filename=\"voltage_result\",\n",
    ")"
   ]
  }
 ],
 "metadata": {
  "kernelspec": {
   "display_name": "base",
   "language": "python",
   "name": "python3"
  },
  "language_info": {
   "codemirror_mode": {
    "name": "ipython",
    "version": 3
   },
   "file_extension": ".py",
   "mimetype": "text/x-python",
   "name": "python",
   "nbconvert_exporter": "python",
   "pygments_lexer": "ipython3",
   "version": "3.12.4"
  }
 },
 "nbformat": 4,
 "nbformat_minor": 2
}
